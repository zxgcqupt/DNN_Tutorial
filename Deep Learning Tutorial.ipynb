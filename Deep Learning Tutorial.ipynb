{
 "cells": [
  {
   "cell_type": "code",
   "execution_count": 30,
   "metadata": {},
   "outputs": [
    {
     "name": "stdout",
     "output_type": "stream",
     "text": [
      "Tensorflow version:  1.4.0\n"
     ]
    }
   ],
   "source": [
    "import tensorflow as tf\n",
    "import numpy as np\n",
    "\n",
    "print ('Tensorflow version: ', tf.__version__)"
   ]
  },
  {
   "cell_type": "markdown",
   "metadata": {},
   "source": [
    "## TensorFlow Basics"
   ]
  },
  {
   "cell_type": "markdown",
   "metadata": {},
   "source": [
    "### Tensors"
   ]
  },
  {
   "cell_type": "code",
   "execution_count": 31,
   "metadata": {},
   "outputs": [],
   "source": [
    "hello = tf.constant('Hello')"
   ]
  },
  {
   "cell_type": "code",
   "execution_count": 32,
   "metadata": {},
   "outputs": [
    {
     "data": {
      "text/plain": [
       "tensorflow.python.framework.ops.Tensor"
      ]
     },
     "execution_count": 32,
     "metadata": {},
     "output_type": "execute_result"
    }
   ],
   "source": [
    "type(hello)"
   ]
  },
  {
   "cell_type": "code",
   "execution_count": 4,
   "metadata": {},
   "outputs": [],
   "source": [
    "world = tf.constant('World')"
   ]
  },
  {
   "cell_type": "code",
   "execution_count": 5,
   "metadata": {},
   "outputs": [],
   "source": [
    "result = hello + world"
   ]
  },
  {
   "cell_type": "code",
   "execution_count": 6,
   "metadata": {},
   "outputs": [
    {
     "data": {
      "text/plain": [
       "<tf.Tensor 'add:0' shape=() dtype=string>"
      ]
     },
     "execution_count": 6,
     "metadata": {},
     "output_type": "execute_result"
    }
   ],
   "source": [
    "result"
   ]
  },
  {
   "cell_type": "code",
   "execution_count": 7,
   "metadata": {},
   "outputs": [],
   "source": [
    "with tf.Session() as sess:\n",
    "    result = sess.run(hello+world)"
   ]
  },
  {
   "cell_type": "code",
   "execution_count": 8,
   "metadata": {},
   "outputs": [
    {
     "data": {
      "text/plain": [
       "b'HelloWorld'"
      ]
     },
     "execution_count": 8,
     "metadata": {},
     "output_type": "execute_result"
    }
   ],
   "source": [
    "result"
   ]
  },
  {
   "cell_type": "markdown",
   "metadata": {},
   "source": [
    "### Computations"
   ]
  },
  {
   "cell_type": "code",
   "execution_count": 10,
   "metadata": {},
   "outputs": [],
   "source": [
    "tensor_1 = tf.constant(1)\n",
    "tensor_2 = tf.constant(2)"
   ]
  },
  {
   "cell_type": "code",
   "execution_count": 11,
   "metadata": {},
   "outputs": [],
   "source": [
    "res = tensor_1 + tensor_2"
   ]
  },
  {
   "cell_type": "code",
   "execution_count": 12,
   "metadata": {},
   "outputs": [
    {
     "data": {
      "text/plain": [
       "tensorflow.python.framework.ops.Tensor"
      ]
     },
     "execution_count": 12,
     "metadata": {},
     "output_type": "execute_result"
    }
   ],
   "source": [
    "type(res)"
   ]
  },
  {
   "cell_type": "code",
   "execution_count": 14,
   "metadata": {},
   "outputs": [
    {
     "data": {
      "text/plain": [
       "3"
      ]
     },
     "execution_count": 14,
     "metadata": {},
     "output_type": "execute_result"
    }
   ],
   "source": [
    "with tf.Session() as sess:\n",
    "    res = sess.run(tensor_1 + tensor_2)\n",
    "res"
   ]
  },
  {
   "cell_type": "markdown",
   "metadata": {},
   "source": [
    "### Matrix Operations"
   ]
  },
  {
   "cell_type": "code",
   "execution_count": 23,
   "metadata": {},
   "outputs": [],
   "source": [
    "sess = tf.InteractiveSession()\n",
    "fill_mat = tf.fill((4,4),10)\n",
    "myzeros = tf.zeros((4,4))\n",
    "myrandn = tf.random_normal((4,4),mean=0,stddev=0.5)"
   ]
  },
  {
   "cell_type": "code",
   "execution_count": 24,
   "metadata": {},
   "outputs": [
    {
     "data": {
      "text/plain": [
       "TensorShape([Dimension(2), Dimension(2)])"
      ]
     },
     "execution_count": 24,
     "metadata": {},
     "output_type": "execute_result"
    }
   ],
   "source": [
    "a = tf.constant([ [1,2],\n",
    "                  [3,4] ])\n",
    "a.get_shape()"
   ]
  },
  {
   "cell_type": "code",
   "execution_count": 25,
   "metadata": {},
   "outputs": [
    {
     "data": {
      "text/plain": [
       "TensorShape([Dimension(2), Dimension(1)])"
      ]
     },
     "execution_count": 25,
     "metadata": {},
     "output_type": "execute_result"
    }
   ],
   "source": [
    "b = tf.constant([[10],[100]])\n",
    "\n",
    "b.get_shape()"
   ]
  },
  {
   "cell_type": "code",
   "execution_count": 26,
   "metadata": {},
   "outputs": [
    {
     "data": {
      "text/plain": [
       "array([[210],\n",
       "       [430]])"
      ]
     },
     "execution_count": 26,
     "metadata": {},
     "output_type": "execute_result"
    }
   ],
   "source": [
    "result = tf.matmul(a,b)\n",
    "result.eval()"
   ]
  },
  {
   "cell_type": "markdown",
   "metadata": {},
   "source": [
    "### Variables and Placeholders"
   ]
  },
  {
   "cell_type": "code",
   "execution_count": 27,
   "metadata": {},
   "outputs": [],
   "source": [
    "my_tensor = tf.random_uniform((4,4),0,1)\n",
    "\n",
    "my_var = tf.Variable(initial_value=my_tensor)"
   ]
  },
  {
   "cell_type": "code",
   "execution_count": 28,
   "metadata": {},
   "outputs": [
    {
     "data": {
      "text/plain": [
       "array([[0.68843925, 0.06951118, 0.4767313 , 0.34576714],\n",
       "       [0.5772841 , 0.6287644 , 0.74237597, 0.37395048],\n",
       "       [0.7068802 , 0.3391198 , 0.48243117, 0.47480857],\n",
       "       [0.670897  , 0.04317081, 0.9839406 , 0.28229344]], dtype=float32)"
      ]
     },
     "execution_count": 28,
     "metadata": {},
     "output_type": "execute_result"
    }
   ],
   "source": [
    "## Attention: all the global variables must be initialized before they can be used\n",
    "init = tf.global_variables_initializer()\n",
    "init.run()\n",
    "my_var.eval()"
   ]
  },
  {
   "cell_type": "code",
   "execution_count": 29,
   "metadata": {},
   "outputs": [],
   "source": [
    "ph = tf.placeholder(tf.float64)"
   ]
  },
  {
   "cell_type": "markdown",
   "metadata": {},
   "source": [
    "# Regression"
   ]
  },
  {
   "cell_type": "markdown",
   "metadata": {},
   "source": [
    "### Create dataset"
   ]
  },
  {
   "cell_type": "code",
   "execution_count": 209,
   "metadata": {},
   "outputs": [
    {
     "data": {
      "text/plain": [
       "[<matplotlib.lines.Line2D at 0x2ad18748668>]"
      ]
     },
     "execution_count": 209,
     "metadata": {},
     "output_type": "execute_result"
    },
    {
     "data": {
      "image/png": "[encoded data removed]",
      "text/plain": [
       "<matplotlib.figure.Figure at 0x2ad11d82898>"
      ]
     },
     "metadata": {},
     "output_type": "display_data"
    }
   ],
   "source": [
    "import numpy as np\n",
    "import matplotlib.pyplot as plt\n",
    "import pandas as pd\n",
    "\n",
    "samples = 1000\n",
    "x = np.linspace(0, 50, samples).astype(np.float32)\n",
    "noise = np.random.normal(loc = 0, scale = 0.08, size = samples)\n",
    "\n",
    "y = 2*np.sin(x/3) + 1.5*x**0.5 + x/10 + noise\n",
    "y = y.astype(np.float32)\n",
    "\n",
    "%matplotlib inline\n",
    "plt.plot(x, y)"
   ]
  },
  {
   "cell_type": "markdown",
   "metadata": {},
   "source": [
    "### Split the dataset"
   ]
  },
  {
   "cell_type": "code",
   "execution_count": 210,
   "metadata": {},
   "outputs": [],
   "source": [
    "from sklearn.model_selection import train_test_split\n",
    "test_size = 0.2\n",
    "x_train, x_test, y_train, y_test = train_test_split(x, y, test_size = test_size, random_state= 101)"
   ]
  },
  {
   "cell_type": "markdown",
   "metadata": {},
   "source": [
    "### Create deep learning-based regression model"
   ]
  },
  {
   "cell_type": "code",
   "execution_count": 211,
   "metadata": {},
   "outputs": [
    {
     "name": "stdout",
     "output_type": "stream",
     "text": [
      "INFO:tensorflow:Using default config.\n",
      "WARNING:tensorflow:Using temporary folder as model directory: C:\\Users\\ZHANGX~1\\AppData\\Local\\Temp\\tmpvpal5n3b\n",
      "INFO:tensorflow:Using config: {'_model_dir': 'C:\\\\Users\\\\ZHANGX~1\\\\AppData\\\\Local\\\\Temp\\\\tmpvpal5n3b', '_tf_random_seed': None, '_save_summary_steps': 100, '_save_checkpoints_steps': None, '_save_checkpoints_secs': 600, '_session_config': None, '_keep_checkpoint_max': 5, '_keep_checkpoint_every_n_hours': 10000, '_log_step_count_steps': 100, '_service': None, '_cluster_spec': <tensorflow.python.training.server_lib.ClusterSpec object at 0x000002AD15A21668>, '_task_type': 'worker', '_task_id': 0, '_master': '', '_is_chief': True, '_num_ps_replicas': 0, '_num_worker_replicas': 1}\n",
      "INFO:tensorflow:Create CheckpointSaverHook.\n",
      "INFO:tensorflow:Saving checkpoints for 1 into C:\\Users\\ZHANGX~1\\AppData\\Local\\Temp\\tmpvpal5n3b\\model.ckpt.\n",
      "INFO:tensorflow:loss = 2192.124, step = 1\n",
      "INFO:tensorflow:global_step/sec: 846.831\n",
      "INFO:tensorflow:loss = 36.093754, step = 101 (0.119 sec)\n",
      "INFO:tensorflow:global_step/sec: 1314.93\n",
      "INFO:tensorflow:loss = 82.24251, step = 201 (0.077 sec)\n",
      "INFO:tensorflow:global_step/sec: 1264.93\n",
      "INFO:tensorflow:loss = 64.63651, step = 301 (0.078 sec)\n",
      "INFO:tensorflow:global_step/sec: 1332.38\n",
      "INFO:tensorflow:loss = 49.73316, step = 401 (0.075 sec)\n",
      "INFO:tensorflow:global_step/sec: 1407.45\n",
      "INFO:tensorflow:loss = 38.435642, step = 501 (0.071 sec)\n",
      "INFO:tensorflow:global_step/sec: 1427.58\n",
      "INFO:tensorflow:loss = 41.796036, step = 601 (0.071 sec)\n",
      "INFO:tensorflow:global_step/sec: 1314.85\n",
      "INFO:tensorflow:loss = 48.397118, step = 701 (0.075 sec)\n",
      "INFO:tensorflow:global_step/sec: 1264.93\n",
      "INFO:tensorflow:loss = 30.051584, step = 801 (0.079 sec)\n",
      "INFO:tensorflow:global_step/sec: 1407.45\n",
      "INFO:tensorflow:loss = 30.799337, step = 901 (0.071 sec)\n",
      "INFO:tensorflow:global_step/sec: 1314.87\n",
      "INFO:tensorflow:loss = 43.588627, step = 1001 (0.077 sec)\n",
      "INFO:tensorflow:global_step/sec: 1314.86\n",
      "INFO:tensorflow:loss = 35.44363, step = 1101 (0.076 sec)\n",
      "INFO:tensorflow:global_step/sec: 1281.14\n",
      "INFO:tensorflow:loss = 31.12275, step = 1201 (0.076 sec)\n",
      "INFO:tensorflow:global_step/sec: 1448.26\n",
      "INFO:tensorflow:loss = 43.284706, step = 1301 (0.072 sec)\n",
      "INFO:tensorflow:global_step/sec: 1233.69\n",
      "INFO:tensorflow:loss = 34.966343, step = 1401 (0.080 sec)\n",
      "INFO:tensorflow:global_step/sec: 1233.69\n",
      "INFO:tensorflow:loss = 32.550537, step = 1501 (0.080 sec)\n",
      "INFO:tensorflow:global_step/sec: 1387.91\n",
      "INFO:tensorflow:loss = 30.783543, step = 1601 (0.073 sec)\n",
      "INFO:tensorflow:global_step/sec: 1368.89\n",
      "INFO:tensorflow:loss = 34.999256, step = 1701 (0.072 sec)\n",
      "INFO:tensorflow:global_step/sec: 1332.39\n",
      "INFO:tensorflow:loss = 26.583317, step = 1801 (0.076 sec)\n",
      "INFO:tensorflow:global_step/sec: 1264.93\n",
      "INFO:tensorflow:loss = 24.639137, step = 1901 (0.079 sec)\n",
      "INFO:tensorflow:global_step/sec: 1314.86\n",
      "INFO:tensorflow:loss = 27.968113, step = 2001 (0.076 sec)\n",
      "INFO:tensorflow:global_step/sec: 1387.9\n",
      "INFO:tensorflow:loss = 28.2169, step = 2101 (0.071 sec)\n",
      "INFO:tensorflow:global_step/sec: 1469.55\n",
      "INFO:tensorflow:loss = 43.063446, step = 2201 (0.068 sec)\n",
      "INFO:tensorflow:global_step/sec: 1427.56\n",
      "INFO:tensorflow:loss = 36.382088, step = 2301 (0.070 sec)\n",
      "INFO:tensorflow:global_step/sec: 1264.94\n",
      "INFO:tensorflow:loss = 45.525993, step = 2401 (0.080 sec)\n",
      "INFO:tensorflow:global_step/sec: 1218.63\n",
      "INFO:tensorflow:loss = 25.54507, step = 2501 (0.080 sec)\n",
      "INFO:tensorflow:global_step/sec: 1407.46\n",
      "INFO:tensorflow:loss = 33.078064, step = 2601 (0.074 sec)\n",
      "INFO:tensorflow:global_step/sec: 1249.13\n",
      "INFO:tensorflow:loss = 28.11552, step = 2701 (0.079 sec)\n",
      "INFO:tensorflow:global_step/sec: 1297.78\n",
      "INFO:tensorflow:loss = 36.670288, step = 2801 (0.077 sec)\n",
      "INFO:tensorflow:global_step/sec: 1407.46\n",
      "INFO:tensorflow:loss = 30.599747, step = 2901 (0.069 sec)\n",
      "INFO:tensorflow:global_step/sec: 1448.24\n",
      "INFO:tensorflow:loss = 22.026455, step = 3001 (0.069 sec)\n",
      "INFO:tensorflow:global_step/sec: 1350.39\n",
      "INFO:tensorflow:loss = 29.393444, step = 3101 (0.077 sec)\n",
      "INFO:tensorflow:global_step/sec: 1233.71\n",
      "INFO:tensorflow:loss = 25.860191, step = 3201 (0.080 sec)\n",
      "INFO:tensorflow:global_step/sec: 1314.86\n",
      "INFO:tensorflow:loss = 16.348928, step = 3301 (0.076 sec)\n",
      "INFO:tensorflow:global_step/sec: 1368.89\n",
      "INFO:tensorflow:loss = 11.967874, step = 3401 (0.072 sec)\n",
      "INFO:tensorflow:global_step/sec: 1350.4\n",
      "INFO:tensorflow:loss = 26.575472, step = 3501 (0.076 sec)\n",
      "INFO:tensorflow:global_step/sec: 1297.78\n",
      "INFO:tensorflow:loss = 22.220076, step = 3601 (0.077 sec)\n",
      "INFO:tensorflow:global_step/sec: 1297.78\n",
      "INFO:tensorflow:loss = 21.484894, step = 3701 (0.075 sec)\n",
      "INFO:tensorflow:global_step/sec: 1448.25\n",
      "INFO:tensorflow:loss = 13.567808, step = 3801 (0.069 sec)\n",
      "INFO:tensorflow:global_step/sec: 1469.55\n",
      "INFO:tensorflow:loss = 19.195404, step = 3901 (0.067 sec)\n",
      "INFO:tensorflow:global_step/sec: 1491.49\n",
      "INFO:tensorflow:loss = 23.556805, step = 4001 (0.067 sec)\n",
      "INFO:tensorflow:global_step/sec: 1491.47\n",
      "INFO:tensorflow:loss = 9.743069, step = 4101 (0.068 sec)\n",
      "INFO:tensorflow:global_step/sec: 1491.49\n",
      "INFO:tensorflow:loss = 18.397484, step = 4201 (0.067 sec)\n",
      "INFO:tensorflow:global_step/sec: 1469.55\n",
      "INFO:tensorflow:loss = 20.543724, step = 4301 (0.068 sec)\n",
      "INFO:tensorflow:global_step/sec: 1491.48\n",
      "INFO:tensorflow:loss = 11.946486, step = 4401 (0.068 sec)\n",
      "INFO:tensorflow:global_step/sec: 1448.25\n",
      "INFO:tensorflow:loss = 13.302292, step = 4501 (0.069 sec)\n",
      "INFO:tensorflow:global_step/sec: 1448.25\n",
      "INFO:tensorflow:loss = 8.8006115, step = 4601 (0.068 sec)\n",
      "INFO:tensorflow:global_step/sec: 1491.48\n",
      "INFO:tensorflow:loss = 16.993172, step = 4701 (0.067 sec)\n",
      "INFO:tensorflow:global_step/sec: 1469.55\n",
      "INFO:tensorflow:loss = 12.6979685, step = 4801 (0.070 sec)\n",
      "INFO:tensorflow:global_step/sec: 1368.89\n",
      "INFO:tensorflow:loss = 7.2818336, step = 4901 (0.071 sec)\n",
      "INFO:tensorflow:global_step/sec: 1427.56\n",
      "INFO:tensorflow:loss = 7.893366, step = 5001 (0.072 sec)\n",
      "INFO:tensorflow:global_step/sec: 1427.56\n",
      "INFO:tensorflow:loss = 12.224989, step = 5101 (0.069 sec)\n",
      "INFO:tensorflow:global_step/sec: 1448.25\n",
      "INFO:tensorflow:loss = 14.987392, step = 5201 (0.069 sec)\n",
      "INFO:tensorflow:global_step/sec: 1368.89\n",
      "INFO:tensorflow:loss = 6.1545925, step = 5301 (0.072 sec)\n",
      "INFO:tensorflow:global_step/sec: 1448.26\n",
      "INFO:tensorflow:loss = 7.0063934, step = 5401 (0.069 sec)\n",
      "INFO:tensorflow:global_step/sec: 1469.55\n",
      "INFO:tensorflow:loss = 11.933006, step = 5501 (0.068 sec)\n",
      "INFO:tensorflow:global_step/sec: 1469.54\n",
      "INFO:tensorflow:loss = 8.433659, step = 5601 (0.069 sec)\n",
      "INFO:tensorflow:global_step/sec: 1407.45\n",
      "INFO:tensorflow:loss = 8.2000475, step = 5701 (0.071 sec)\n",
      "INFO:tensorflow:global_step/sec: 1427.56\n",
      "INFO:tensorflow:loss = 8.205733, step = 5801 (0.069 sec)\n",
      "INFO:tensorflow:global_step/sec: 1448.25\n",
      "INFO:tensorflow:loss = 2.2328548, step = 5901 (0.069 sec)\n",
      "INFO:tensorflow:global_step/sec: 1427.56\n",
      "INFO:tensorflow:loss = 11.677765, step = 6001 (0.070 sec)\n",
      "INFO:tensorflow:global_step/sec: 1368.9\n",
      "INFO:tensorflow:loss = 1.7117928, step = 6101 (0.074 sec)\n",
      "INFO:tensorflow:global_step/sec: 1387.9\n",
      "INFO:tensorflow:loss = 10.822811, step = 6201 (0.072 sec)\n",
      "INFO:tensorflow:global_step/sec: 1387.91\n",
      "INFO:tensorflow:loss = 10.317031, step = 6301 (0.071 sec)\n",
      "INFO:tensorflow:global_step/sec: 1469.54\n",
      "INFO:tensorflow:loss = 9.160005, step = 6401 (0.068 sec)\n",
      "INFO:tensorflow:global_step/sec: 1427.57\n",
      "INFO:tensorflow:loss = 5.8071547, step = 6501 (0.070 sec)\n",
      "INFO:tensorflow:global_step/sec: 1387.9\n",
      "INFO:tensorflow:loss = 14.772783, step = 6601 (0.072 sec)\n",
      "INFO:tensorflow:global_step/sec: 1350.4\n",
      "INFO:tensorflow:loss = 12.830661, step = 6701 (0.074 sec)\n",
      "INFO:tensorflow:global_step/sec: 1387.91\n",
      "INFO:tensorflow:loss = 9.58063, step = 6801 (0.072 sec)\n",
      "INFO:tensorflow:global_step/sec: 1469.54\n",
      "INFO:tensorflow:loss = 9.673733, step = 6901 (0.068 sec)\n",
      "INFO:tensorflow:global_step/sec: 1469.56\n",
      "INFO:tensorflow:loss = 6.769002, step = 7001 (0.068 sec)\n",
      "INFO:tensorflow:global_step/sec: 1448.25\n",
      "INFO:tensorflow:loss = 7.6196404, step = 7101 (0.070 sec)\n",
      "INFO:tensorflow:global_step/sec: 1407.45\n",
      "INFO:tensorflow:loss = 8.525478, step = 7201 (0.071 sec)\n",
      "INFO:tensorflow:global_step/sec: 1368.89\n",
      "INFO:tensorflow:loss = 3.319665, step = 7301 (0.071 sec)\n",
      "INFO:tensorflow:global_step/sec: 1427.57\n",
      "INFO:tensorflow:loss = 4.202496, step = 7401 (0.071 sec)\n"
     ]
    },
    {
     "name": "stdout",
     "output_type": "stream",
     "text": [
      "INFO:tensorflow:global_step/sec: 1368.88\n",
      "INFO:tensorflow:loss = 2.0603611, step = 7501 (0.073 sec)\n",
      "INFO:tensorflow:global_step/sec: 1469.55\n",
      "INFO:tensorflow:loss = 3.2513747, step = 7601 (0.068 sec)\n",
      "INFO:tensorflow:global_step/sec: 1427.57\n",
      "INFO:tensorflow:loss = 6.0253034, step = 7701 (0.070 sec)\n",
      "INFO:tensorflow:global_step/sec: 1368.9\n",
      "INFO:tensorflow:loss = 4.643938, step = 7801 (0.073 sec)\n",
      "INFO:tensorflow:global_step/sec: 1368.9\n",
      "INFO:tensorflow:loss = 2.0070512, step = 7901 (0.074 sec)\n",
      "INFO:tensorflow:global_step/sec: 1387.9\n",
      "INFO:tensorflow:loss = 3.755514, step = 8001 (0.072 sec)\n",
      "INFO:tensorflow:global_step/sec: 1368.89\n",
      "INFO:tensorflow:loss = 1.63737, step = 8101 (0.072 sec)\n",
      "INFO:tensorflow:global_step/sec: 1448.24\n",
      "INFO:tensorflow:loss = 2.8474276, step = 8201 (0.068 sec)\n",
      "INFO:tensorflow:global_step/sec: 1387.92\n",
      "INFO:tensorflow:loss = 1.2866398, step = 8301 (0.073 sec)\n",
      "INFO:tensorflow:global_step/sec: 1332.39\n",
      "INFO:tensorflow:loss = 1.5317633, step = 8401 (0.075 sec)\n",
      "INFO:tensorflow:global_step/sec: 1387.91\n",
      "INFO:tensorflow:loss = 2.645616, step = 8501 (0.072 sec)\n",
      "INFO:tensorflow:global_step/sec: 1448.24\n",
      "INFO:tensorflow:loss = 2.5337586, step = 8601 (0.068 sec)\n",
      "INFO:tensorflow:global_step/sec: 1469.55\n",
      "INFO:tensorflow:loss = 0.62898326, step = 8701 (0.069 sec)\n",
      "INFO:tensorflow:global_step/sec: 1448.25\n",
      "INFO:tensorflow:loss = 0.61648977, step = 8801 (0.070 sec)\n",
      "INFO:tensorflow:global_step/sec: 1448.25\n",
      "INFO:tensorflow:loss = 0.41932243, step = 8901 (0.068 sec)\n",
      "INFO:tensorflow:global_step/sec: 1469.55\n",
      "INFO:tensorflow:loss = 0.45148212, step = 9001 (0.069 sec)\n",
      "INFO:tensorflow:global_step/sec: 1448.25\n",
      "INFO:tensorflow:loss = 0.31657904, step = 9101 (0.068 sec)\n",
      "INFO:tensorflow:global_step/sec: 1407.46\n",
      "INFO:tensorflow:loss = 11.718472, step = 9201 (0.071 sec)\n",
      "INFO:tensorflow:global_step/sec: 1469.54\n",
      "INFO:tensorflow:loss = 0.3283746, step = 9301 (0.067 sec)\n",
      "INFO:tensorflow:global_step/sec: 1514.09\n",
      "INFO:tensorflow:loss = 0.43113846, step = 9401 (0.066 sec)\n",
      "INFO:tensorflow:global_step/sec: 1514.07\n",
      "INFO:tensorflow:loss = 2.1836529, step = 9501 (0.067 sec)\n",
      "INFO:tensorflow:global_step/sec: 1469.55\n",
      "INFO:tensorflow:loss = 0.2812051, step = 9601 (0.067 sec)\n",
      "INFO:tensorflow:global_step/sec: 1537.36\n",
      "INFO:tensorflow:loss = 0.530319, step = 9701 (0.065 sec)\n",
      "INFO:tensorflow:global_step/sec: 1537.38\n",
      "INFO:tensorflow:loss = 1.0794315, step = 9801 (0.066 sec)\n",
      "INFO:tensorflow:global_step/sec: 1491.47\n",
      "INFO:tensorflow:loss = 1.4206442, step = 9901 (0.068 sec)\n",
      "INFO:tensorflow:global_step/sec: 1491.48\n",
      "INFO:tensorflow:loss = 2.1205883, step = 10001 (0.066 sec)\n",
      "INFO:tensorflow:global_step/sec: 1537.4\n",
      "INFO:tensorflow:loss = 0.5746988, step = 10101 (0.065 sec)\n",
      "INFO:tensorflow:global_step/sec: 1514.06\n",
      "INFO:tensorflow:loss = 0.30568534, step = 10201 (0.066 sec)\n",
      "INFO:tensorflow:global_step/sec: 1491.48\n",
      "INFO:tensorflow:loss = 0.3669333, step = 10301 (0.066 sec)\n",
      "INFO:tensorflow:global_step/sec: 1491.49\n",
      "INFO:tensorflow:loss = 0.16971919, step = 10401 (0.068 sec)\n",
      "INFO:tensorflow:global_step/sec: 1491.48\n",
      "INFO:tensorflow:loss = 0.7370243, step = 10501 (0.067 sec)\n",
      "INFO:tensorflow:global_step/sec: 1514.09\n",
      "INFO:tensorflow:loss = 0.27012545, step = 10601 (0.066 sec)\n",
      "INFO:tensorflow:global_step/sec: 1491.48\n",
      "INFO:tensorflow:loss = 0.42079127, step = 10701 (0.067 sec)\n",
      "INFO:tensorflow:global_step/sec: 1469.53\n",
      "INFO:tensorflow:loss = 2.754825, step = 10801 (0.068 sec)\n",
      "INFO:tensorflow:global_step/sec: 1469.56\n",
      "INFO:tensorflow:loss = 0.23000267, step = 10901 (0.069 sec)\n",
      "INFO:tensorflow:global_step/sec: 1448.26\n",
      "INFO:tensorflow:loss = 0.4254841, step = 11001 (0.068 sec)\n",
      "INFO:tensorflow:global_step/sec: 1407.45\n",
      "INFO:tensorflow:loss = 0.7206419, step = 11101 (0.072 sec)\n",
      "INFO:tensorflow:global_step/sec: 1427.56\n",
      "INFO:tensorflow:loss = 0.61394674, step = 11201 (0.068 sec)\n",
      "INFO:tensorflow:global_step/sec: 1514.08\n",
      "INFO:tensorflow:loss = 2.1006477, step = 11301 (0.066 sec)\n",
      "INFO:tensorflow:global_step/sec: 1469.56\n",
      "INFO:tensorflow:loss = 0.1721935, step = 11401 (0.069 sec)\n",
      "INFO:tensorflow:global_step/sec: 1469.54\n",
      "INFO:tensorflow:loss = 0.21919063, step = 11501 (0.068 sec)\n",
      "INFO:tensorflow:global_step/sec: 1448.25\n",
      "INFO:tensorflow:loss = 1.6072991, step = 11601 (0.069 sec)\n",
      "INFO:tensorflow:global_step/sec: 1469.56\n",
      "INFO:tensorflow:loss = 1.1664541, step = 11701 (0.068 sec)\n",
      "INFO:tensorflow:global_step/sec: 1448.25\n",
      "INFO:tensorflow:loss = 0.23263949, step = 11801 (0.070 sec)\n",
      "INFO:tensorflow:global_step/sec: 1427.56\n",
      "INFO:tensorflow:loss = 0.8131041, step = 11901 (0.069 sec)\n",
      "INFO:tensorflow:global_step/sec: 1448.25\n",
      "INFO:tensorflow:loss = 0.34654856, step = 12001 (0.069 sec)\n",
      "INFO:tensorflow:global_step/sec: 1448.24\n",
      "INFO:tensorflow:loss = 0.2781753, step = 12101 (0.069 sec)\n",
      "INFO:tensorflow:global_step/sec: 1448.26\n",
      "INFO:tensorflow:loss = 0.28750128, step = 12201 (0.068 sec)\n",
      "INFO:tensorflow:global_step/sec: 1469.55\n",
      "INFO:tensorflow:loss = 0.33466983, step = 12301 (0.069 sec)\n",
      "INFO:tensorflow:global_step/sec: 1469.55\n",
      "INFO:tensorflow:loss = 0.4676848, step = 12401 (0.068 sec)\n",
      "INFO:tensorflow:global_step/sec: 1407.45\n",
      "INFO:tensorflow:loss = 3.637151, step = 12501 (0.071 sec)\n",
      "INFO:tensorflow:global_step/sec: 1427.56\n",
      "INFO:tensorflow:loss = 0.1683098, step = 12601 (0.070 sec)\n",
      "INFO:tensorflow:global_step/sec: 1491.48\n",
      "INFO:tensorflow:loss = 0.15428916, step = 12701 (0.069 sec)\n",
      "INFO:tensorflow:global_step/sec: 1368.9\n",
      "INFO:tensorflow:loss = 0.42546964, step = 12801 (0.072 sec)\n",
      "INFO:tensorflow:global_step/sec: 1448.25\n",
      "INFO:tensorflow:loss = 0.632403, step = 12901 (0.068 sec)\n",
      "INFO:tensorflow:global_step/sec: 1469.55\n",
      "INFO:tensorflow:loss = 0.44867715, step = 13001 (0.069 sec)\n",
      "INFO:tensorflow:global_step/sec: 1407.46\n",
      "INFO:tensorflow:loss = 0.57388496, step = 13101 (0.070 sec)\n",
      "INFO:tensorflow:global_step/sec: 1427.57\n",
      "INFO:tensorflow:loss = 0.4050929, step = 13201 (0.070 sec)\n",
      "INFO:tensorflow:global_step/sec: 1448.25\n",
      "INFO:tensorflow:loss = 0.3662874, step = 13301 (0.068 sec)\n",
      "INFO:tensorflow:global_step/sec: 1448.24\n",
      "INFO:tensorflow:loss = 0.30931473, step = 13401 (0.069 sec)\n",
      "INFO:tensorflow:global_step/sec: 1448.25\n",
      "INFO:tensorflow:loss = 0.17982924, step = 13501 (0.071 sec)\n",
      "INFO:tensorflow:global_step/sec: 1427.57\n",
      "INFO:tensorflow:loss = 0.2489531, step = 13601 (0.070 sec)\n",
      "INFO:tensorflow:global_step/sec: 1427.56\n",
      "INFO:tensorflow:loss = 0.4154188, step = 13701 (0.071 sec)\n",
      "INFO:tensorflow:global_step/sec: 1407.45\n",
      "INFO:tensorflow:loss = 3.1474519, step = 13801 (0.068 sec)\n",
      "INFO:tensorflow:global_step/sec: 1448.25\n",
      "INFO:tensorflow:loss = 3.5294428, step = 13901 (0.071 sec)\n",
      "INFO:tensorflow:global_step/sec: 1368.88\n",
      "INFO:tensorflow:loss = 0.20858656, step = 14001 (0.071 sec)\n",
      "INFO:tensorflow:global_step/sec: 1448.27\n",
      "INFO:tensorflow:loss = 1.4202735, step = 14101 (0.069 sec)\n",
      "INFO:tensorflow:global_step/sec: 1469.55\n",
      "INFO:tensorflow:loss = 0.31688845, step = 14201 (0.070 sec)\n",
      "INFO:tensorflow:global_step/sec: 1407.44\n",
      "INFO:tensorflow:loss = 0.4086983, step = 14301 (0.070 sec)\n",
      "INFO:tensorflow:global_step/sec: 1448.25\n",
      "INFO:tensorflow:loss = 1.4892832, step = 14401 (0.069 sec)\n",
      "INFO:tensorflow:global_step/sec: 1448.26\n",
      "INFO:tensorflow:loss = 0.40233868, step = 14501 (0.069 sec)\n",
      "INFO:tensorflow:global_step/sec: 1448.25\n",
      "INFO:tensorflow:loss = 0.3448161, step = 14601 (0.069 sec)\n",
      "INFO:tensorflow:global_step/sec: 1427.55\n",
      "INFO:tensorflow:loss = 0.7064922, step = 14701 (0.069 sec)\n",
      "INFO:tensorflow:global_step/sec: 1448.25\n",
      "INFO:tensorflow:loss = 2.2239609, step = 14801 (0.071 sec)\n",
      "INFO:tensorflow:global_step/sec: 1407.45\n",
      "INFO:tensorflow:loss = 0.6208631, step = 14901 (0.071 sec)\n",
      "INFO:tensorflow:global_step/sec: 1427.56\n",
      "INFO:tensorflow:loss = 0.31225622, step = 15001 (0.070 sec)\n",
      "INFO:tensorflow:global_step/sec: 1427.57\n",
      "INFO:tensorflow:loss = 0.24573773, step = 15101 (0.070 sec)\n",
      "INFO:tensorflow:global_step/sec: 1448.24\n",
      "INFO:tensorflow:loss = 0.44602633, step = 15201 (0.068 sec)\n",
      "INFO:tensorflow:global_step/sec: 1491.48\n",
      "INFO:tensorflow:loss = 1.6329141, step = 15301 (0.067 sec)\n",
      "INFO:tensorflow:global_step/sec: 1427.57\n",
      "INFO:tensorflow:loss = 0.45798945, step = 15401 (0.070 sec)\n",
      "INFO:tensorflow:global_step/sec: 1469.54\n",
      "INFO:tensorflow:loss = 0.37006587, step = 15501 (0.069 sec)\n",
      "INFO:tensorflow:global_step/sec: 1448.24\n",
      "INFO:tensorflow:loss = 0.59568614, step = 15601 (0.069 sec)\n"
     ]
    },
    {
     "name": "stdout",
     "output_type": "stream",
     "text": [
      "INFO:tensorflow:global_step/sec: 1448.25\n",
      "INFO:tensorflow:loss = 0.53530896, step = 15701 (0.067 sec)\n",
      "INFO:tensorflow:global_step/sec: 1514.08\n",
      "INFO:tensorflow:loss = 0.64161325, step = 15801 (0.066 sec)\n",
      "INFO:tensorflow:global_step/sec: 1514.08\n",
      "INFO:tensorflow:loss = 0.1761876, step = 15901 (0.067 sec)\n",
      "INFO:tensorflow:global_step/sec: 1448.26\n",
      "INFO:tensorflow:loss = 0.22968647, step = 16001 (0.069 sec)\n",
      "INFO:tensorflow:global_step/sec: 1514.07\n",
      "INFO:tensorflow:loss = 0.19217533, step = 16101 (0.066 sec)\n",
      "INFO:tensorflow:global_step/sec: 1514.09\n",
      "INFO:tensorflow:loss = 0.52070683, step = 16201 (0.066 sec)\n",
      "INFO:tensorflow:global_step/sec: 1537.37\n",
      "INFO:tensorflow:loss = 1.7870309, step = 16301 (0.065 sec)\n",
      "INFO:tensorflow:global_step/sec: 1514.08\n",
      "INFO:tensorflow:loss = 0.4341963, step = 16401 (0.067 sec)\n",
      "INFO:tensorflow:global_step/sec: 1491.49\n",
      "INFO:tensorflow:loss = 0.21587126, step = 16501 (0.066 sec)\n",
      "INFO:tensorflow:global_step/sec: 1491.47\n",
      "INFO:tensorflow:loss = 0.24920104, step = 16601 (0.066 sec)\n",
      "INFO:tensorflow:global_step/sec: 1514.1\n",
      "INFO:tensorflow:loss = 0.21166438, step = 16701 (0.068 sec)\n",
      "INFO:tensorflow:global_step/sec: 1448.24\n",
      "INFO:tensorflow:loss = 0.42360473, step = 16801 (0.069 sec)\n",
      "INFO:tensorflow:global_step/sec: 1427.56\n",
      "INFO:tensorflow:loss = 1.4960144, step = 16901 (0.069 sec)\n",
      "INFO:tensorflow:global_step/sec: 1491.49\n",
      "INFO:tensorflow:loss = 0.26281905, step = 17001 (0.067 sec)\n",
      "INFO:tensorflow:global_step/sec: 1491.47\n",
      "INFO:tensorflow:loss = 0.28981227, step = 17101 (0.067 sec)\n",
      "INFO:tensorflow:global_step/sec: 1448.26\n",
      "INFO:tensorflow:loss = 0.53960913, step = 17201 (0.069 sec)\n",
      "INFO:tensorflow:global_step/sec: 1448.24\n",
      "INFO:tensorflow:loss = 0.6518585, step = 17301 (0.070 sec)\n",
      "INFO:tensorflow:global_step/sec: 1448.25\n",
      "INFO:tensorflow:loss = 0.47625524, step = 17401 (0.068 sec)\n",
      "INFO:tensorflow:global_step/sec: 1469.56\n",
      "INFO:tensorflow:loss = 0.25492507, step = 17501 (0.069 sec)\n",
      "INFO:tensorflow:global_step/sec: 1448.25\n",
      "INFO:tensorflow:loss = 0.16258602, step = 17601 (0.068 sec)\n",
      "INFO:tensorflow:global_step/sec: 1491.48\n",
      "INFO:tensorflow:loss = 0.25073653, step = 17701 (0.066 sec)\n",
      "INFO:tensorflow:global_step/sec: 1469.55\n",
      "INFO:tensorflow:loss = 0.73523617, step = 17801 (0.069 sec)\n",
      "INFO:tensorflow:global_step/sec: 1469.54\n",
      "INFO:tensorflow:loss = 0.39480963, step = 17901 (0.068 sec)\n",
      "INFO:tensorflow:global_step/sec: 1448.26\n",
      "INFO:tensorflow:loss = 0.8718774, step = 18001 (0.069 sec)\n",
      "INFO:tensorflow:global_step/sec: 1469.55\n",
      "INFO:tensorflow:loss = 0.47783208, step = 18101 (0.068 sec)\n",
      "INFO:tensorflow:global_step/sec: 1448.25\n",
      "INFO:tensorflow:loss = 0.72071576, step = 18201 (0.069 sec)\n",
      "INFO:tensorflow:global_step/sec: 1387.9\n",
      "INFO:tensorflow:loss = 0.40197873, step = 18301 (0.072 sec)\n",
      "INFO:tensorflow:global_step/sec: 1407.46\n",
      "INFO:tensorflow:loss = 0.19011012, step = 18401 (0.071 sec)\n",
      "INFO:tensorflow:global_step/sec: 1407.46\n",
      "INFO:tensorflow:loss = 0.76543844, step = 18501 (0.071 sec)\n",
      "INFO:tensorflow:global_step/sec: 1448.25\n",
      "INFO:tensorflow:loss = 1.3834045, step = 18601 (0.069 sec)\n",
      "INFO:tensorflow:global_step/sec: 1407.45\n",
      "INFO:tensorflow:loss = 1.2044598, step = 18701 (0.072 sec)\n",
      "INFO:tensorflow:global_step/sec: 1350.39\n",
      "INFO:tensorflow:loss = 0.289981, step = 18801 (0.073 sec)\n",
      "INFO:tensorflow:global_step/sec: 1427.57\n",
      "INFO:tensorflow:loss = 2.483567, step = 18901 (0.070 sec)\n",
      "INFO:tensorflow:global_step/sec: 1350.39\n",
      "INFO:tensorflow:loss = 0.2796713, step = 19001 (0.074 sec)\n",
      "INFO:tensorflow:global_step/sec: 1427.57\n",
      "INFO:tensorflow:loss = 0.40552127, step = 19101 (0.072 sec)\n",
      "INFO:tensorflow:global_step/sec: 1407.46\n",
      "INFO:tensorflow:loss = 0.16131788, step = 19201 (0.068 sec)\n",
      "INFO:tensorflow:global_step/sec: 1491.48\n",
      "INFO:tensorflow:loss = 0.34812534, step = 19301 (0.068 sec)\n",
      "INFO:tensorflow:global_step/sec: 1469.54\n",
      "INFO:tensorflow:loss = 0.24713892, step = 19401 (0.069 sec)\n",
      "INFO:tensorflow:global_step/sec: 1407.46\n",
      "INFO:tensorflow:loss = 5.3419433, step = 19501 (0.070 sec)\n",
      "INFO:tensorflow:global_step/sec: 1427.56\n",
      "INFO:tensorflow:loss = 0.24664515, step = 19601 (0.069 sec)\n",
      "INFO:tensorflow:global_step/sec: 1469.55\n",
      "INFO:tensorflow:loss = 0.20224668, step = 19701 (0.068 sec)\n",
      "INFO:tensorflow:global_step/sec: 1407.47\n",
      "INFO:tensorflow:loss = 0.1013706, step = 19801 (0.072 sec)\n",
      "INFO:tensorflow:global_step/sec: 1427.56\n",
      "INFO:tensorflow:loss = 0.19386101, step = 19901 (0.069 sec)\n",
      "INFO:tensorflow:Saving checkpoints for 20000 into C:\\Users\\ZHANGX~1\\AppData\\Local\\Temp\\tmpvpal5n3b\\model.ckpt.\n",
      "INFO:tensorflow:Loss for final step: 0.25234342.\n"
     ]
    },
    {
     "data": {
      "text/plain": [
       "<tensorflow.python.estimator.canned.dnn.DNNRegressor at 0x2ad10daa0b8>"
      ]
     },
     "execution_count": 211,
     "metadata": {},
     "output_type": "execute_result"
    }
   ],
   "source": [
    "import tensorflow as tf\n",
    "\n",
    "x_feat = tf.feature_column.numeric_column('x', shape = [1])\n",
    "\n",
    "regressor = tf.estimator.DNNRegressor(hidden_units = [20, 20, 20, 20, 20, 20, 20], feature_columns = [x_feat], \n",
    "                                      optimizer = tf.train.AdamOptimizer(learning_rate = 0.001), activation_fn = tf.nn.relu)\n",
    "\n",
    "input_func = tf.estimator.inputs.numpy_input_fn(x = {'x': x_train}, y = y_train, batch_size = 20, num_epochs = 600, \n",
    "                                                shuffle = True)\n",
    "\n",
    "## train the model\n",
    "regressor.train(input_fn = input_func, steps = 20000)"
   ]
  },
  {
   "cell_type": "code",
   "execution_count": 212,
   "metadata": {},
   "outputs": [
    {
     "name": "stdout",
     "output_type": "stream",
     "text": [
      "INFO:tensorflow:Restoring parameters from C:\\Users\\ZHANGX~1\\AppData\\Local\\Temp\\tmpvpal5n3b\\model.ckpt-20000\n"
     ]
    }
   ],
   "source": [
    "# make predictions\n",
    "eval_input = tf.estimator.inputs.numpy_input_fn(x = {'x': x_test}, shuffle = False)\n",
    "prediction = list(regressor.predict(eval_input))\n",
    "\n",
    "pred_val = [pred['predictions'] for pred in prediction]"
   ]
  },
  {
   "cell_type": "code",
   "execution_count": 213,
   "metadata": {},
   "outputs": [
    {
     "data": {
      "text/plain": [
       "<matplotlib.legend.Legend at 0x2ad10c30438>"
      ]
     },
     "execution_count": 213,
     "metadata": {},
     "output_type": "execute_result"
    },
    {
     "data": {
      "image/png": "[encoded data removed]",
      "text/plain": [
       "<matplotlib.figure.Figure at 0x2ad1864e7b8>"
      ]
     },
     "metadata": {},
     "output_type": "display_data"
    }
   ],
   "source": [
    "# result comparison\n",
    "plt.plot(x_test, pred_val, '.')\n",
    "plt.plot(x_test, y_test, '+')\n",
    "plt.legend(['DNN', 'Actual Data'])"
   ]
  },
  {
   "cell_type": "markdown",
   "metadata": {},
   "source": [
    "## Classification"
   ]
  },
  {
   "cell_type": "markdown",
   "metadata": {},
   "source": [
    "### Raw data analysis"
   ]
  },
  {
   "cell_type": "code",
   "execution_count": 181,
   "metadata": {},
   "outputs": [
    {
     "name": "stdout",
     "output_type": "stream",
     "text": [
      "Extracting MNIST_data/train-images-idx3-ubyte.gz\n",
      "Extracting MNIST_data/train-labels-idx1-ubyte.gz\n",
      "Extracting MNIST_data/t10k-images-idx3-ubyte.gz\n",
      "Extracting MNIST_data/t10k-labels-idx1-ubyte.gz\n"
     ]
    }
   ],
   "source": [
    "from tensorflow.examples.tutorials.mnist import input_data\n",
    "mnist = input_data.read_data_sets(\"MNIST_data/\",one_hot=True)"
   ]
  },
  {
   "cell_type": "code",
   "execution_count": 182,
   "metadata": {},
   "outputs": [
    {
     "data": {
      "text/plain": [
       "tensorflow.contrib.learn.python.learn.datasets.base.Datasets"
      ]
     },
     "execution_count": 182,
     "metadata": {},
     "output_type": "execute_result"
    }
   ],
   "source": [
    "type(mnist)"
   ]
  },
  {
   "cell_type": "code",
   "execution_count": 183,
   "metadata": {},
   "outputs": [
    {
     "data": {
      "text/plain": [
       "array([[0., 0., 0., ..., 0., 0., 0.],\n",
       "       [0., 0., 0., ..., 0., 0., 0.],\n",
       "       [0., 0., 0., ..., 0., 0., 0.],\n",
       "       ...,\n",
       "       [0., 0., 0., ..., 0., 0., 0.],\n",
       "       [0., 0., 0., ..., 0., 0., 0.],\n",
       "       [0., 0., 0., ..., 0., 0., 0.]], dtype=float32)"
      ]
     },
     "execution_count": 183,
     "metadata": {},
     "output_type": "execute_result"
    }
   ],
   "source": [
    "mnist.train.images"
   ]
  },
  {
   "cell_type": "code",
   "execution_count": 184,
   "metadata": {},
   "outputs": [
    {
     "data": {
      "text/plain": [
       "array([[0., 0., 0., ..., 0., 0., 0.],\n",
       "       [0., 0., 0., ..., 0., 0., 0.],\n",
       "       [0., 0., 0., ..., 0., 0., 0.],\n",
       "       ...,\n",
       "       [0., 0., 0., ..., 0., 0., 0.],\n",
       "       [0., 0., 0., ..., 0., 0., 0.],\n",
       "       [0., 0., 0., ..., 0., 0., 0.]], dtype=float32)"
      ]
     },
     "execution_count": 184,
     "metadata": {},
     "output_type": "execute_result"
    }
   ],
   "source": [
    "mnist.test.images"
   ]
  },
  {
   "cell_type": "code",
   "execution_count": 185,
   "metadata": {},
   "outputs": [
    {
     "data": {
      "text/plain": [
       "55000"
      ]
     },
     "execution_count": 185,
     "metadata": {},
     "output_type": "execute_result"
    }
   ],
   "source": [
    "mnist.train.num_examples"
   ]
  },
  {
   "cell_type": "code",
   "execution_count": 186,
   "metadata": {},
   "outputs": [
    {
     "data": {
      "text/plain": [
       "10000"
      ]
     },
     "execution_count": 186,
     "metadata": {},
     "output_type": "execute_result"
    }
   ],
   "source": [
    "mnist.test.num_examples"
   ]
  },
  {
   "cell_type": "markdown",
   "metadata": {},
   "source": [
    "### Image visualization"
   ]
  },
  {
   "cell_type": "code",
   "execution_count": 187,
   "metadata": {},
   "outputs": [
    {
     "data": {
      "text/plain": [
       "(784,)"
      ]
     },
     "execution_count": 187,
     "metadata": {},
     "output_type": "execute_result"
    }
   ],
   "source": [
    "import matplotlib.pyplot as plt\n",
    "%matplotlib inline\n",
    "\n",
    "mnist.train.images[1].shape"
   ]
  },
  {
   "cell_type": "code",
   "execution_count": 188,
   "metadata": {},
   "outputs": [
    {
     "data": {
      "text/plain": [
       "<matplotlib.image.AxesImage at 0x2ad1030a550>"
      ]
     },
     "execution_count": 188,
     "metadata": {},
     "output_type": "execute_result"
    },
    {
     "data": {
      "image/png": "[encoded data removed]",
      "text/plain": [
       "<matplotlib.figure.Figure at 0x2ad10bc8358>"
      ]
     },
     "metadata": {},
     "output_type": "display_data"
    }
   ],
   "source": [
    "plt.imshow(np.reshape(mnist.train.images[1], newshape=(28, 28)))"
   ]
  },
  {
   "cell_type": "code",
   "execution_count": 189,
   "metadata": {},
   "outputs": [
    {
     "data": {
      "text/plain": [
       "<matplotlib.image.AxesImage at 0x2ad10cf0668>"
      ]
     },
     "execution_count": 189,
     "metadata": {},
     "output_type": "execute_result"
    },
    {
     "data": {
      "image/png": "[encoded data removed]",
      "text/plain": [
       "<matplotlib.figure.Figure at 0x2ad106dd390>"
      ]
     },
     "metadata": {},
     "output_type": "display_data"
    }
   ],
   "source": [
    "plt.imshow(mnist.train.images[4].reshape(28,28),cmap='gist_gray')"
   ]
  },
  {
   "cell_type": "markdown",
   "metadata": {},
   "source": [
    "### Create CNN model"
   ]
  },
  {
   "cell_type": "code",
   "execution_count": 198,
   "metadata": {},
   "outputs": [],
   "source": [
    "x = tf.placeholder(tf.float32, shape = [None, 784])\n",
    "y_true = tf.placeholder(tf.float32, shape = [None, 10])"
   ]
  },
  {
   "cell_type": "code",
   "execution_count": 199,
   "metadata": {},
   "outputs": [],
   "source": [
    "## create convolutional neural network\n",
    "def init_weights(shape):\n",
    "    init_random_dist = tf.truncated_normal(shape, stddev=0.1)\n",
    "    return tf.Variable(init_random_dist)\n",
    "\n",
    "def init_bias(shape):\n",
    "    init_bias_vals = tf.constant(0.1, shape=shape)\n",
    "    return tf.Variable(init_bias_vals)"
   ]
  },
  {
   "cell_type": "markdown",
   "metadata": {},
   "source": [
    "Create a 2D convolution using built-in conv2d from tensorflow.\n",
    "\n",
    "Computes a 2-D convolution given 4-D input and filter tensors.\n",
    "\n",
    "Given an input tensor of shape `[batch, in_height, in_width, in_channels]` and a filter / kernel tensor of shape `[filter_height, filter_width, in_channels, out_channels]`, this operation performs the following:\n",
    "\n",
    "1. Flattens the filter to a 2-D matrix with shape `[filter_height * filter_width * in_channels, output_channels]`.\n",
    "2. Extracts image patches from the input tensor to form a *virtual* tensor of shape `[batch, out_height, out_width,     filter_height * filter_width * in_channels]`.\n",
    "3. For each patch, right-multiplies the filter matrix and the image patch vector."
   ]
  },
  {
   "cell_type": "code",
   "execution_count": null,
   "metadata": {},
   "outputs": [],
   "source": [
    "def conv2d(x, W):\n",
    "    return tf.nn.conv2d(x, W, strides=[1, 1, 1, 1], padding='SAME')\n",
    "\n",
    "def max_pool_2by2(x):\n",
    "    return tf.nn.max_pool(x, ksize=[1, 2, 2, 1], strides=[1, 2, 2, 1], padding='SAME')\n",
    "\n",
    "def convolutional_layer(input_x, shape):\n",
    "    W = init_weights(shape)\n",
    "    b = init_bias([shape[3]])\n",
    "    return tf.nn.relu(conv2d(input_x, W) + b)\n",
    "\n",
    "def normal_full_layer(input_layer, size):\n",
    "    input_size = int(input_layer.get_shape()[1])\n",
    "    W = init_weights([input_size, size])\n",
    "    b = init_bias([size])\n",
    "    return tf.matmul(input_layer, W) + b"
   ]
  },
  {
   "cell_type": "code",
   "execution_count": 206,
   "metadata": {},
   "outputs": [],
   "source": [
    "x_image = tf.reshape(x, [-1,28,28,1])\n",
    "\n",
    "# Using a 6by6 filter here, you can play around with the filter size\n",
    "# You can change the 32 output, that essentially represents the amount of filters used\n",
    "# You need to pass in 32 to the next input though, the 1 comes from the original input of \n",
    "# a single image.\n",
    "convo_1 = convolutional_layer(x_image, shape=[6,6,1,32])\n",
    "convo_1_pooling = max_pool_2by2(convo_1)\n",
    "\n",
    "\n",
    "# Using a 6by6 filter here, used 5by5 in video, you can play around with the filter size\n",
    "# You can actually change the 64 output if you want, you can think of that as a representation\n",
    "# of the amount of 6by6 filters used.\n",
    "convo_2 = convolutional_layer(convo_1_pooling,shape=[6,6,32,64])\n",
    "convo_2_pooling = max_pool_2by2(convo_2)\n",
    "\n",
    "\n",
    "# Why 7 by 7 image? Because we did 2 pooling layers, so (28/2)/2 = 7\n",
    "# 64 then just comes from the output of the previous convolution\n",
    "convo_2_flat = tf.reshape(convo_2_pooling,[-1,7*7*64])\n",
    "full_layer_one = tf.nn.relu(normal_full_layer(convo_2_flat,1024))\n",
    "\n",
    "\n",
    "# NOTE THE PLACEHOLDER HERE!\n",
    "hold_prob = tf.placeholder(tf.float32)\n",
    "full_one_dropout = tf.nn.dropout(full_layer_one,keep_prob=hold_prob)\n",
    "\n",
    "y_pred = normal_full_layer(full_one_dropout, 10)"
   ]
  },
  {
   "cell_type": "markdown",
   "metadata": {},
   "source": [
    "## Loss function"
   ]
  },
  {
   "cell_type": "code",
   "execution_count": 207,
   "metadata": {},
   "outputs": [],
   "source": [
    "cross_entropy = tf.reduce_mean(tf.nn.softmax_cross_entropy_with_logits(labels=y_true,logits=y_pred))"
   ]
  },
  {
   "cell_type": "markdown",
   "metadata": {},
   "source": [
    "## Optimizer"
   ]
  },
  {
   "cell_type": "code",
   "execution_count": 208,
   "metadata": {},
   "outputs": [],
   "source": [
    "optimizer = tf.train.AdamOptimizer(learning_rate=0.0001)\n",
    "train = optimizer.minimize(cross_entropy)"
   ]
  },
  {
   "cell_type": "markdown",
   "metadata": {},
   "source": [
    "## Init gloabl variables"
   ]
  },
  {
   "cell_type": "code",
   "execution_count": 203,
   "metadata": {},
   "outputs": [],
   "source": [
    "init = tf.global_variables_initializer()"
   ]
  },
  {
   "cell_type": "code",
   "execution_count": 205,
   "metadata": {},
   "outputs": [
    {
     "name": "stdout",
     "output_type": "stream",
     "text": [
      "Currently on step 0\n",
      "Accuracy is:\n",
      "0.1038\n",
      "\n",
      "\n",
      "Currently on step 100\n",
      "Accuracy is:\n",
      "0.8529\n",
      "\n",
      "\n",
      "Currently on step 200\n",
      "Accuracy is:\n",
      "0.913\n",
      "\n",
      "\n",
      "Currently on step 300\n",
      "Accuracy is:\n",
      "0.9284\n",
      "\n",
      "\n",
      "Currently on step 400\n",
      "Accuracy is:\n",
      "0.9418\n",
      "\n",
      "\n",
      "Currently on step 500\n",
      "Accuracy is:\n",
      "0.9508\n",
      "\n",
      "\n",
      "Currently on step 600\n",
      "Accuracy is:\n",
      "0.949\n",
      "\n",
      "\n",
      "Currently on step 700\n",
      "Accuracy is:\n",
      "0.9562\n",
      "\n",
      "\n",
      "Currently on step 800\n",
      "Accuracy is:\n",
      "0.9595\n",
      "\n",
      "\n",
      "Currently on step 900\n",
      "Accuracy is:\n",
      "0.9648\n",
      "\n",
      "\n",
      "Currently on step 1000\n",
      "Accuracy is:\n",
      "0.9665\n",
      "\n",
      "\n",
      "Currently on step 1100\n",
      "Accuracy is:\n",
      "0.9672\n",
      "\n",
      "\n",
      "Currently on step 1200\n",
      "Accuracy is:\n",
      "0.9701\n",
      "\n",
      "\n",
      "Currently on step 1300\n",
      "Accuracy is:\n",
      "0.9718\n",
      "\n",
      "\n",
      "Currently on step 1400\n",
      "Accuracy is:\n",
      "0.9738\n",
      "\n",
      "\n",
      "Currently on step 1500\n",
      "Accuracy is:\n",
      "0.9736\n",
      "\n",
      "\n",
      "Currently on step 1600\n",
      "Accuracy is:\n",
      "0.9758\n",
      "\n",
      "\n",
      "Currently on step 1700\n",
      "Accuracy is:\n",
      "0.976\n",
      "\n",
      "\n",
      "Currently on step 1800\n",
      "Accuracy is:\n",
      "0.9766\n",
      "\n",
      "\n",
      "Currently on step 1900\n",
      "Accuracy is:\n",
      "0.9751\n",
      "\n",
      "\n",
      "Currently on step 2000\n",
      "Accuracy is:\n",
      "0.9767\n",
      "\n",
      "\n",
      "Currently on step 2100\n",
      "Accuracy is:\n",
      "0.9788\n",
      "\n",
      "\n",
      "Currently on step 2200\n",
      "Accuracy is:\n",
      "0.9766\n",
      "\n",
      "\n",
      "Currently on step 2300\n",
      "Accuracy is:\n",
      "0.9793\n",
      "\n",
      "\n",
      "Currently on step 2400\n",
      "Accuracy is:\n",
      "0.98\n",
      "\n",
      "\n",
      "Currently on step 2500\n",
      "Accuracy is:\n",
      "0.9789\n",
      "\n",
      "\n",
      "Currently on step 2600\n",
      "Accuracy is:\n",
      "0.9798\n",
      "\n",
      "\n",
      "Currently on step 2700\n",
      "Accuracy is:\n",
      "0.9807\n",
      "\n",
      "\n",
      "Currently on step 2800\n",
      "Accuracy is:\n",
      "0.9818\n",
      "\n",
      "\n",
      "Currently on step 2900\n",
      "Accuracy is:\n",
      "0.9841\n",
      "\n",
      "\n",
      "Currently on step 3000\n",
      "Accuracy is:\n",
      "0.9815\n",
      "\n",
      "\n",
      "Currently on step 3100\n",
      "Accuracy is:\n",
      "0.9842\n",
      "\n",
      "\n",
      "Currently on step 3200\n",
      "Accuracy is:\n",
      "0.9843\n",
      "\n",
      "\n",
      "Currently on step 3300\n",
      "Accuracy is:\n",
      "0.9849\n",
      "\n",
      "\n",
      "Currently on step 3400\n",
      "Accuracy is:\n",
      "0.9839\n",
      "\n",
      "\n",
      "Currently on step 3500\n",
      "Accuracy is:\n",
      "0.9849\n",
      "\n",
      "\n",
      "Currently on step 3600\n",
      "Accuracy is:\n",
      "0.9844\n",
      "\n",
      "\n",
      "Currently on step 3700\n",
      "Accuracy is:\n",
      "0.9833\n",
      "\n",
      "\n",
      "Currently on step 3800\n",
      "Accuracy is:\n",
      "0.9853\n",
      "\n",
      "\n",
      "Currently on step 3900\n",
      "Accuracy is:\n",
      "0.9843\n",
      "\n",
      "\n"
     ]
    }
   ],
   "source": [
    "steps = 4000\n",
    "\n",
    "with tf.Session() as sess:\n",
    "    \n",
    "    sess.run(init)\n",
    "    \n",
    "    for i in range(steps):\n",
    "        \n",
    "        batch_x , batch_y = mnist.train.next_batch(50)\n",
    "        \n",
    "        sess.run(train,feed_dict={x:batch_x, y_true:batch_y, hold_prob:0.5})\n",
    "        \n",
    "        # PRINT OUT A MESSAGE EVERY 100 STEPS\n",
    "        if i%100 == 0:\n",
    "            \n",
    "            print('Currently on step {}'.format(i))\n",
    "            print('Accuracy is:')\n",
    "            \n",
    "            # Test the Train Model\n",
    "            matches = tf.equal(tf.argmax(y_pred,1),tf.argmax(y_true,1))\n",
    "\n",
    "            acc = tf.reduce_mean(tf.cast(matches, tf.float32))\n",
    "\n",
    "            print(sess.run(acc, feed_dict={x:mnist.test.images, y_true:mnist.test.labels, hold_prob:1.0}))\n",
    "            print('\\n')"
   ]
  },
  {
   "cell_type": "code",
   "execution_count": null,
   "metadata": {},
   "outputs": [],
   "source": []
  }
 ],
 "metadata": {
  "kernelspec": {
   "display_name": "Python 3",
   "language": "python",
   "name": "python3"
  },
  "language_info": {
   "codemirror_mode": {
    "name": "ipython",
    "version": 3
   },
   "file_extension": ".py",
   "mimetype": "text/x-python",
   "name": "python",
   "nbconvert_exporter": "python",
   "pygments_lexer": "ipython3",
   "version": "3.6.3"
  }
 },
 "nbformat": 4,
 "nbformat_minor": 2
}
