{
 "cells": [
  {
   "cell_type": "code",
   "execution_count": 30,
   "metadata": {},
   "outputs": [
    {
     "name": "stdout",
     "output_type": "stream",
     "text": [
      "Tensorflow version:  1.4.0\n"
     ]
    }
   ],
   "source": [
    "import tensorflow as tf\n",
    "import numpy as np\n",
    "\n",
    "print ('Tensorflow version: ', tf.__version__)"
   ]
  },
  {
   "cell_type": "markdown",
   "metadata": {},
   "source": [
    "## TensorFlow Basics"
   ]
  },
  {
   "cell_type": "markdown",
   "metadata": {},
   "source": [
    "### Tensors"
   ]
  },
  {
   "cell_type": "code",
   "execution_count": 31,
   "metadata": {},
   "outputs": [],
   "source": [
    "hello = tf.constant('Hello')"
   ]
  },
  {
   "cell_type": "code",
   "execution_count": 32,
   "metadata": {},
   "outputs": [
    {
     "data": {
      "text/plain": [
       "tensorflow.python.framework.ops.Tensor"
      ]
     },
     "execution_count": 32,
     "metadata": {},
     "output_type": "execute_result"
    }
   ],
   "source": [
    "type(hello)"
   ]
  },
  {
   "cell_type": "code",
   "execution_count": 4,
   "metadata": {},
   "outputs": [],
   "source": [
    "world = tf.constant('World')"
   ]
  },
  {
   "cell_type": "code",
   "execution_count": 5,
   "metadata": {},
   "outputs": [],
   "source": [
    "result = hello + world"
   ]
  },
  {
   "cell_type": "code",
   "execution_count": 6,
   "metadata": {},
   "outputs": [
    {
     "data": {
      "text/plain": [
       "<tf.Tensor 'add:0' shape=() dtype=string>"
      ]
     },
     "execution_count": 6,
     "metadata": {},
     "output_type": "execute_result"
    }
   ],
   "source": [
    "result"
   ]
  },
  {
   "cell_type": "code",
   "execution_count": 7,
   "metadata": {},
   "outputs": [],
   "source": [
    "with tf.Session() as sess:\n",
    "    result = sess.run(hello+world)"
   ]
  },
  {
   "cell_type": "code",
   "execution_count": 8,
   "metadata": {},
   "outputs": [
    {
     "data": {
      "text/plain": [
       "b'HelloWorld'"
      ]
     },
     "execution_count": 8,
     "metadata": {},
     "output_type": "execute_result"
    }
   ],
   "source": [
    "result"
   ]
  },
  {
   "cell_type": "markdown",
   "metadata": {},
   "source": [
    "### Computations"
   ]
  },
  {
   "cell_type": "code",
   "execution_count": 10,
   "metadata": {},
   "outputs": [],
   "source": [
    "tensor_1 = tf.constant(1)\n",
    "tensor_2 = tf.constant(2)"
   ]
  },
  {
   "cell_type": "code",
   "execution_count": 11,
   "metadata": {},
   "outputs": [],
   "source": [
    "res = tensor_1 + tensor_2"
   ]
  },
  {
   "cell_type": "code",
   "execution_count": 12,
   "metadata": {},
   "outputs": [
    {
     "data": {
      "text/plain": [
       "tensorflow.python.framework.ops.Tensor"
      ]
     },
     "execution_count": 12,
     "metadata": {},
     "output_type": "execute_result"
    }
   ],
   "source": [
    "type(res)"
   ]
  },
  {
   "cell_type": "code",
   "execution_count": 14,
   "metadata": {},
   "outputs": [
    {
     "data": {
      "text/plain": [
       "3"
      ]
     },
     "execution_count": 14,
     "metadata": {},
     "output_type": "execute_result"
    }
   ],
   "source": [
    "with tf.Session() as sess:\n",
    "    res = sess.run(tensor_1 + tensor_2)\n",
    "res"
   ]
  },
  {
   "cell_type": "markdown",
   "metadata": {},
   "source": [
    "### Matrix Operations"
   ]
  },
  {
   "cell_type": "code",
   "execution_count": 23,
   "metadata": {},
   "outputs": [],
   "source": [
    "sess = tf.InteractiveSession()\n",
    "fill_mat = tf.fill((4,4),10)\n",
    "myzeros = tf.zeros((4,4))\n",
    "myrandn = tf.random_normal((4,4),mean=0,stddev=0.5)"
   ]
  },
  {
   "cell_type": "code",
   "execution_count": 24,
   "metadata": {},
   "outputs": [
    {
     "data": {
      "text/plain": [
       "TensorShape([Dimension(2), Dimension(2)])"
      ]
     },
     "execution_count": 24,
     "metadata": {},
     "output_type": "execute_result"
    }
   ],
   "source": [
    "a = tf.constant([ [1,2],\n",
    "                  [3,4] ])\n",
    "a.get_shape()"
   ]
  },
  {
   "cell_type": "code",
   "execution_count": 25,
   "metadata": {},
   "outputs": [
    {
     "data": {
      "text/plain": [
       "TensorShape([Dimension(2), Dimension(1)])"
      ]
     },
     "execution_count": 25,
     "metadata": {},
     "output_type": "execute_result"
    }
   ],
   "source": [
    "b = tf.constant([[10],[100]])\n",
    "\n",
    "b.get_shape()"
   ]
  },
  {
   "cell_type": "code",
   "execution_count": 26,
   "metadata": {},
   "outputs": [
    {
     "data": {
      "text/plain": [
       "array([[210],\n",
       "       [430]])"
      ]
     },
     "execution_count": 26,
     "metadata": {},
     "output_type": "execute_result"
    }
   ],
   "source": [
    "result = tf.matmul(a,b)\n",
    "result.eval()"
   ]
  },
  {
   "cell_type": "markdown",
   "metadata": {},
   "source": [
    "### Variables and Placeholders"
   ]
  },
  {
   "cell_type": "code",
   "execution_count": 27,
   "metadata": {},
   "outputs": [],
   "source": [
    "my_tensor = tf.random_uniform((4,4),0,1)\n",
    "\n",
    "my_var = tf.Variable(initial_value=my_tensor)"
   ]
  },
  {
   "cell_type": "code",
   "execution_count": 28,
   "metadata": {},
   "outputs": [
    {
     "data": {
      "text/plain": [
       "array([[0.68843925, 0.06951118, 0.4767313 , 0.34576714],\n",
       "       [0.5772841 , 0.6287644 , 0.74237597, 0.37395048],\n",
       "       [0.7068802 , 0.3391198 , 0.48243117, 0.47480857],\n",
       "       [0.670897  , 0.04317081, 0.9839406 , 0.28229344]], dtype=float32)"
      ]
     },
     "execution_count": 28,
     "metadata": {},
     "output_type": "execute_result"
    }
   ],
   "source": [
    "## Attention: all the global variables must be initialized before they can be used\n",
    "init = tf.global_variables_initializer()\n",
    "init.run()\n",
    "my_var.eval()"
   ]
  },
  {
   "cell_type": "code",
   "execution_count": 29,
   "metadata": {},
   "outputs": [],
   "source": [
    "ph = tf.placeholder(tf.float64)"
   ]
  },
  {
   "cell_type": "markdown",
   "metadata": {},
   "source": [
    "# Regression"
   ]
  },
  {
   "cell_type": "markdown",
   "metadata": {},
   "source": [
    "### Create dataset"
   ]
  },
  {
   "cell_type": "code",
   "execution_count": 158,
   "metadata": {},
   "outputs": [
    {
     "data": {
      "text/plain": [
       "[<matplotlib.lines.Line2D at 0x2ad0c66f320>]"
      ]
     },
     "execution_count": 158,
     "metadata": {},
     "output_type": "execute_result"
    },
    {
     "data": {
      "image/png": "[encoded data removed]",
      "text/plain": [
       "<matplotlib.figure.Figure at 0x2ad0bd33390>"
      ]
     },
     "metadata": {},
     "output_type": "display_data"
    }
   ],
   "source": [
    "import numpy as np\n",
    "import matplotlib.pyplot as plt\n",
    "import pandas as pd\n",
    "\n",
    "samples = 1000\n",
    "x = np.linspace(0, 50, samples).astype(np.float32)\n",
    "noise = np.random.normal(loc = 0, scale = 0.08, size = samples)\n",
    "\n",
    "y = np.sin(x/3) + 1.5*x**0.5 + x/10 + noise\n",
    "y = y.astype(np.float32)\n",
    "\n",
    "%matplotlib inline\n",
    "plt.plot(x, y)"
   ]
  },
  {
   "cell_type": "markdown",
   "metadata": {},
   "source": [
    "### Split the dataset"
   ]
  },
  {
   "cell_type": "code",
   "execution_count": 159,
   "metadata": {},
   "outputs": [],
   "source": [
    "from sklearn.model_selection import train_test_split\n",
    "test_size = 0.2\n",
    "x_train, x_test, y_train, y_test = train_test_split(x, y, test_size = test_size, random_state= 101)"
   ]
  },
  {
   "cell_type": "markdown",
   "metadata": {},
   "source": [
    "### Create deep learning-based regression model"
   ]
  },
  {
   "cell_type": "code",
   "execution_count": 160,
   "metadata": {},
   "outputs": [
    {
     "name": "stdout",
     "output_type": "stream",
     "text": [
      "INFO:tensorflow:Using default config.\n",
      "WARNING:tensorflow:Using temporary folder as model directory: C:\\Users\\ZHANGX~1\\AppData\\Local\\Temp\\tmpu2c6xyvb\n",
      "INFO:tensorflow:Using config: {'_model_dir': 'C:\\\\Users\\\\ZHANGX~1\\\\AppData\\\\Local\\\\Temp\\\\tmpu2c6xyvb', '_tf_random_seed': None, '_save_summary_steps': 100, '_save_checkpoints_steps': None, '_save_checkpoints_secs': 600, '_session_config': None, '_keep_checkpoint_max': 5, '_keep_checkpoint_every_n_hours': 10000, '_log_step_count_steps': 100, '_service': None, '_cluster_spec': <tensorflow.python.training.server_lib.ClusterSpec object at 0x000002AD0C227160>, '_task_type': 'worker', '_task_id': 0, '_master': '', '_is_chief': True, '_num_ps_replicas': 0, '_num_worker_replicas': 1}\n",
      "INFO:tensorflow:Create CheckpointSaverHook.\n",
      "INFO:tensorflow:Saving checkpoints for 1 into C:\\Users\\ZHANGX~1\\AppData\\Local\\Temp\\tmpu2c6xyvb\\model.ckpt.\n",
      "INFO:tensorflow:loss = 2452.9219, step = 1\n",
      "INFO:tensorflow:global_step/sec: 846.853\n",
      "INFO:tensorflow:loss = 26.719624, step = 101 (0.120 sec)\n",
      "INFO:tensorflow:global_step/sec: 1297.79\n",
      "INFO:tensorflow:loss = 19.715649, step = 201 (0.076 sec)\n",
      "INFO:tensorflow:global_step/sec: 1387.9\n",
      "INFO:tensorflow:loss = 11.772189, step = 301 (0.073 sec)\n",
      "INFO:tensorflow:global_step/sec: 1427.57\n",
      "INFO:tensorflow:loss = 10.142494, step = 401 (0.069 sec)\n",
      "INFO:tensorflow:global_step/sec: 1448.25\n",
      "INFO:tensorflow:loss = 9.517817, step = 501 (0.068 sec)\n",
      "INFO:tensorflow:global_step/sec: 1448.23\n",
      "INFO:tensorflow:loss = 8.381212, step = 601 (0.070 sec)\n",
      "INFO:tensorflow:global_step/sec: 1448.26\n",
      "INFO:tensorflow:loss = 10.689621, step = 701 (0.068 sec)\n",
      "INFO:tensorflow:global_step/sec: 1491.48\n",
      "INFO:tensorflow:loss = 9.0085945, step = 801 (0.067 sec)\n",
      "INFO:tensorflow:global_step/sec: 1491.48\n",
      "INFO:tensorflow:loss = 7.697262, step = 901 (0.066 sec)\n",
      "INFO:tensorflow:global_step/sec: 1537.37\n",
      "INFO:tensorflow:loss = 7.068638, step = 1001 (0.066 sec)\n",
      "INFO:tensorflow:global_step/sec: 1469.55\n",
      "INFO:tensorflow:loss = 7.8305454, step = 1101 (0.068 sec)\n",
      "INFO:tensorflow:global_step/sec: 1491.48\n",
      "INFO:tensorflow:loss = 6.9217877, step = 1201 (0.068 sec)\n",
      "INFO:tensorflow:global_step/sec: 1407.45\n",
      "INFO:tensorflow:loss = 8.027296, step = 1301 (0.070 sec)\n",
      "INFO:tensorflow:global_step/sec: 1491.49\n",
      "INFO:tensorflow:loss = 9.486176, step = 1401 (0.067 sec)\n",
      "INFO:tensorflow:global_step/sec: 1491.48\n",
      "INFO:tensorflow:loss = 14.901196, step = 1501 (0.067 sec)\n",
      "INFO:tensorflow:global_step/sec: 1491.47\n",
      "INFO:tensorflow:loss = 11.935461, step = 1601 (0.068 sec)\n",
      "INFO:tensorflow:global_step/sec: 1469.56\n",
      "INFO:tensorflow:loss = 7.69654, step = 1701 (0.067 sec)\n",
      "INFO:tensorflow:global_step/sec: 1514.07\n",
      "INFO:tensorflow:loss = 5.7897487, step = 1801 (0.066 sec)\n",
      "INFO:tensorflow:global_step/sec: 1537.37\n",
      "INFO:tensorflow:loss = 4.6096926, step = 1901 (0.065 sec)\n",
      "INFO:tensorflow:global_step/sec: 1537.37\n",
      "INFO:tensorflow:loss = 8.143807, step = 2001 (0.065 sec)\n",
      "INFO:tensorflow:global_step/sec: 1491.49\n",
      "INFO:tensorflow:loss = 6.044566, step = 2101 (0.067 sec)\n",
      "INFO:tensorflow:global_step/sec: 1514.08\n",
      "INFO:tensorflow:loss = 4.127577, step = 2201 (0.065 sec)\n",
      "INFO:tensorflow:global_step/sec: 1537.38\n",
      "INFO:tensorflow:loss = 10.6298065, step = 2301 (0.066 sec)\n",
      "INFO:tensorflow:global_step/sec: 1514.06\n",
      "INFO:tensorflow:loss = 10.751505, step = 2401 (0.067 sec)\n",
      "INFO:tensorflow:global_step/sec: 1514.09\n",
      "INFO:tensorflow:loss = 22.563091, step = 2501 (0.065 sec)\n",
      "INFO:tensorflow:global_step/sec: 1203.96\n",
      "INFO:tensorflow:loss = 5.676109, step = 2601 (0.084 sec)\n",
      "INFO:tensorflow:global_step/sec: 1387.91\n",
      "INFO:tensorflow:loss = 8.524986, step = 2701 (0.071 sec)\n",
      "INFO:tensorflow:global_step/sec: 1407.45\n",
      "INFO:tensorflow:loss = 8.912231, step = 2801 (0.072 sec)\n",
      "INFO:tensorflow:global_step/sec: 1368.9\n",
      "INFO:tensorflow:loss = 8.861531, step = 2901 (0.071 sec)\n",
      "INFO:tensorflow:global_step/sec: 1368.88\n",
      "INFO:tensorflow:loss = 8.257638, step = 3001 (0.074 sec)\n",
      "INFO:tensorflow:global_step/sec: 1368.89\n",
      "INFO:tensorflow:loss = 10.0433, step = 3101 (0.074 sec)\n",
      "INFO:tensorflow:global_step/sec: 1469.56\n",
      "INFO:tensorflow:loss = 7.9588113, step = 3201 (0.067 sec)\n",
      "INFO:tensorflow:global_step/sec: 1218.64\n",
      "INFO:tensorflow:loss = 4.5485983, step = 3301 (0.084 sec)\n",
      "INFO:tensorflow:global_step/sec: 1135.57\n",
      "INFO:tensorflow:loss = 5.2347794, step = 3401 (0.087 sec)\n",
      "INFO:tensorflow:global_step/sec: 1218.65\n",
      "INFO:tensorflow:loss = 5.66491, step = 3501 (0.084 sec)\n",
      "INFO:tensorflow:global_step/sec: 1249.1\n",
      "INFO:tensorflow:loss = 4.016281, step = 3601 (0.079 sec)\n",
      "INFO:tensorflow:global_step/sec: 1233.7\n",
      "INFO:tensorflow:loss = 4.7801094, step = 3701 (0.082 sec)\n",
      "INFO:tensorflow:global_step/sec: 1248.78\n",
      "INFO:tensorflow:loss = 1.6673019, step = 3801 (0.079 sec)\n",
      "INFO:tensorflow:global_step/sec: 1189.94\n",
      "INFO:tensorflow:loss = 3.9630952, step = 3901 (0.083 sec)\n",
      "INFO:tensorflow:global_step/sec: 1314.86\n",
      "INFO:tensorflow:loss = 3.2886033, step = 4001 (0.076 sec)\n",
      "INFO:tensorflow:global_step/sec: 1281.14\n",
      "INFO:tensorflow:loss = 2.7627864, step = 4101 (0.078 sec)\n",
      "INFO:tensorflow:global_step/sec: 1350.41\n",
      "INFO:tensorflow:loss = 1.680989, step = 4201 (0.073 sec)\n",
      "INFO:tensorflow:global_step/sec: 1281.15\n",
      "INFO:tensorflow:loss = 1.5140921, step = 4301 (0.078 sec)\n",
      "INFO:tensorflow:global_step/sec: 1249.12\n",
      "INFO:tensorflow:loss = 3.068303, step = 4401 (0.081 sec)\n",
      "INFO:tensorflow:global_step/sec: 1233.69\n",
      "INFO:tensorflow:loss = 2.8616805, step = 4501 (0.081 sec)\n",
      "INFO:tensorflow:global_step/sec: 1249.12\n",
      "INFO:tensorflow:loss = 1.5680242, step = 4601 (0.081 sec)\n",
      "INFO:tensorflow:global_step/sec: 1264.93\n",
      "INFO:tensorflow:loss = 2.2055361, step = 4701 (0.078 sec)\n",
      "INFO:tensorflow:global_step/sec: 1281.13\n",
      "INFO:tensorflow:loss = 5.79163, step = 4801 (0.077 sec)\n",
      "INFO:tensorflow:global_step/sec: 1314.87\n",
      "INFO:tensorflow:loss = 2.1715732, step = 4901 (0.077 sec)\n",
      "INFO:tensorflow:global_step/sec: 1203.96\n",
      "INFO:tensorflow:loss = 1.3060949, step = 5001 (0.084 sec)\n",
      "INFO:tensorflow:global_step/sec: 1264.93\n",
      "INFO:tensorflow:loss = 3.713975, step = 5101 (0.079 sec)\n",
      "INFO:tensorflow:global_step/sec: 1264.93\n",
      "INFO:tensorflow:loss = 0.98851436, step = 5201 (0.077 sec)\n",
      "INFO:tensorflow:global_step/sec: 1332.39\n",
      "INFO:tensorflow:loss = 3.8184583, step = 5301 (0.074 sec)\n",
      "INFO:tensorflow:global_step/sec: 1264.93\n",
      "INFO:tensorflow:loss = 2.8435354, step = 5401 (0.081 sec)\n",
      "INFO:tensorflow:global_step/sec: 1264.93\n",
      "INFO:tensorflow:loss = 1.3219942, step = 5501 (0.079 sec)\n",
      "INFO:tensorflow:global_step/sec: 1297.79\n",
      "INFO:tensorflow:loss = 1.8229871, step = 5601 (0.076 sec)\n",
      "INFO:tensorflow:global_step/sec: 1297.77\n",
      "INFO:tensorflow:loss = 2.580502, step = 5701 (0.077 sec)\n",
      "INFO:tensorflow:global_step/sec: 1314.86\n",
      "INFO:tensorflow:loss = 1.0573504, step = 5801 (0.078 sec)\n",
      "INFO:tensorflow:global_step/sec: 1314.86\n",
      "INFO:tensorflow:loss = 0.64850295, step = 5901 (0.075 sec)\n",
      "INFO:tensorflow:global_step/sec: 1368.89\n",
      "INFO:tensorflow:loss = 1.9750504, step = 6001 (0.073 sec)\n",
      "INFO:tensorflow:global_step/sec: 1297.79\n",
      "INFO:tensorflow:loss = 0.6988044, step = 6101 (0.077 sec)\n",
      "INFO:tensorflow:global_step/sec: 1332.39\n",
      "INFO:tensorflow:loss = 0.89054537, step = 6201 (0.074 sec)\n",
      "INFO:tensorflow:global_step/sec: 1387.91\n",
      "INFO:tensorflow:loss = 2.7272055, step = 6301 (0.071 sec)\n",
      "INFO:tensorflow:global_step/sec: 1448.24\n",
      "INFO:tensorflow:loss = 1.7667009, step = 6401 (0.071 sec)\n",
      "INFO:tensorflow:global_step/sec: 1332.4\n",
      "INFO:tensorflow:loss = 1.2244589, step = 6501 (0.074 sec)\n",
      "INFO:tensorflow:global_step/sec: 1407.45\n",
      "INFO:tensorflow:loss = 1.7852262, step = 6601 (0.072 sec)\n",
      "INFO:tensorflow:global_step/sec: 1407.46\n",
      "INFO:tensorflow:loss = 1.2431124, step = 6701 (0.069 sec)\n",
      "INFO:tensorflow:global_step/sec: 1448.25\n",
      "INFO:tensorflow:loss = 1.5532455, step = 6801 (0.070 sec)\n",
      "INFO:tensorflow:global_step/sec: 1448.25\n",
      "INFO:tensorflow:loss = 0.4065153, step = 6901 (0.068 sec)\n",
      "INFO:tensorflow:global_step/sec: 1350.4\n",
      "INFO:tensorflow:loss = 0.48200333, step = 7001 (0.075 sec)\n",
      "INFO:tensorflow:global_step/sec: 1368.9\n",
      "INFO:tensorflow:loss = 3.0208693, step = 7101 (0.072 sec)\n",
      "INFO:tensorflow:global_step/sec: 1469.55\n",
      "INFO:tensorflow:loss = 0.45111093, step = 7201 (0.068 sec)\n",
      "INFO:tensorflow:global_step/sec: 1469.54\n",
      "INFO:tensorflow:loss = 1.195025, step = 7301 (0.070 sec)\n",
      "INFO:tensorflow:global_step/sec: 1427.56\n",
      "INFO:tensorflow:loss = 0.981231, step = 7401 (0.071 sec)\n"
     ]
    },
    {
     "name": "stdout",
     "output_type": "stream",
     "text": [
      "INFO:tensorflow:global_step/sec: 1387.9\n",
      "INFO:tensorflow:loss = 0.21920606, step = 7501 (0.069 sec)\n",
      "INFO:tensorflow:global_step/sec: 1491.49\n",
      "INFO:tensorflow:loss = 0.43628895, step = 7601 (0.067 sec)\n",
      "INFO:tensorflow:global_step/sec: 1514.08\n",
      "INFO:tensorflow:loss = 0.6526022, step = 7701 (0.067 sec)\n",
      "INFO:tensorflow:global_step/sec: 1491.48\n",
      "INFO:tensorflow:loss = 0.5833911, step = 7801 (0.067 sec)\n",
      "INFO:tensorflow:global_step/sec: 1448.25\n",
      "INFO:tensorflow:loss = 0.78237724, step = 7901 (0.071 sec)\n",
      "INFO:tensorflow:global_step/sec: 1448.25\n",
      "INFO:tensorflow:loss = 1.2578413, step = 8001 (0.067 sec)\n",
      "INFO:tensorflow:global_step/sec: 1491.48\n",
      "INFO:tensorflow:loss = 0.8309022, step = 8101 (0.067 sec)\n",
      "INFO:tensorflow:global_step/sec: 1469.53\n",
      "INFO:tensorflow:loss = 2.3493211, step = 8201 (0.068 sec)\n",
      "INFO:tensorflow:global_step/sec: 1448.27\n",
      "INFO:tensorflow:loss = 0.14275885, step = 8301 (0.069 sec)\n",
      "INFO:tensorflow:global_step/sec: 1469.54\n",
      "INFO:tensorflow:loss = 0.8787046, step = 8401 (0.069 sec)\n",
      "INFO:tensorflow:global_step/sec: 1491.49\n",
      "INFO:tensorflow:loss = 0.6202546, step = 8501 (0.066 sec)\n",
      "INFO:tensorflow:global_step/sec: 1514.06\n",
      "INFO:tensorflow:loss = 0.44244415, step = 8601 (0.067 sec)\n",
      "INFO:tensorflow:global_step/sec: 1491.49\n",
      "INFO:tensorflow:loss = 0.2380199, step = 8701 (0.066 sec)\n",
      "INFO:tensorflow:global_step/sec: 1537.37\n",
      "INFO:tensorflow:loss = 0.8808752, step = 8801 (0.065 sec)\n",
      "INFO:tensorflow:global_step/sec: 1469.55\n",
      "INFO:tensorflow:loss = 0.39846444, step = 8901 (0.068 sec)\n",
      "INFO:tensorflow:global_step/sec: 1537.38\n",
      "INFO:tensorflow:loss = 0.4735101, step = 9001 (0.065 sec)\n",
      "INFO:tensorflow:global_step/sec: 1537.36\n",
      "INFO:tensorflow:loss = 0.26113278, step = 9101 (0.066 sec)\n",
      "INFO:tensorflow:global_step/sec: 1514.11\n",
      "INFO:tensorflow:loss = 0.31662402, step = 9201 (0.066 sec)\n",
      "INFO:tensorflow:global_step/sec: 1491.46\n",
      "INFO:tensorflow:loss = 0.38659668, step = 9301 (0.066 sec)\n",
      "INFO:tensorflow:global_step/sec: 1491.5\n",
      "INFO:tensorflow:loss = 0.63402206, step = 9401 (0.067 sec)\n",
      "INFO:tensorflow:global_step/sec: 1537.36\n",
      "INFO:tensorflow:loss = 0.35445574, step = 9501 (0.065 sec)\n",
      "INFO:tensorflow:global_step/sec: 1514.09\n",
      "INFO:tensorflow:loss = 0.43050477, step = 9601 (0.066 sec)\n",
      "INFO:tensorflow:global_step/sec: 1514.07\n",
      "INFO:tensorflow:loss = 0.11106226, step = 9701 (0.065 sec)\n",
      "INFO:tensorflow:global_step/sec: 1537.39\n",
      "INFO:tensorflow:loss = 0.5698778, step = 9801 (0.066 sec)\n",
      "INFO:tensorflow:global_step/sec: 1514.09\n",
      "INFO:tensorflow:loss = 0.76487374, step = 9901 (0.066 sec)\n",
      "INFO:tensorflow:global_step/sec: 1514.06\n",
      "INFO:tensorflow:loss = 0.18881196, step = 10001 (0.067 sec)\n",
      "INFO:tensorflow:global_step/sec: 1491.48\n",
      "INFO:tensorflow:loss = 0.28569523, step = 10101 (0.066 sec)\n",
      "INFO:tensorflow:global_step/sec: 1469.56\n",
      "INFO:tensorflow:loss = 0.9518585, step = 10201 (0.067 sec)\n",
      "INFO:tensorflow:global_step/sec: 1491.47\n",
      "INFO:tensorflow:loss = 0.37218735, step = 10301 (0.067 sec)\n",
      "INFO:tensorflow:global_step/sec: 1469.55\n",
      "INFO:tensorflow:loss = 2.5329185, step = 10401 (0.069 sec)\n",
      "INFO:tensorflow:global_step/sec: 1469.54\n",
      "INFO:tensorflow:loss = 0.12796955, step = 10501 (0.067 sec)\n",
      "INFO:tensorflow:global_step/sec: 1491.49\n",
      "INFO:tensorflow:loss = 0.39858812, step = 10601 (0.068 sec)\n",
      "INFO:tensorflow:global_step/sec: 1469.53\n",
      "INFO:tensorflow:loss = 0.29191792, step = 10701 (0.069 sec)\n",
      "INFO:tensorflow:global_step/sec: 1448.27\n",
      "INFO:tensorflow:loss = 0.42884165, step = 10801 (0.068 sec)\n",
      "INFO:tensorflow:global_step/sec: 1469.54\n",
      "INFO:tensorflow:loss = 0.3188252, step = 10901 (0.069 sec)\n",
      "INFO:tensorflow:global_step/sec: 1448.25\n",
      "INFO:tensorflow:loss = 0.65276116, step = 11001 (0.069 sec)\n",
      "INFO:tensorflow:global_step/sec: 1469.56\n",
      "INFO:tensorflow:loss = 0.21830685, step = 11101 (0.067 sec)\n",
      "INFO:tensorflow:global_step/sec: 1491.48\n",
      "INFO:tensorflow:loss = 5.8057756, step = 11201 (0.067 sec)\n",
      "INFO:tensorflow:global_step/sec: 1469.55\n",
      "INFO:tensorflow:loss = 0.23525691, step = 11301 (0.068 sec)\n",
      "INFO:tensorflow:global_step/sec: 1514.08\n",
      "INFO:tensorflow:loss = 0.12410886, step = 11401 (0.066 sec)\n",
      "INFO:tensorflow:global_step/sec: 1469.55\n",
      "INFO:tensorflow:loss = 0.2807764, step = 11501 (0.067 sec)\n",
      "INFO:tensorflow:global_step/sec: 1491.48\n",
      "INFO:tensorflow:loss = 0.37434453, step = 11601 (0.068 sec)\n",
      "INFO:tensorflow:global_step/sec: 1469.55\n",
      "INFO:tensorflow:loss = 0.30763614, step = 11701 (0.068 sec)\n",
      "INFO:tensorflow:global_step/sec: 1469.55\n",
      "INFO:tensorflow:loss = 0.62312233, step = 11801 (0.069 sec)\n",
      "INFO:tensorflow:global_step/sec: 1387.91\n",
      "INFO:tensorflow:loss = 0.18948847, step = 11901 (0.071 sec)\n",
      "INFO:tensorflow:global_step/sec: 1469.56\n",
      "INFO:tensorflow:loss = 1.1180332, step = 12001 (0.070 sec)\n",
      "INFO:tensorflow:global_step/sec: 1427.56\n",
      "INFO:tensorflow:loss = 0.26735234, step = 12101 (0.069 sec)\n",
      "INFO:tensorflow:global_step/sec: 1448.23\n",
      "INFO:tensorflow:loss = 0.51488924, step = 12201 (0.070 sec)\n",
      "INFO:tensorflow:global_step/sec: 1448.27\n",
      "INFO:tensorflow:loss = 0.116214484, step = 12301 (0.068 sec)\n",
      "INFO:tensorflow:global_step/sec: 1427.54\n",
      "INFO:tensorflow:loss = 1.5846028, step = 12401 (0.068 sec)\n",
      "INFO:tensorflow:global_step/sec: 1491.5\n",
      "INFO:tensorflow:loss = 0.7979978, step = 12501 (0.068 sec)\n",
      "INFO:tensorflow:global_step/sec: 1469.54\n",
      "INFO:tensorflow:loss = 0.70149815, step = 12601 (0.069 sec)\n",
      "INFO:tensorflow:global_step/sec: 1448.25\n",
      "INFO:tensorflow:loss = 0.4493228, step = 12701 (0.069 sec)\n",
      "INFO:tensorflow:global_step/sec: 1448.24\n",
      "INFO:tensorflow:loss = 0.22154361, step = 12801 (0.067 sec)\n",
      "INFO:tensorflow:global_step/sec: 1491.48\n",
      "INFO:tensorflow:loss = 0.36588928, step = 12901 (0.068 sec)\n",
      "INFO:tensorflow:global_step/sec: 1469.56\n",
      "INFO:tensorflow:loss = 0.341215, step = 13001 (0.067 sec)\n",
      "INFO:tensorflow:global_step/sec: 1469.56\n",
      "INFO:tensorflow:loss = 0.15572146, step = 13101 (0.068 sec)\n",
      "INFO:tensorflow:global_step/sec: 1448.24\n",
      "INFO:tensorflow:loss = 0.27710444, step = 13201 (0.069 sec)\n",
      "INFO:tensorflow:global_step/sec: 1491.48\n",
      "INFO:tensorflow:loss = 0.14008144, step = 13301 (0.068 sec)\n",
      "INFO:tensorflow:global_step/sec: 1427.56\n",
      "INFO:tensorflow:loss = 0.971706, step = 13401 (0.070 sec)\n",
      "INFO:tensorflow:global_step/sec: 1448.26\n",
      "INFO:tensorflow:loss = 0.39192224, step = 13501 (0.071 sec)\n",
      "INFO:tensorflow:global_step/sec: 1427.57\n",
      "INFO:tensorflow:loss = 0.2915812, step = 13601 (0.068 sec)\n",
      "INFO:tensorflow:global_step/sec: 1491.48\n",
      "INFO:tensorflow:loss = 2.6791873, step = 13701 (0.067 sec)\n",
      "INFO:tensorflow:global_step/sec: 1469.55\n",
      "INFO:tensorflow:loss = 0.6766683, step = 13801 (0.068 sec)\n",
      "INFO:tensorflow:global_step/sec: 1491.47\n",
      "INFO:tensorflow:loss = 1.7768848, step = 13901 (0.067 sec)\n",
      "INFO:tensorflow:global_step/sec: 1427.57\n",
      "INFO:tensorflow:loss = 0.537006, step = 14001 (0.069 sec)\n",
      "INFO:tensorflow:global_step/sec: 1469.54\n",
      "INFO:tensorflow:loss = 0.23588309, step = 14101 (0.069 sec)\n",
      "INFO:tensorflow:global_step/sec: 1448.25\n",
      "INFO:tensorflow:loss = 0.5293482, step = 14201 (0.068 sec)\n",
      "INFO:tensorflow:global_step/sec: 1491.49\n",
      "INFO:tensorflow:loss = 0.7034983, step = 14301 (0.068 sec)\n",
      "INFO:tensorflow:global_step/sec: 1469.56\n",
      "INFO:tensorflow:loss = 0.23076932, step = 14401 (0.068 sec)\n",
      "INFO:tensorflow:global_step/sec: 1469.55\n",
      "INFO:tensorflow:loss = 0.12881443, step = 14501 (0.069 sec)\n",
      "INFO:tensorflow:global_step/sec: 1448.24\n",
      "INFO:tensorflow:loss = 0.2070266, step = 14601 (0.068 sec)\n",
      "INFO:tensorflow:global_step/sec: 1514.07\n",
      "INFO:tensorflow:loss = 0.22964145, step = 14701 (0.066 sec)\n",
      "INFO:tensorflow:global_step/sec: 1469.56\n",
      "INFO:tensorflow:loss = 0.3428451, step = 14801 (0.069 sec)\n",
      "INFO:tensorflow:global_step/sec: 1469.55\n",
      "INFO:tensorflow:loss = 0.11891274, step = 14901 (0.066 sec)\n",
      "INFO:tensorflow:global_step/sec: 1491.46\n",
      "INFO:tensorflow:loss = 0.9351912, step = 15001 (0.067 sec)\n",
      "INFO:tensorflow:global_step/sec: 1491.5\n",
      "INFO:tensorflow:loss = 0.45487866, step = 15101 (0.067 sec)\n",
      "INFO:tensorflow:global_step/sec: 1514.08\n",
      "INFO:tensorflow:loss = 0.268588, step = 15201 (0.067 sec)\n",
      "INFO:tensorflow:global_step/sec: 1491.49\n",
      "INFO:tensorflow:loss = 0.2940591, step = 15301 (0.067 sec)\n",
      "INFO:tensorflow:global_step/sec: 1514.07\n",
      "INFO:tensorflow:loss = 0.8279809, step = 15401 (0.068 sec)\n",
      "INFO:tensorflow:global_step/sec: 1448.25\n",
      "INFO:tensorflow:loss = 0.4477859, step = 15501 (0.067 sec)\n",
      "INFO:tensorflow:global_step/sec: 1491.48\n",
      "INFO:tensorflow:loss = 0.6605241, step = 15601 (0.068 sec)\n"
     ]
    },
    {
     "name": "stdout",
     "output_type": "stream",
     "text": [
      "INFO:tensorflow:global_step/sec: 1514.07\n",
      "INFO:tensorflow:loss = 1.262597, step = 15701 (0.065 sec)\n",
      "INFO:tensorflow:global_step/sec: 1537.39\n",
      "INFO:tensorflow:loss = 0.22787404, step = 15801 (0.064 sec)\n",
      "INFO:tensorflow:global_step/sec: 1561.39\n",
      "INFO:tensorflow:loss = 0.2364904, step = 15901 (0.065 sec)\n",
      "INFO:tensorflow:global_step/sec: 1537.37\n",
      "INFO:tensorflow:loss = 0.32899094, step = 16001 (0.065 sec)\n",
      "INFO:tensorflow:global_step/sec: 1514.07\n",
      "INFO:tensorflow:loss = 0.20408061, step = 16101 (0.066 sec)\n",
      "INFO:tensorflow:global_step/sec: 1469.56\n",
      "INFO:tensorflow:loss = 0.2938363, step = 16201 (0.069 sec)\n",
      "INFO:tensorflow:global_step/sec: 1407.46\n",
      "INFO:tensorflow:loss = 0.4772055, step = 16301 (0.070 sec)\n",
      "INFO:tensorflow:global_step/sec: 1491.48\n",
      "INFO:tensorflow:loss = 0.31442773, step = 16401 (0.067 sec)\n",
      "INFO:tensorflow:global_step/sec: 1514.07\n",
      "INFO:tensorflow:loss = 0.21633545, step = 16501 (0.066 sec)\n",
      "INFO:tensorflow:global_step/sec: 1514.09\n",
      "INFO:tensorflow:loss = 0.07470578, step = 16601 (0.066 sec)\n",
      "INFO:tensorflow:global_step/sec: 1469.54\n",
      "INFO:tensorflow:loss = 0.32664508, step = 16701 (0.068 sec)\n",
      "INFO:tensorflow:global_step/sec: 1427.56\n",
      "INFO:tensorflow:loss = 0.45807588, step = 16801 (0.071 sec)\n",
      "INFO:tensorflow:global_step/sec: 1469.56\n",
      "INFO:tensorflow:loss = 0.22727452, step = 16901 (0.066 sec)\n",
      "INFO:tensorflow:global_step/sec: 1491.49\n",
      "INFO:tensorflow:loss = 3.176851, step = 17001 (0.068 sec)\n",
      "INFO:tensorflow:global_step/sec: 1469.54\n",
      "INFO:tensorflow:loss = 1.1364381, step = 17101 (0.069 sec)\n",
      "INFO:tensorflow:global_step/sec: 1448.26\n",
      "INFO:tensorflow:loss = 0.47931844, step = 17201 (0.068 sec)\n",
      "INFO:tensorflow:global_step/sec: 1491.47\n",
      "INFO:tensorflow:loss = 0.28073055, step = 17301 (0.067 sec)\n",
      "INFO:tensorflow:global_step/sec: 1469.56\n",
      "INFO:tensorflow:loss = 0.20332527, step = 17401 (0.067 sec)\n",
      "INFO:tensorflow:global_step/sec: 1514.07\n",
      "INFO:tensorflow:loss = 0.24055824, step = 17501 (0.068 sec)\n",
      "INFO:tensorflow:global_step/sec: 1427.58\n",
      "INFO:tensorflow:loss = 0.29911077, step = 17601 (0.068 sec)\n",
      "INFO:tensorflow:global_step/sec: 1491.47\n",
      "INFO:tensorflow:loss = 0.13354425, step = 17701 (0.068 sec)\n",
      "INFO:tensorflow:global_step/sec: 1427.56\n",
      "INFO:tensorflow:loss = 0.22438923, step = 17801 (0.070 sec)\n",
      "INFO:tensorflow:global_step/sec: 1469.55\n",
      "INFO:tensorflow:loss = 0.15165463, step = 17901 (0.068 sec)\n",
      "INFO:tensorflow:global_step/sec: 1491.46\n",
      "INFO:tensorflow:loss = 0.8855188, step = 18001 (0.066 sec)\n",
      "INFO:tensorflow:global_step/sec: 1491.51\n",
      "INFO:tensorflow:loss = 0.29895005, step = 18101 (0.068 sec)\n",
      "INFO:tensorflow:global_step/sec: 1491.48\n",
      "INFO:tensorflow:loss = 0.40986574, step = 18201 (0.067 sec)\n",
      "INFO:tensorflow:global_step/sec: 1469.54\n",
      "INFO:tensorflow:loss = 0.13859439, step = 18301 (0.070 sec)\n",
      "INFO:tensorflow:global_step/sec: 1427.57\n",
      "INFO:tensorflow:loss = 0.5769949, step = 18401 (0.067 sec)\n",
      "INFO:tensorflow:global_step/sec: 1469.55\n",
      "INFO:tensorflow:loss = 0.1788097, step = 18501 (0.068 sec)\n",
      "INFO:tensorflow:global_step/sec: 1514.08\n",
      "INFO:tensorflow:loss = 1.4589915, step = 18601 (0.067 sec)\n",
      "INFO:tensorflow:global_step/sec: 1469.53\n",
      "INFO:tensorflow:loss = 0.46207663, step = 18701 (0.069 sec)\n",
      "INFO:tensorflow:global_step/sec: 1469.57\n",
      "INFO:tensorflow:loss = 0.44073373, step = 18801 (0.067 sec)\n",
      "INFO:tensorflow:global_step/sec: 1469.54\n",
      "INFO:tensorflow:loss = 0.36132953, step = 18901 (0.068 sec)\n",
      "INFO:tensorflow:global_step/sec: 1469.56\n",
      "INFO:tensorflow:loss = 0.54300416, step = 19001 (0.068 sec)\n",
      "INFO:tensorflow:global_step/sec: 1448.25\n",
      "INFO:tensorflow:loss = 0.54499733, step = 19101 (0.070 sec)\n",
      "INFO:tensorflow:global_step/sec: 1427.56\n",
      "INFO:tensorflow:loss = 0.27566317, step = 19201 (0.070 sec)\n",
      "INFO:tensorflow:global_step/sec: 1314.86\n",
      "INFO:tensorflow:loss = 0.47649574, step = 19301 (0.075 sec)\n",
      "INFO:tensorflow:global_step/sec: 1332.39\n",
      "INFO:tensorflow:loss = 0.15190223, step = 19401 (0.075 sec)\n",
      "INFO:tensorflow:global_step/sec: 1491.47\n",
      "INFO:tensorflow:loss = 0.24418968, step = 19501 (0.067 sec)\n",
      "INFO:tensorflow:global_step/sec: 1491.49\n",
      "INFO:tensorflow:loss = 0.7191299, step = 19601 (0.066 sec)\n",
      "INFO:tensorflow:global_step/sec: 1514.08\n",
      "INFO:tensorflow:loss = 0.55348223, step = 19701 (0.067 sec)\n",
      "INFO:tensorflow:global_step/sec: 1427.56\n",
      "INFO:tensorflow:loss = 0.3571697, step = 19801 (0.070 sec)\n",
      "INFO:tensorflow:global_step/sec: 1332.39\n",
      "INFO:tensorflow:loss = 0.13287276, step = 19901 (0.075 sec)\n",
      "INFO:tensorflow:Saving checkpoints for 20000 into C:\\Users\\ZHANGX~1\\AppData\\Local\\Temp\\tmpu2c6xyvb\\model.ckpt.\n",
      "INFO:tensorflow:Loss for final step: 0.5290277.\n"
     ]
    },
    {
     "data": {
      "text/plain": [
       "<tensorflow.python.estimator.canned.dnn.DNNRegressor at 0x2ad0c224550>"
      ]
     },
     "execution_count": 160,
     "metadata": {},
     "output_type": "execute_result"
    }
   ],
   "source": [
    "import tensorflow as tf\n",
    "\n",
    "x_feat = tf.feature_column.numeric_column('x', shape = [1])\n",
    "\n",
    "regressor = tf.estimator.DNNRegressor(hidden_units = [20, 20, 20, 20, 20, 20, 20], feature_columns = [x_feat], \n",
    "                                      optimizer = tf.train.AdamOptimizer(learning_rate = 0.001), activation_fn = tf.nn.relu)\n",
    "\n",
    "input_func = tf.estimator.inputs.numpy_input_fn(x = {'x': x_train}, y = y_train, batch_size = 20, num_epochs = 600, \n",
    "                                                shuffle = True)\n",
    "\n",
    "## train the model\n",
    "regressor.train(input_fn = input_func, steps = 20000)"
   ]
  },
  {
   "cell_type": "code",
   "execution_count": 161,
   "metadata": {},
   "outputs": [
    {
     "name": "stdout",
     "output_type": "stream",
     "text": [
      "INFO:tensorflow:Restoring parameters from C:\\Users\\ZHANGX~1\\AppData\\Local\\Temp\\tmpu2c6xyvb\\model.ckpt-20000\n"
     ]
    }
   ],
   "source": [
    "# make predictions\n",
    "eval_input = tf.estimator.inputs.numpy_input_fn(x = {'x': x_test}, shuffle = False)\n",
    "prediction = list(regressor.predict(eval_input))\n",
    "\n",
    "pred_val = [pred['predictions'] for pred in prediction]"
   ]
  },
  {
   "cell_type": "code",
   "execution_count": 162,
   "metadata": {},
   "outputs": [
    {
     "data": {
      "text/plain": [
       "<matplotlib.legend.Legend at 0x2ad0d1ea588>"
      ]
     },
     "execution_count": 162,
     "metadata": {},
     "output_type": "execute_result"
    },
    {
     "data": {
      "image/png": "[encoded data removed]",
      "text/plain": [
       "<matplotlib.figure.Figure at 0x2ad0bd11da0>"
      ]
     },
     "metadata": {},
     "output_type": "display_data"
    }
   ],
   "source": [
    "# result comparison\n",
    "plt.plot(x_test, pred_val, '.')\n",
    "plt.plot(x_test, y_test, '+')\n",
    "plt.legend(['DNN', 'Actual Data'])"
   ]
  },
  {
   "cell_type": "markdown",
   "metadata": {},
   "source": [
    "## Classification"
   ]
  },
  {
   "cell_type": "markdown",
   "metadata": {},
   "source": [
    "### Raw data analysis"
   ]
  },
  {
   "cell_type": "code",
   "execution_count": 181,
   "metadata": {},
   "outputs": [
    {
     "name": "stdout",
     "output_type": "stream",
     "text": [
      "Extracting MNIST_data/train-images-idx3-ubyte.gz\n",
      "Extracting MNIST_data/train-labels-idx1-ubyte.gz\n",
      "Extracting MNIST_data/t10k-images-idx3-ubyte.gz\n",
      "Extracting MNIST_data/t10k-labels-idx1-ubyte.gz\n"
     ]
    }
   ],
   "source": [
    "from tensorflow.examples.tutorials.mnist import input_data\n",
    "mnist = input_data.read_data_sets(\"MNIST_data/\",one_hot=True)"
   ]
  },
  {
   "cell_type": "code",
   "execution_count": 182,
   "metadata": {},
   "outputs": [
    {
     "data": {
      "text/plain": [
       "tensorflow.contrib.learn.python.learn.datasets.base.Datasets"
      ]
     },
     "execution_count": 182,
     "metadata": {},
     "output_type": "execute_result"
    }
   ],
   "source": [
    "type(mnist)"
   ]
  },
  {
   "cell_type": "code",
   "execution_count": 183,
   "metadata": {},
   "outputs": [
    {
     "data": {
      "text/plain": [
       "array([[0., 0., 0., ..., 0., 0., 0.],\n",
       "       [0., 0., 0., ..., 0., 0., 0.],\n",
       "       [0., 0., 0., ..., 0., 0., 0.],\n",
       "       ...,\n",
       "       [0., 0., 0., ..., 0., 0., 0.],\n",
       "       [0., 0., 0., ..., 0., 0., 0.],\n",
       "       [0., 0., 0., ..., 0., 0., 0.]], dtype=float32)"
      ]
     },
     "execution_count": 183,
     "metadata": {},
     "output_type": "execute_result"
    }
   ],
   "source": [
    "mnist.train.images"
   ]
  },
  {
   "cell_type": "code",
   "execution_count": 184,
   "metadata": {},
   "outputs": [
    {
     "data": {
      "text/plain": [
       "array([[0., 0., 0., ..., 0., 0., 0.],\n",
       "       [0., 0., 0., ..., 0., 0., 0.],\n",
       "       [0., 0., 0., ..., 0., 0., 0.],\n",
       "       ...,\n",
       "       [0., 0., 0., ..., 0., 0., 0.],\n",
       "       [0., 0., 0., ..., 0., 0., 0.],\n",
       "       [0., 0., 0., ..., 0., 0., 0.]], dtype=float32)"
      ]
     },
     "execution_count": 184,
     "metadata": {},
     "output_type": "execute_result"
    }
   ],
   "source": [
    "mnist.test.images"
   ]
  },
  {
   "cell_type": "code",
   "execution_count": 185,
   "metadata": {},
   "outputs": [
    {
     "data": {
      "text/plain": [
       "55000"
      ]
     },
     "execution_count": 185,
     "metadata": {},
     "output_type": "execute_result"
    }
   ],
   "source": [
    "mnist.train.num_examples"
   ]
  },
  {
   "cell_type": "code",
   "execution_count": 186,
   "metadata": {},
   "outputs": [
    {
     "data": {
      "text/plain": [
       "10000"
      ]
     },
     "execution_count": 186,
     "metadata": {},
     "output_type": "execute_result"
    }
   ],
   "source": [
    "mnist.test.num_examples"
   ]
  },
  {
   "cell_type": "markdown",
   "metadata": {},
   "source": [
    "### Image visualization"
   ]
  },
  {
   "cell_type": "code",
   "execution_count": 187,
   "metadata": {},
   "outputs": [
    {
     "data": {
      "text/plain": [
       "(784,)"
      ]
     },
     "execution_count": 187,
     "metadata": {},
     "output_type": "execute_result"
    }
   ],
   "source": [
    "import matplotlib.pyplot as plt\n",
    "%matplotlib inline\n",
    "\n",
    "mnist.train.images[1].shape"
   ]
  },
  {
   "cell_type": "code",
   "execution_count": 188,
   "metadata": {},
   "outputs": [
    {
     "data": {
      "text/plain": [
       "<matplotlib.image.AxesImage at 0x2ad1030a550>"
      ]
     },
     "execution_count": 188,
     "metadata": {},
     "output_type": "execute_result"
    },
    {
     "data": {
      "image/png": "[encoded data removed]",
      "text/plain": [
       "<matplotlib.figure.Figure at 0x2ad10bc8358>"
      ]
     },
     "metadata": {},
     "output_type": "display_data"
    }
   ],
   "source": [
    "plt.imshow(np.reshape(mnist.train.images[1], newshape=(28, 28)))"
   ]
  },
  {
   "cell_type": "code",
   "execution_count": 189,
   "metadata": {},
   "outputs": [
    {
     "data": {
      "text/plain": [
       "<matplotlib.image.AxesImage at 0x2ad10cf0668>"
      ]
     },
     "execution_count": 189,
     "metadata": {},
     "output_type": "execute_result"
    },
    {
     "data": {
      "image/png": "[encoded data removed]",
      "text/plain": [
       "<matplotlib.figure.Figure at 0x2ad106dd390>"
      ]
     },
     "metadata": {},
     "output_type": "display_data"
    }
   ],
   "source": [
    "plt.imshow(mnist.train.images[4].reshape(28,28),cmap='gist_gray')"
   ]
  },
  {
   "cell_type": "markdown",
   "metadata": {},
   "source": [
    "### Create CNN model"
   ]
  },
  {
   "cell_type": "code",
   "execution_count": 198,
   "metadata": {},
   "outputs": [],
   "source": [
    "x = tf.placeholder(tf.float32, shape = [None, 784])\n",
    "y_true = tf.placeholder(tf.float32, shape = [None, 10])"
   ]
  },
  {
   "cell_type": "code",
   "execution_count": 199,
   "metadata": {},
   "outputs": [],
   "source": [
    "## create convolutional neural network\n",
    "def init_weights(shape):\n",
    "    init_random_dist = tf.truncated_normal(shape, stddev=0.1)\n",
    "    return tf.Variable(init_random_dist)\n",
    "\n",
    "def init_bias(shape):\n",
    "    init_bias_vals = tf.constant(0.1, shape=shape)\n",
    "    return tf.Variable(init_bias_vals)"
   ]
  },
  {
   "cell_type": "markdown",
   "metadata": {},
   "source": [
    "Create a 2D convolution using built-in conv2d from tensorflow.\n",
    "\n",
    "Computes a 2-D convolution given 4-D input and filter tensors.\n",
    "\n",
    "Given an input tensor of shape `[batch, in_height, in_width, in_channels]` and a filter / kernel tensor of shape `[filter_height, filter_width, in_channels, out_channels]`, this operation performs the following:\n",
    "\n",
    "1. Flattens the filter to a 2-D matrix with shape `[filter_height * filter_width * in_channels, output_channels]`.\n",
    "2. Extracts image patches from the input tensor to form a *virtual* tensor of shape `[batch, out_height, out_width,     filter_height * filter_width * in_channels]`.\n",
    "3. For each patch, right-multiplies the filter matrix and the image patch vector."
   ]
  },
  {
   "cell_type": "code",
   "execution_count": null,
   "metadata": {},
   "outputs": [],
   "source": [
    "def conv2d(x, W):\n",
    "    return tf.nn.conv2d(x, W, strides=[1, 1, 1, 1], padding='SAME')\n",
    "\n",
    "def max_pool_2by2(x):\n",
    "    return tf.nn.max_pool(x, ksize=[1, 2, 2, 1], strides=[1, 2, 2, 1], padding='SAME')\n",
    "\n",
    "def convolutional_layer(input_x, shape):\n",
    "    W = init_weights(shape)\n",
    "    b = init_bias([shape[3]])\n",
    "    return tf.nn.relu(conv2d(input_x, W) + b)\n",
    "\n",
    "def normal_full_layer(input_layer, size):\n",
    "    input_size = int(input_layer.get_shape()[1])\n",
    "    W = init_weights([input_size, size])\n",
    "    b = init_bias([size])\n",
    "    return tf.matmul(input_layer, W) + b"
   ]
  },
  {
   "cell_type": "code",
   "execution_count": 200,
   "metadata": {},
   "outputs": [],
   "source": [
    "x_image = tf.reshape(x, [-1,28,28,1])\n",
    "\n",
    "# Using a 6by6 filter here, you can play around with the filter size\n",
    "# You can change the 32 output, that essentially represents the amount of filters used\n",
    "# You need to pass in 32 to the next input though, the 1 comes from the original input of \n",
    "# a single image.\n",
    "convo_1 = convolutional_layer(x_image, shape=[6,6,1,32])\n",
    "convo_1_pooling = max_pool_2by2(convo_1)\n",
    "\n",
    "\n",
    "# Using a 6by6 filter here, used 5by5 in video, you can play around with the filter size\n",
    "# You can actually change the 64 output if you want, you can think of that as a representation\n",
    "# of the amount of 6by6 filters used.\n",
    "convo_2 = convolutional_layer(convo_1_pooling,shape=[6,6,32,64])\n",
    "convo_2_pooling = max_pool_2by2(convo_2)\n",
    "\n",
    "\n",
    "# Why 7 by 7 image? Because we did 2 pooling layers, so (28/2)/2 = 7\n",
    "# 64 then just comes from the output of the previous convolution\n",
    "convo_2_flat = tf.reshape(convo_2_pooling,[-1,7*7*64])\n",
    "full_layer_one = tf.nn.relu(normal_full_layer(convo_2_flat,1024))\n",
    "\n",
    "\n",
    "# NOTE THE PLACEHOLDER HERE!\n",
    "hold_prob = tf.placeholder(tf.float32)\n",
    "full_one_dropout = tf.nn.dropout(full_layer_one,keep_prob=hold_prob)\n",
    "\n",
    "y_pred = normal_full_layer(full_one_dropout, 10)"
   ]
  },
  {
   "cell_type": "markdown",
   "metadata": {},
   "source": [
    "## Loss function"
   ]
  },
  {
   "cell_type": "code",
   "execution_count": 201,
   "metadata": {},
   "outputs": [],
   "source": [
    "cross_entropy = tf.reduce_mean(tf.nn.softmax_cross_entropy_with_logits(labels=y_true,logits=y_pred))"
   ]
  },
  {
   "cell_type": "markdown",
   "metadata": {},
   "source": [
    "## Optimizer"
   ]
  },
  {
   "cell_type": "code",
   "execution_count": 202,
   "metadata": {},
   "outputs": [],
   "source": [
    "optimizer = tf.train.AdamOptimizer(learning_rate=0.0001)\n",
    "train = optimizer.minimize(cross_entropy)"
   ]
  },
  {
   "cell_type": "markdown",
   "metadata": {},
   "source": [
    "## Init gloabl variables"
   ]
  },
  {
   "cell_type": "code",
   "execution_count": 203,
   "metadata": {},
   "outputs": [],
   "source": [
    "init = tf.global_variables_initializer()"
   ]
  },
  {
   "cell_type": "code",
   "execution_count": 205,
   "metadata": {},
   "outputs": [
    {
     "name": "stdout",
     "output_type": "stream",
     "text": [
      "Currently on step 0\n",
      "Accuracy is:\n",
      "0.1038\n",
      "\n",
      "\n",
      "Currently on step 100\n",
      "Accuracy is:\n",
      "0.8529\n",
      "\n",
      "\n",
      "Currently on step 200\n",
      "Accuracy is:\n",
      "0.913\n",
      "\n",
      "\n",
      "Currently on step 300\n",
      "Accuracy is:\n",
      "0.9284\n",
      "\n",
      "\n",
      "Currently on step 400\n",
      "Accuracy is:\n",
      "0.9418\n",
      "\n",
      "\n",
      "Currently on step 500\n",
      "Accuracy is:\n",
      "0.9508\n",
      "\n",
      "\n",
      "Currently on step 600\n",
      "Accuracy is:\n",
      "0.949\n",
      "\n",
      "\n",
      "Currently on step 700\n",
      "Accuracy is:\n",
      "0.9562\n",
      "\n",
      "\n",
      "Currently on step 800\n",
      "Accuracy is:\n",
      "0.9595\n",
      "\n",
      "\n",
      "Currently on step 900\n",
      "Accuracy is:\n",
      "0.9648\n",
      "\n",
      "\n",
      "Currently on step 1000\n",
      "Accuracy is:\n",
      "0.9665\n",
      "\n",
      "\n",
      "Currently on step 1100\n",
      "Accuracy is:\n",
      "0.9672\n",
      "\n",
      "\n",
      "Currently on step 1200\n",
      "Accuracy is:\n",
      "0.9701\n",
      "\n",
      "\n",
      "Currently on step 1300\n",
      "Accuracy is:\n",
      "0.9718\n",
      "\n",
      "\n",
      "Currently on step 1400\n",
      "Accuracy is:\n",
      "0.9738\n",
      "\n",
      "\n",
      "Currently on step 1500\n",
      "Accuracy is:\n",
      "0.9736\n",
      "\n",
      "\n",
      "Currently on step 1600\n",
      "Accuracy is:\n",
      "0.9758\n",
      "\n",
      "\n",
      "Currently on step 1700\n",
      "Accuracy is:\n",
      "0.976\n",
      "\n",
      "\n",
      "Currently on step 1800\n",
      "Accuracy is:\n",
      "0.9766\n",
      "\n",
      "\n",
      "Currently on step 1900\n",
      "Accuracy is:\n",
      "0.9751\n",
      "\n",
      "\n",
      "Currently on step 2000\n",
      "Accuracy is:\n",
      "0.9767\n",
      "\n",
      "\n",
      "Currently on step 2100\n",
      "Accuracy is:\n",
      "0.9788\n",
      "\n",
      "\n",
      "Currently on step 2200\n",
      "Accuracy is:\n",
      "0.9766\n",
      "\n",
      "\n",
      "Currently on step 2300\n",
      "Accuracy is:\n",
      "0.9793\n",
      "\n",
      "\n",
      "Currently on step 2400\n",
      "Accuracy is:\n",
      "0.98\n",
      "\n",
      "\n",
      "Currently on step 2500\n",
      "Accuracy is:\n",
      "0.9789\n",
      "\n",
      "\n",
      "Currently on step 2600\n",
      "Accuracy is:\n",
      "0.9798\n",
      "\n",
      "\n",
      "Currently on step 2700\n",
      "Accuracy is:\n",
      "0.9807\n",
      "\n",
      "\n",
      "Currently on step 2800\n",
      "Accuracy is:\n",
      "0.9818\n",
      "\n",
      "\n",
      "Currently on step 2900\n",
      "Accuracy is:\n",
      "0.9841\n",
      "\n",
      "\n",
      "Currently on step 3000\n",
      "Accuracy is:\n",
      "0.9815\n",
      "\n",
      "\n",
      "Currently on step 3100\n",
      "Accuracy is:\n",
      "0.9842\n",
      "\n",
      "\n",
      "Currently on step 3200\n",
      "Accuracy is:\n",
      "0.9843\n",
      "\n",
      "\n",
      "Currently on step 3300\n",
      "Accuracy is:\n",
      "0.9849\n",
      "\n",
      "\n",
      "Currently on step 3400\n",
      "Accuracy is:\n",
      "0.9839\n",
      "\n",
      "\n",
      "Currently on step 3500\n",
      "Accuracy is:\n",
      "0.9849\n",
      "\n",
      "\n",
      "Currently on step 3600\n",
      "Accuracy is:\n",
      "0.9844\n",
      "\n",
      "\n",
      "Currently on step 3700\n",
      "Accuracy is:\n",
      "0.9833\n",
      "\n",
      "\n",
      "Currently on step 3800\n",
      "Accuracy is:\n",
      "0.9853\n",
      "\n",
      "\n",
      "Currently on step 3900\n",
      "Accuracy is:\n",
      "0.9843\n",
      "\n",
      "\n"
     ]
    }
   ],
   "source": [
    "steps = 4000\n",
    "\n",
    "with tf.Session() as sess:\n",
    "    \n",
    "    sess.run(init)\n",
    "    \n",
    "    for i in range(steps):\n",
    "        \n",
    "        batch_x , batch_y = mnist.train.next_batch(50)\n",
    "        \n",
    "        sess.run(train,feed_dict={x:batch_x, y_true:batch_y, hold_prob:0.5})\n",
    "        \n",
    "        # PRINT OUT A MESSAGE EVERY 100 STEPS\n",
    "        if i%100 == 0:\n",
    "            \n",
    "            print('Currently on step {}'.format(i))\n",
    "            print('Accuracy is:')\n",
    "            \n",
    "            # Test the Train Model\n",
    "            matches = tf.equal(tf.argmax(y_pred,1),tf.argmax(y_true,1))\n",
    "\n",
    "            acc = tf.reduce_mean(tf.cast(matches, tf.float32))\n",
    "\n",
    "            print(sess.run(acc, feed_dict={x:mnist.test.images, y_true:mnist.test.labels, hold_prob:1.0}))\n",
    "            print('\\n')"
   ]
  },
  {
   "cell_type": "code",
   "execution_count": null,
   "metadata": {},
   "outputs": [],
   "source": []
  }
 ],
 "metadata": {
  "kernelspec": {
   "display_name": "Python 3",
   "language": "python",
   "name": "python3"
  },
  "language_info": {
   "codemirror_mode": {
    "name": "ipython",
    "version": 3
   },
   "file_extension": ".py",
   "mimetype": "text/x-python",
   "name": "python",
   "nbconvert_exporter": "python",
   "pygments_lexer": "ipython3",
   "version": "3.6.3"
  }
 },
 "nbformat": 4,
 "nbformat_minor": 2
}
