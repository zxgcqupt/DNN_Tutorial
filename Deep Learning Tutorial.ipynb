{
 "cells": [
  {
   "cell_type": "code",
   "execution_count": 2,
   "metadata": {},
   "outputs": [
    {
     "name": "stderr",
     "output_type": "stream",
     "text": [
      "/Users/xiaogezhang/anaconda3/lib/python3.6/importlib/_bootstrap.py:219: RuntimeWarning: compiletime version 3.5 of module 'tensorflow.python.framework.fast_tensor_util' does not match runtime version 3.6\n",
      "  return f(*args, **kwds)\n",
      "/Users/xiaogezhang/anaconda3/lib/python3.6/site-packages/h5py/__init__.py:36: FutureWarning: Conversion of the second argument of issubdtype from `float` to `np.floating` is deprecated. In future, it will be treated as `np.float64 == np.dtype(float).type`.\n",
      "  from ._conv import register_converters as _register_converters\n"
     ]
    },
    {
     "name": "stdout",
     "output_type": "stream",
     "text": [
      "Tensorflow version:  1.4.1\n"
     ]
    }
   ],
   "source": [
    "import tensorflow as tf\n",
    "import numpy as np\n",
    "\n",
    "print ('Tensorflow version: ', tf.__version__)"
   ]
  },
  {
   "cell_type": "markdown",
   "metadata": {},
   "source": [
    "## TensorFlow Basics"
   ]
  },
  {
   "cell_type": "markdown",
   "metadata": {},
   "source": [
    "### Tensors"
   ]
  },
  {
   "cell_type": "code",
   "execution_count": 3,
   "metadata": {},
   "outputs": [],
   "source": [
    "hello = tf.constant('Hello')"
   ]
  },
  {
   "cell_type": "code",
   "execution_count": 4,
   "metadata": {},
   "outputs": [
    {
     "data": {
      "text/plain": [
       "tensorflow.python.framework.ops.Tensor"
      ]
     },
     "execution_count": 4,
     "metadata": {},
     "output_type": "execute_result"
    }
   ],
   "source": [
    "type(hello)"
   ]
  },
  {
   "cell_type": "code",
   "execution_count": 5,
   "metadata": {},
   "outputs": [],
   "source": [
    "world = tf.constant('World')"
   ]
  },
  {
   "cell_type": "code",
   "execution_count": 6,
   "metadata": {},
   "outputs": [],
   "source": [
    "result = hello + world"
   ]
  },
  {
   "cell_type": "code",
   "execution_count": 7,
   "metadata": {},
   "outputs": [
    {
     "data": {
      "text/plain": [
       "<tf.Tensor 'add:0' shape=() dtype=string>"
      ]
     },
     "execution_count": 7,
     "metadata": {},
     "output_type": "execute_result"
    }
   ],
   "source": [
    "result"
   ]
  },
  {
   "cell_type": "code",
   "execution_count": 8,
   "metadata": {},
   "outputs": [],
   "source": [
    "with tf.Session() as sess:\n",
    "    result = sess.run(hello+world)"
   ]
  },
  {
   "cell_type": "code",
   "execution_count": 9,
   "metadata": {},
   "outputs": [
    {
     "data": {
      "text/plain": [
       "b'HelloWorld'"
      ]
     },
     "execution_count": 9,
     "metadata": {},
     "output_type": "execute_result"
    }
   ],
   "source": [
    "result"
   ]
  },
  {
   "cell_type": "markdown",
   "metadata": {},
   "source": [
    "### Computations"
   ]
  },
  {
   "cell_type": "code",
   "execution_count": 10,
   "metadata": {},
   "outputs": [],
   "source": [
    "tensor_1 = tf.constant(1)\n",
    "tensor_2 = tf.constant(2)"
   ]
  },
  {
   "cell_type": "code",
   "execution_count": 11,
   "metadata": {},
   "outputs": [],
   "source": [
    "res = tensor_1 + tensor_2"
   ]
  },
  {
   "cell_type": "code",
   "execution_count": 12,
   "metadata": {},
   "outputs": [
    {
     "data": {
      "text/plain": [
       "tensorflow.python.framework.ops.Tensor"
      ]
     },
     "execution_count": 12,
     "metadata": {},
     "output_type": "execute_result"
    }
   ],
   "source": [
    "type(res)"
   ]
  },
  {
   "cell_type": "code",
   "execution_count": 12,
   "metadata": {},
   "outputs": [
    {
     "data": {
      "text/plain": [
       "3"
      ]
     },
     "execution_count": 12,
     "metadata": {},
     "output_type": "execute_result"
    }
   ],
   "source": [
    "with tf.Session() as sess:\n",
    "    res = sess.run(tensor_1 + tensor_2)\n",
    "res"
   ]
  },
  {
   "cell_type": "markdown",
   "metadata": {},
   "source": [
    "### Matrix Operations"
   ]
  },
  {
   "cell_type": "code",
   "execution_count": 13,
   "metadata": {},
   "outputs": [],
   "source": [
    "sess = tf.InteractiveSession()\n",
    "fill_mat = tf.fill((4,4),10)\n",
    "myzeros = tf.zeros((4,4))\n",
    "myrandn = tf.random_normal((4,4),mean=0,stddev=0.5)"
   ]
  },
  {
   "cell_type": "code",
   "execution_count": 15,
   "metadata": {},
   "outputs": [
    {
     "data": {
      "text/plain": [
       "TensorShape([Dimension(2), Dimension(2)])"
      ]
     },
     "execution_count": 15,
     "metadata": {},
     "output_type": "execute_result"
    }
   ],
   "source": [
    "a = tf.constant([ [1,2],\n",
    "                  [3,4] ])\n",
    "a.get_shape()"
   ]
  },
  {
   "cell_type": "code",
   "execution_count": 16,
   "metadata": {},
   "outputs": [
    {
     "data": {
      "text/plain": [
       "TensorShape([Dimension(2), Dimension(1)])"
      ]
     },
     "execution_count": 16,
     "metadata": {},
     "output_type": "execute_result"
    }
   ],
   "source": [
    "b = tf.constant([[10],[100]])\n",
    "\n",
    "b.get_shape()"
   ]
  },
  {
   "cell_type": "code",
   "execution_count": 17,
   "metadata": {},
   "outputs": [
    {
     "data": {
      "text/plain": [
       "array([[210],\n",
       "       [430]], dtype=int32)"
      ]
     },
     "execution_count": 17,
     "metadata": {},
     "output_type": "execute_result"
    }
   ],
   "source": [
    "result = tf.matmul(a,b)\n",
    "result.eval()"
   ]
  },
  {
   "cell_type": "markdown",
   "metadata": {},
   "source": [
    "### Variables and Placeholders\n",
    "\n",
    "#### Variables can be used to hold the values of weights and biases that will be optimized through backpropagation algorithm. \n",
    "#### Variables need to be initialized. "
   ]
  },
  {
   "cell_type": "code",
   "execution_count": 18,
   "metadata": {},
   "outputs": [
    {
     "ename": "ValueError",
     "evalue": "initial_value must be specified.",
     "output_type": "error",
     "traceback": [
      "\u001b[0;31m---------------------------------------------------------------------------\u001b[0m",
      "\u001b[0;31mValueError\u001b[0m                                Traceback (most recent call last)",
      "\u001b[0;32m<ipython-input-18-37f4ba7b1c71>\u001b[0m in \u001b[0;36m<module>\u001b[0;34m()\u001b[0m\n\u001b[1;32m      1\u001b[0m \u001b[0mmy_tensor\u001b[0m \u001b[0;34m=\u001b[0m \u001b[0mtf\u001b[0m\u001b[0;34m.\u001b[0m\u001b[0mrandom_uniform\u001b[0m\u001b[0;34m(\u001b[0m\u001b[0;34m(\u001b[0m\u001b[0;36m4\u001b[0m\u001b[0;34m,\u001b[0m\u001b[0;36m4\u001b[0m\u001b[0;34m)\u001b[0m\u001b[0;34m,\u001b[0m\u001b[0;36m0\u001b[0m\u001b[0;34m,\u001b[0m\u001b[0;36m1\u001b[0m\u001b[0;34m)\u001b[0m\u001b[0;34m\u001b[0m\u001b[0m\n\u001b[1;32m      2\u001b[0m \u001b[0;34m\u001b[0m\u001b[0m\n\u001b[0;32m----> 3\u001b[0;31m \u001b[0mmy_var\u001b[0m \u001b[0;34m=\u001b[0m \u001b[0mtf\u001b[0m\u001b[0;34m.\u001b[0m\u001b[0mVariable\u001b[0m\u001b[0;34m(\u001b[0m\u001b[0;34m)\u001b[0m\u001b[0;34m\u001b[0m\u001b[0m\n\u001b[0m\u001b[1;32m      4\u001b[0m \u001b[0mprint\u001b[0m \u001b[0;34m(\u001b[0m\u001b[0mmy_var\u001b[0m\u001b[0;34m)\u001b[0m\u001b[0;34m\u001b[0m\u001b[0m\n",
      "\u001b[0;32m~/anaconda3/lib/python3.6/site-packages/tensorflow/python/ops/variables.py\u001b[0m in \u001b[0;36m__init__\u001b[0;34m(self, initial_value, trainable, collections, validate_shape, caching_device, name, variable_def, dtype, expected_shape, import_scope, constraint)\u001b[0m\n\u001b[1;32m    211\u001b[0m           \u001b[0mdtype\u001b[0m\u001b[0;34m=\u001b[0m\u001b[0mdtype\u001b[0m\u001b[0;34m,\u001b[0m\u001b[0;34m\u001b[0m\u001b[0m\n\u001b[1;32m    212\u001b[0m           \u001b[0mexpected_shape\u001b[0m\u001b[0;34m=\u001b[0m\u001b[0mexpected_shape\u001b[0m\u001b[0;34m,\u001b[0m\u001b[0;34m\u001b[0m\u001b[0m\n\u001b[0;32m--> 213\u001b[0;31m           constraint=constraint)\n\u001b[0m\u001b[1;32m    214\u001b[0m \u001b[0;34m\u001b[0m\u001b[0m\n\u001b[1;32m    215\u001b[0m   \u001b[0;32mdef\u001b[0m \u001b[0m__repr__\u001b[0m\u001b[0;34m(\u001b[0m\u001b[0mself\u001b[0m\u001b[0;34m)\u001b[0m\u001b[0;34m:\u001b[0m\u001b[0;34m\u001b[0m\u001b[0m\n",
      "\u001b[0;32m~/anaconda3/lib/python3.6/site-packages/tensorflow/python/ops/variables.py\u001b[0m in \u001b[0;36m_init_from_args\u001b[0;34m(self, initial_value, trainable, collections, validate_shape, caching_device, name, dtype, expected_shape, constraint)\u001b[0m\n\u001b[1;32m    271\u001b[0m     \u001b[0m_\u001b[0m \u001b[0;34m=\u001b[0m \u001b[0mexpected_shape\u001b[0m\u001b[0;34m\u001b[0m\u001b[0m\n\u001b[1;32m    272\u001b[0m     \u001b[0;32mif\u001b[0m \u001b[0minitial_value\u001b[0m \u001b[0;32mis\u001b[0m \u001b[0;32mNone\u001b[0m\u001b[0;34m:\u001b[0m\u001b[0;34m\u001b[0m\u001b[0m\n\u001b[0;32m--> 273\u001b[0;31m       \u001b[0;32mraise\u001b[0m \u001b[0mValueError\u001b[0m\u001b[0;34m(\u001b[0m\u001b[0;34m\"initial_value must be specified.\"\u001b[0m\u001b[0;34m)\u001b[0m\u001b[0;34m\u001b[0m\u001b[0m\n\u001b[0m\u001b[1;32m    274\u001b[0m     \u001b[0minit_from_fn\u001b[0m \u001b[0;34m=\u001b[0m \u001b[0mcallable\u001b[0m\u001b[0;34m(\u001b[0m\u001b[0minitial_value\u001b[0m\u001b[0;34m)\u001b[0m\u001b[0;34m\u001b[0m\u001b[0m\n\u001b[1;32m    275\u001b[0m \u001b[0;34m\u001b[0m\u001b[0m\n",
      "\u001b[0;31mValueError\u001b[0m: initial_value must be specified."
     ]
    }
   ],
   "source": [
    "my_tensor = tf.random_uniform((4,4),0,1)\n",
    "\n",
    "my_var = tf.Variable()\n",
    "print (my_var)"
   ]
  },
  {
   "cell_type": "code",
   "execution_count": 28,
   "metadata": {},
   "outputs": [
    {
     "data": {
      "text/plain": [
       "array([[0.68843925, 0.06951118, 0.4767313 , 0.34576714],\n",
       "       [0.5772841 , 0.6287644 , 0.74237597, 0.37395048],\n",
       "       [0.7068802 , 0.3391198 , 0.48243117, 0.47480857],\n",
       "       [0.670897  , 0.04317081, 0.9839406 , 0.28229344]], dtype=float32)"
      ]
     },
     "execution_count": 28,
     "metadata": {},
     "output_type": "execute_result"
    }
   ],
   "source": [
    "## Attention: all the global variables must be initialized before they can be used\n",
    "init = tf.global_variables_initializer()\n",
    "init.run()\n",
    "my_var.eval()"
   ]
  },
  {
   "cell_type": "markdown",
   "metadata": {},
   "source": [
    "#### Placeholders are initially empty, and are used to feed in the actual training examples. However, they do need a declared expected data type. "
   ]
  },
  {
   "cell_type": "code",
   "execution_count": 29,
   "metadata": {},
   "outputs": [],
   "source": [
    "ph = tf.placeholder(tf.float64)"
   ]
  },
  {
   "cell_type": "markdown",
   "metadata": {},
   "source": [
    "# Regression"
   ]
  },
  {
   "cell_type": "markdown",
   "metadata": {},
   "source": [
    "### Create dataset"
   ]
  },
  {
   "cell_type": "code",
   "execution_count": 19,
   "metadata": {},
   "outputs": [
    {
     "data": {
      "text/plain": [
       "[<matplotlib.lines.Line2D at 0x1819b0dd30>]"
      ]
     },
     "execution_count": 19,
     "metadata": {},
     "output_type": "execute_result"
    },
    {
     "data": {
      "image/png": "[encoded data removed]",
      "text/plain": [
       "<matplotlib.figure.Figure at 0x181384f160>"
      ]
     },
     "metadata": {},
     "output_type": "display_data"
    }
   ],
   "source": [
    "import numpy as np\n",
    "import matplotlib.pyplot as plt\n",
    "import pandas as pd\n",
    "\n",
    "samples = 1000\n",
    "x = np.linspace(0, 50, samples).astype(np.float32)\n",
    "noise = np.random.normal(loc = 0, scale = 0.08, size = samples)\n",
    "\n",
    "y = 2*np.sin(x/3) + 1.5*x**0.5 + x/10 + noise\n",
    "y = y.astype(np.float32)\n",
    "\n",
    "%matplotlib inline\n",
    "plt.plot(x, y)"
   ]
  },
  {
   "cell_type": "markdown",
   "metadata": {},
   "source": [
    "### Split the dataset"
   ]
  },
  {
   "cell_type": "code",
   "execution_count": 21,
   "metadata": {},
   "outputs": [],
   "source": [
    "from sklearn.model_selection import train_test_split\n",
    "test_size = 0.2\n",
    "x_train, x_test, y_train, y_test = train_test_split(x, y, test_size = test_size, random_state= 101)"
   ]
  },
  {
   "cell_type": "markdown",
   "metadata": {},
   "source": [
    "### Create deep learning-based regression model"
   ]
  },
  {
   "cell_type": "code",
   "execution_count": 25,
   "metadata": {},
   "outputs": [
    {
     "name": "stdout",
     "output_type": "stream",
     "text": [
      "INFO:tensorflow:Using default config.\n",
      "WARNING:tensorflow:Using temporary folder as model directory: /var/folders/19/1dxjj_9j4_zgswcbzb_njt6r0000gn/T/tmpg_qo24oz\n",
      "INFO:tensorflow:Using config: {'_model_dir': '/var/folders/19/1dxjj_9j4_zgswcbzb_njt6r0000gn/T/tmpg_qo24oz', '_tf_random_seed': None, '_save_summary_steps': 100, '_save_checkpoints_steps': None, '_save_checkpoints_secs': 600, '_session_config': None, '_keep_checkpoint_max': 5, '_keep_checkpoint_every_n_hours': 10000, '_log_step_count_steps': 100, '_service': None, '_cluster_spec': <tensorflow.python.training.server_lib.ClusterSpec object at 0x181d1e7e10>, '_task_type': 'worker', '_task_id': 0, '_master': '', '_is_chief': True, '_num_ps_replicas': 0, '_num_worker_replicas': 1}\n",
      "INFO:tensorflow:Create CheckpointSaverHook.\n",
      "INFO:tensorflow:Saving checkpoints for 1 into /var/folders/19/1dxjj_9j4_zgswcbzb_njt6r0000gn/T/tmpg_qo24oz/model.ckpt.\n",
      "INFO:tensorflow:loss = 2170.6067, step = 1\n",
      "INFO:tensorflow:global_step/sec: 440.137\n",
      "INFO:tensorflow:loss = 55.8006, step = 101 (0.228 sec)\n",
      "INFO:tensorflow:global_step/sec: 458.098\n",
      "INFO:tensorflow:loss = 78.38868, step = 201 (0.222 sec)\n",
      "INFO:tensorflow:global_step/sec: 407.108\n",
      "INFO:tensorflow:loss = 52.732822, step = 301 (0.242 sec)\n",
      "INFO:tensorflow:global_step/sec: 556.022\n",
      "INFO:tensorflow:loss = 65.02962, step = 401 (0.187 sec)\n",
      "INFO:tensorflow:global_step/sec: 415.267\n",
      "INFO:tensorflow:loss = 35.522552, step = 501 (0.233 sec)\n",
      "INFO:tensorflow:global_step/sec: 414.113\n",
      "INFO:tensorflow:loss = 31.557634, step = 601 (0.242 sec)\n",
      "INFO:tensorflow:global_step/sec: 439.192\n",
      "INFO:tensorflow:loss = 39.728996, step = 701 (0.226 sec)\n",
      "INFO:tensorflow:global_step/sec: 438.523\n",
      "INFO:tensorflow:loss = 46.246925, step = 801 (0.229 sec)\n",
      "INFO:tensorflow:global_step/sec: 417.176\n",
      "INFO:tensorflow:loss = 27.24575, step = 901 (0.250 sec)\n",
      "INFO:tensorflow:global_step/sec: 371.91\n",
      "INFO:tensorflow:loss = 35.624863, step = 1001 (0.257 sec)\n",
      "INFO:tensorflow:global_step/sec: 519.387\n",
      "INFO:tensorflow:loss = 30.625347, step = 1101 (0.193 sec)\n",
      "INFO:tensorflow:global_step/sec: 536.187\n",
      "INFO:tensorflow:loss = 30.452505, step = 1201 (0.186 sec)\n",
      "INFO:tensorflow:global_step/sec: 430.628\n",
      "INFO:tensorflow:loss = 47.308346, step = 1301 (0.232 sec)\n",
      "INFO:tensorflow:global_step/sec: 403.732\n",
      "INFO:tensorflow:loss = 31.352966, step = 1401 (0.248 sec)\n",
      "INFO:tensorflow:global_step/sec: 486.601\n",
      "INFO:tensorflow:loss = 37.80936, step = 1501 (0.207 sec)\n",
      "INFO:tensorflow:global_step/sec: 414.5\n",
      "INFO:tensorflow:loss = 34.540665, step = 1601 (0.241 sec)\n",
      "INFO:tensorflow:global_step/sec: 398.183\n",
      "INFO:tensorflow:loss = 28.964104, step = 1701 (0.253 sec)\n",
      "INFO:tensorflow:global_step/sec: 476.686\n",
      "INFO:tensorflow:loss = 32.25232, step = 1801 (0.215 sec)\n",
      "INFO:tensorflow:global_step/sec: 397.263\n",
      "INFO:tensorflow:loss = 32.679047, step = 1901 (0.245 sec)\n",
      "INFO:tensorflow:global_step/sec: 470.183\n",
      "INFO:tensorflow:loss = 39.293785, step = 2001 (0.211 sec)\n",
      "INFO:tensorflow:global_step/sec: 330.925\n",
      "INFO:tensorflow:loss = 33.816288, step = 2101 (0.325 sec)\n",
      "INFO:tensorflow:global_step/sec: 316.719\n",
      "INFO:tensorflow:loss = 40.943336, step = 2201 (0.294 sec)\n",
      "INFO:tensorflow:global_step/sec: 416.764\n",
      "INFO:tensorflow:loss = 44.367958, step = 2301 (0.241 sec)\n",
      "INFO:tensorflow:global_step/sec: 457.756\n",
      "INFO:tensorflow:loss = 37.92723, step = 2401 (0.218 sec)\n",
      "INFO:tensorflow:global_step/sec: 256.339\n",
      "INFO:tensorflow:loss = 44.598198, step = 2501 (0.394 sec)\n",
      "INFO:tensorflow:global_step/sec: 377.631\n",
      "INFO:tensorflow:loss = 29.038645, step = 2601 (0.273 sec)\n",
      "INFO:tensorflow:global_step/sec: 277.34\n",
      "INFO:tensorflow:loss = 31.16975, step = 2701 (0.370 sec)\n",
      "INFO:tensorflow:global_step/sec: 331.009\n",
      "INFO:tensorflow:loss = 28.959963, step = 2801 (0.282 sec)\n",
      "INFO:tensorflow:global_step/sec: 411.068\n",
      "INFO:tensorflow:loss = 24.853008, step = 2901 (0.240 sec)\n",
      "INFO:tensorflow:global_step/sec: 451.928\n",
      "INFO:tensorflow:loss = 28.124973, step = 3001 (0.222 sec)\n",
      "INFO:tensorflow:global_step/sec: 354.907\n",
      "INFO:tensorflow:loss = 35.695953, step = 3101 (0.292 sec)\n",
      "INFO:tensorflow:global_step/sec: 277.369\n",
      "INFO:tensorflow:loss = 34.16888, step = 3201 (0.362 sec)\n",
      "INFO:tensorflow:global_step/sec: 328.987\n",
      "INFO:tensorflow:loss = 36.904823, step = 3301 (0.293 sec)\n",
      "INFO:tensorflow:global_step/sec: 461.246\n",
      "INFO:tensorflow:loss = 25.633411, step = 3401 (0.216 sec)\n",
      "INFO:tensorflow:global_step/sec: 420.633\n",
      "INFO:tensorflow:loss = 37.236145, step = 3501 (0.244 sec)\n",
      "INFO:tensorflow:global_step/sec: 320.244\n",
      "INFO:tensorflow:loss = 41.031868, step = 3601 (0.328 sec)\n",
      "INFO:tensorflow:global_step/sec: 341.767\n",
      "INFO:tensorflow:loss = 28.739399, step = 3701 (0.280 sec)\n",
      "INFO:tensorflow:global_step/sec: 274.091\n",
      "INFO:tensorflow:loss = 52.773537, step = 3801 (0.362 sec)\n",
      "INFO:tensorflow:global_step/sec: 384.527\n",
      "INFO:tensorflow:loss = 40.182854, step = 3901 (0.253 sec)\n",
      "INFO:tensorflow:global_step/sec: 450.432\n",
      "INFO:tensorflow:loss = 31.936438, step = 4001 (0.223 sec)\n",
      "INFO:tensorflow:global_step/sec: 500.192\n",
      "INFO:tensorflow:loss = 37.73591, step = 4101 (0.206 sec)\n",
      "INFO:tensorflow:global_step/sec: 361.389\n",
      "INFO:tensorflow:loss = 22.996805, step = 4201 (0.277 sec)\n",
      "INFO:tensorflow:global_step/sec: 443.629\n",
      "INFO:tensorflow:loss = 27.767765, step = 4301 (0.221 sec)\n",
      "INFO:tensorflow:global_step/sec: 396.595\n",
      "INFO:tensorflow:loss = 31.646015, step = 4401 (0.254 sec)\n",
      "INFO:tensorflow:global_step/sec: 424.081\n",
      "INFO:tensorflow:loss = 36.493504, step = 4501 (0.237 sec)\n",
      "INFO:tensorflow:global_step/sec: 409.522\n",
      "INFO:tensorflow:loss = 39.32263, step = 4601 (0.250 sec)\n",
      "INFO:tensorflow:global_step/sec: 446.626\n",
      "INFO:tensorflow:loss = 34.764847, step = 4701 (0.213 sec)\n",
      "INFO:tensorflow:global_step/sec: 443.733\n",
      "INFO:tensorflow:loss = 43.859955, step = 4801 (0.227 sec)\n",
      "INFO:tensorflow:global_step/sec: 437.225\n",
      "INFO:tensorflow:loss = 21.58971, step = 4901 (0.227 sec)\n",
      "INFO:tensorflow:global_step/sec: 472.25\n",
      "INFO:tensorflow:loss = 31.497646, step = 5001 (0.211 sec)\n",
      "INFO:tensorflow:global_step/sec: 473.089\n",
      "INFO:tensorflow:loss = 26.292603, step = 5101 (0.211 sec)\n",
      "INFO:tensorflow:global_step/sec: 506.576\n",
      "INFO:tensorflow:loss = 23.863636, step = 5201 (0.198 sec)\n",
      "INFO:tensorflow:global_step/sec: 496.117\n",
      "INFO:tensorflow:loss = 33.9292, step = 5301 (0.203 sec)\n",
      "INFO:tensorflow:global_step/sec: 477.453\n",
      "INFO:tensorflow:loss = 39.188328, step = 5401 (0.209 sec)\n",
      "INFO:tensorflow:global_step/sec: 474.896\n",
      "INFO:tensorflow:loss = 32.25525, step = 5501 (0.210 sec)\n",
      "INFO:tensorflow:global_step/sec: 469.521\n",
      "INFO:tensorflow:loss = 34.49478, step = 5601 (0.213 sec)\n",
      "INFO:tensorflow:global_step/sec: 462.248\n",
      "INFO:tensorflow:loss = 26.234497, step = 5701 (0.217 sec)\n",
      "INFO:tensorflow:global_step/sec: 514.181\n",
      "INFO:tensorflow:loss = 26.654217, step = 5801 (0.194 sec)\n",
      "INFO:tensorflow:global_step/sec: 468.132\n",
      "INFO:tensorflow:loss = 26.383123, step = 5901 (0.214 sec)\n",
      "INFO:tensorflow:global_step/sec: 523.703\n",
      "INFO:tensorflow:loss = 25.95242, step = 6001 (0.190 sec)\n",
      "INFO:tensorflow:global_step/sec: 529.742\n",
      "INFO:tensorflow:loss = 27.380264, step = 6101 (0.189 sec)\n",
      "INFO:tensorflow:global_step/sec: 465.188\n",
      "INFO:tensorflow:loss = 25.397367, step = 6201 (0.214 sec)\n",
      "INFO:tensorflow:global_step/sec: 512.526\n",
      "INFO:tensorflow:loss = 16.181187, step = 6301 (0.196 sec)\n",
      "INFO:tensorflow:global_step/sec: 537.086\n",
      "INFO:tensorflow:loss = 23.418493, step = 6401 (0.188 sec)\n",
      "INFO:tensorflow:global_step/sec: 456.544\n",
      "INFO:tensorflow:loss = 31.483414, step = 6501 (0.217 sec)\n",
      "INFO:tensorflow:global_step/sec: 510.876\n",
      "INFO:tensorflow:loss = 26.692303, step = 6601 (0.196 sec)\n",
      "INFO:tensorflow:global_step/sec: 521.954\n",
      "INFO:tensorflow:loss = 24.032894, step = 6701 (0.192 sec)\n",
      "INFO:tensorflow:global_step/sec: 453.073\n",
      "INFO:tensorflow:loss = 15.48364, step = 6801 (0.221 sec)\n",
      "INFO:tensorflow:global_step/sec: 469.466\n",
      "INFO:tensorflow:loss = 12.244886, step = 6901 (0.212 sec)\n",
      "INFO:tensorflow:global_step/sec: 442.361\n",
      "INFO:tensorflow:loss = 14.565396, step = 7001 (0.233 sec)\n",
      "INFO:tensorflow:global_step/sec: 537.265\n",
      "INFO:tensorflow:loss = 19.918743, step = 7101 (0.181 sec)\n",
      "INFO:tensorflow:global_step/sec: 474.077\n",
      "INFO:tensorflow:loss = 15.477741, step = 7201 (0.209 sec)\n",
      "INFO:tensorflow:global_step/sec: 528.804\n",
      "INFO:tensorflow:loss = 20.00214, step = 7301 (0.192 sec)\n",
      "INFO:tensorflow:global_step/sec: 473.348\n",
      "INFO:tensorflow:loss = 21.996422, step = 7401 (0.214 sec)\n"
     ]
    },
    {
     "name": "stdout",
     "output_type": "stream",
     "text": [
      "INFO:tensorflow:global_step/sec: 490.517\n",
      "INFO:tensorflow:loss = 24.875975, step = 7501 (0.207 sec)\n",
      "INFO:tensorflow:global_step/sec: 483.397\n",
      "INFO:tensorflow:loss = 19.550388, step = 7601 (0.203 sec)\n",
      "INFO:tensorflow:global_step/sec: 483.4\n",
      "INFO:tensorflow:loss = 25.182148, step = 7701 (0.206 sec)\n",
      "INFO:tensorflow:global_step/sec: 512.069\n",
      "INFO:tensorflow:loss = 25.711845, step = 7801 (0.194 sec)\n",
      "INFO:tensorflow:global_step/sec: 477.218\n",
      "INFO:tensorflow:loss = 13.400686, step = 7901 (0.210 sec)\n",
      "INFO:tensorflow:global_step/sec: 541.588\n",
      "INFO:tensorflow:loss = 24.109089, step = 8001 (0.191 sec)\n",
      "INFO:tensorflow:global_step/sec: 451.537\n",
      "INFO:tensorflow:loss = 28.48536, step = 8101 (0.216 sec)\n",
      "INFO:tensorflow:global_step/sec: 412.21\n",
      "INFO:tensorflow:loss = 10.254711, step = 8201 (0.239 sec)\n",
      "INFO:tensorflow:global_step/sec: 456.056\n",
      "INFO:tensorflow:loss = 30.33763, step = 8301 (0.221 sec)\n",
      "INFO:tensorflow:global_step/sec: 472.905\n",
      "INFO:tensorflow:loss = 30.987778, step = 8401 (0.211 sec)\n",
      "INFO:tensorflow:global_step/sec: 440.898\n",
      "INFO:tensorflow:loss = 31.517632, step = 8501 (0.224 sec)\n",
      "INFO:tensorflow:global_step/sec: 450.328\n",
      "INFO:tensorflow:loss = 24.238075, step = 8601 (0.222 sec)\n",
      "INFO:tensorflow:global_step/sec: 477.556\n",
      "INFO:tensorflow:loss = 23.332355, step = 8701 (0.211 sec)\n",
      "INFO:tensorflow:global_step/sec: 495.238\n",
      "INFO:tensorflow:loss = 22.489708, step = 8801 (0.202 sec)\n",
      "INFO:tensorflow:global_step/sec: 481.056\n",
      "INFO:tensorflow:loss = 21.545708, step = 8901 (0.207 sec)\n",
      "INFO:tensorflow:global_step/sec: 532.785\n",
      "INFO:tensorflow:loss = 13.572464, step = 9001 (0.187 sec)\n",
      "INFO:tensorflow:global_step/sec: 515.967\n",
      "INFO:tensorflow:loss = 30.014614, step = 9101 (0.194 sec)\n",
      "INFO:tensorflow:global_step/sec: 473.08\n",
      "INFO:tensorflow:loss = 16.306393, step = 9201 (0.212 sec)\n",
      "INFO:tensorflow:global_step/sec: 474.737\n",
      "INFO:tensorflow:loss = 23.512018, step = 9301 (0.210 sec)\n",
      "INFO:tensorflow:global_step/sec: 477.042\n",
      "INFO:tensorflow:loss = 19.536114, step = 9401 (0.210 sec)\n",
      "INFO:tensorflow:global_step/sec: 472.936\n",
      "INFO:tensorflow:loss = 29.58421, step = 9501 (0.211 sec)\n",
      "INFO:tensorflow:global_step/sec: 249.677\n",
      "INFO:tensorflow:loss = 14.95801, step = 9601 (0.401 sec)\n",
      "INFO:tensorflow:global_step/sec: 256.748\n",
      "INFO:tensorflow:loss = 35.16062, step = 9701 (0.389 sec)\n",
      "INFO:tensorflow:global_step/sec: 276.173\n",
      "INFO:tensorflow:loss = 20.00869, step = 9801 (0.364 sec)\n",
      "INFO:tensorflow:global_step/sec: 307.516\n",
      "INFO:tensorflow:loss = 9.914154, step = 9901 (0.352 sec)\n",
      "INFO:tensorflow:global_step/sec: 288.18\n",
      "INFO:tensorflow:loss = 26.29051, step = 10001 (0.336 sec)\n",
      "INFO:tensorflow:global_step/sec: 224.088\n",
      "INFO:tensorflow:loss = 12.559798, step = 10101 (0.444 sec)\n",
      "INFO:tensorflow:global_step/sec: 432.692\n",
      "INFO:tensorflow:loss = 30.298553, step = 10201 (0.217 sec)\n",
      "INFO:tensorflow:global_step/sec: 425.588\n",
      "INFO:tensorflow:loss = 20.501034, step = 10301 (0.236 sec)\n",
      "INFO:tensorflow:global_step/sec: 350.606\n",
      "INFO:tensorflow:loss = 13.713257, step = 10401 (0.293 sec)\n",
      "INFO:tensorflow:global_step/sec: 361.393\n",
      "INFO:tensorflow:loss = 19.982471, step = 10501 (0.268 sec)\n",
      "INFO:tensorflow:global_step/sec: 462.388\n",
      "INFO:tensorflow:loss = 13.1118965, step = 10601 (0.219 sec)\n",
      "INFO:tensorflow:global_step/sec: 444.79\n",
      "INFO:tensorflow:loss = 16.793943, step = 10701 (0.222 sec)\n",
      "INFO:tensorflow:global_step/sec: 470.035\n",
      "INFO:tensorflow:loss = 44.994793, step = 10801 (0.212 sec)\n",
      "INFO:tensorflow:global_step/sec: 242.925\n",
      "INFO:tensorflow:loss = 16.616993, step = 10901 (0.412 sec)\n",
      "INFO:tensorflow:global_step/sec: 439.113\n",
      "INFO:tensorflow:loss = 49.74334, step = 11001 (0.228 sec)\n",
      "INFO:tensorflow:global_step/sec: 482.539\n",
      "INFO:tensorflow:loss = 23.566921, step = 11101 (0.207 sec)\n",
      "INFO:tensorflow:global_step/sec: 349.145\n",
      "INFO:tensorflow:loss = 15.521179, step = 11201 (0.312 sec)\n",
      "INFO:tensorflow:global_step/sec: 394.703\n",
      "INFO:tensorflow:loss = 17.7058, step = 11301 (0.228 sec)\n",
      "INFO:tensorflow:global_step/sec: 457.693\n",
      "INFO:tensorflow:loss = 17.06633, step = 11401 (0.221 sec)\n",
      "INFO:tensorflow:global_step/sec: 365.502\n",
      "INFO:tensorflow:loss = 18.599686, step = 11501 (0.300 sec)\n",
      "INFO:tensorflow:global_step/sec: 285.586\n",
      "INFO:tensorflow:loss = 13.746593, step = 11601 (0.324 sec)\n",
      "INFO:tensorflow:global_step/sec: 353.096\n",
      "INFO:tensorflow:loss = 15.315071, step = 11701 (0.297 sec)\n",
      "INFO:tensorflow:global_step/sec: 337.91\n",
      "INFO:tensorflow:loss = 15.036604, step = 11801 (0.285 sec)\n",
      "INFO:tensorflow:global_step/sec: 406.174\n",
      "INFO:tensorflow:loss = 11.723313, step = 11901 (0.241 sec)\n",
      "INFO:tensorflow:global_step/sec: 521.711\n",
      "INFO:tensorflow:loss = 11.237274, step = 12001 (0.191 sec)\n",
      "INFO:tensorflow:global_step/sec: 442.073\n",
      "INFO:tensorflow:loss = 6.232746, step = 12101 (0.226 sec)\n",
      "INFO:tensorflow:global_step/sec: 535.303\n",
      "INFO:tensorflow:loss = 2.2293196, step = 12201 (0.188 sec)\n",
      "INFO:tensorflow:global_step/sec: 469.68\n",
      "INFO:tensorflow:loss = 1.5769985, step = 12301 (0.212 sec)\n",
      "INFO:tensorflow:global_step/sec: 474.176\n",
      "INFO:tensorflow:loss = 2.840496, step = 12401 (0.211 sec)\n",
      "INFO:tensorflow:global_step/sec: 447.6\n",
      "INFO:tensorflow:loss = 3.1093369, step = 12501 (0.224 sec)\n",
      "INFO:tensorflow:global_step/sec: 416.504\n",
      "INFO:tensorflow:loss = 1.0850899, step = 12601 (0.245 sec)\n",
      "INFO:tensorflow:global_step/sec: 437.533\n",
      "INFO:tensorflow:loss = 1.5632545, step = 12701 (0.225 sec)\n",
      "INFO:tensorflow:global_step/sec: 464.235\n",
      "INFO:tensorflow:loss = 2.5558252, step = 12801 (0.218 sec)\n",
      "INFO:tensorflow:global_step/sec: 377.775\n",
      "INFO:tensorflow:loss = 2.002036, step = 12901 (0.261 sec)\n",
      "INFO:tensorflow:global_step/sec: 503.872\n",
      "INFO:tensorflow:loss = 0.40920904, step = 13001 (0.198 sec)\n",
      "INFO:tensorflow:global_step/sec: 280.937\n",
      "INFO:tensorflow:loss = 0.43402088, step = 13101 (0.361 sec)\n",
      "INFO:tensorflow:global_step/sec: 287.898\n",
      "INFO:tensorflow:loss = 0.30596554, step = 13201 (0.361 sec)\n",
      "INFO:tensorflow:global_step/sec: 282.13\n",
      "INFO:tensorflow:loss = 0.41184926, step = 13301 (0.342 sec)\n",
      "INFO:tensorflow:global_step/sec: 181.717\n",
      "INFO:tensorflow:loss = 0.5923263, step = 13401 (0.579 sec)\n",
      "INFO:tensorflow:global_step/sec: 231.447\n",
      "INFO:tensorflow:loss = 0.8909178, step = 13501 (0.402 sec)\n",
      "INFO:tensorflow:global_step/sec: 219.279\n",
      "INFO:tensorflow:loss = 0.64459336, step = 13601 (0.464 sec)\n",
      "INFO:tensorflow:global_step/sec: 284.633\n",
      "INFO:tensorflow:loss = 0.39620534, step = 13701 (0.347 sec)\n",
      "INFO:tensorflow:global_step/sec: 356.054\n",
      "INFO:tensorflow:loss = 0.5828174, step = 13801 (0.297 sec)\n",
      "INFO:tensorflow:global_step/sec: 354.643\n",
      "INFO:tensorflow:loss = 0.3587722, step = 13901 (0.259 sec)\n",
      "INFO:tensorflow:global_step/sec: 291.413\n",
      "INFO:tensorflow:loss = 1.907748, step = 14001 (0.359 sec)\n",
      "INFO:tensorflow:global_step/sec: 276.246\n",
      "INFO:tensorflow:loss = 0.9983995, step = 14101 (0.346 sec)\n",
      "INFO:tensorflow:global_step/sec: 365.31\n",
      "INFO:tensorflow:loss = 0.6829335, step = 14201 (0.273 sec)\n",
      "INFO:tensorflow:global_step/sec: 472.785\n",
      "INFO:tensorflow:loss = 0.5110016, step = 14301 (0.212 sec)\n",
      "INFO:tensorflow:global_step/sec: 342.647\n",
      "INFO:tensorflow:loss = 0.3111797, step = 14401 (0.297 sec)\n",
      "INFO:tensorflow:global_step/sec: 302.418\n",
      "INFO:tensorflow:loss = 0.79809296, step = 14501 (0.329 sec)\n",
      "INFO:tensorflow:global_step/sec: 401.631\n",
      "INFO:tensorflow:loss = 0.47302437, step = 14601 (0.245 sec)\n",
      "INFO:tensorflow:global_step/sec: 401.073\n",
      "INFO:tensorflow:loss = 0.18924299, step = 14701 (0.251 sec)\n",
      "INFO:tensorflow:global_step/sec: 502.544\n",
      "INFO:tensorflow:loss = 1.2933408, step = 14801 (0.203 sec)\n",
      "INFO:tensorflow:global_step/sec: 303.336\n",
      "INFO:tensorflow:loss = 0.43708688, step = 14901 (0.325 sec)\n",
      "INFO:tensorflow:global_step/sec: 485.616\n",
      "INFO:tensorflow:loss = 0.5015448, step = 15001 (0.204 sec)\n",
      "INFO:tensorflow:global_step/sec: 283.62\n",
      "INFO:tensorflow:loss = 3.2749794, step = 15101 (0.369 sec)\n",
      "INFO:tensorflow:global_step/sec: 264.38\n",
      "INFO:tensorflow:loss = 0.39374405, step = 15201 (0.364 sec)\n",
      "INFO:tensorflow:global_step/sec: 311.021\n",
      "INFO:tensorflow:loss = 0.24488243, step = 15301 (0.319 sec)\n",
      "INFO:tensorflow:global_step/sec: 473.83\n",
      "INFO:tensorflow:loss = 0.5136316, step = 15401 (0.218 sec)\n",
      "INFO:tensorflow:global_step/sec: 290.98\n",
      "INFO:tensorflow:loss = 0.2722504, step = 15501 (0.337 sec)\n",
      "INFO:tensorflow:global_step/sec: 434.767\n",
      "INFO:tensorflow:loss = 0.76494575, step = 15601 (0.230 sec)\n",
      "INFO:tensorflow:global_step/sec: 459.791\n"
     ]
    },
    {
     "name": "stdout",
     "output_type": "stream",
     "text": [
      "INFO:tensorflow:loss = 0.7028519, step = 15701 (0.221 sec)\n",
      "INFO:tensorflow:global_step/sec: 308.953\n",
      "INFO:tensorflow:loss = 0.27022064, step = 15801 (0.328 sec)\n",
      "INFO:tensorflow:global_step/sec: 423.641\n",
      "INFO:tensorflow:loss = 0.70358133, step = 15901 (0.229 sec)\n",
      "INFO:tensorflow:global_step/sec: 544.977\n",
      "INFO:tensorflow:loss = 0.5771282, step = 16001 (0.183 sec)\n",
      "INFO:tensorflow:global_step/sec: 583.169\n",
      "INFO:tensorflow:loss = 1.3527094, step = 16101 (0.172 sec)\n",
      "INFO:tensorflow:global_step/sec: 563.298\n",
      "INFO:tensorflow:loss = 0.41320807, step = 16201 (0.178 sec)\n",
      "INFO:tensorflow:global_step/sec: 486.573\n",
      "INFO:tensorflow:loss = 1.5971068, step = 16301 (0.209 sec)\n",
      "INFO:tensorflow:global_step/sec: 478.909\n",
      "INFO:tensorflow:loss = 0.922683, step = 16401 (0.207 sec)\n",
      "INFO:tensorflow:global_step/sec: 452.041\n",
      "INFO:tensorflow:loss = 0.3711704, step = 16501 (0.222 sec)\n",
      "INFO:tensorflow:global_step/sec: 520.533\n",
      "INFO:tensorflow:loss = 0.52184457, step = 16601 (0.190 sec)\n",
      "INFO:tensorflow:global_step/sec: 455.243\n",
      "INFO:tensorflow:loss = 0.23130967, step = 16701 (0.220 sec)\n",
      "INFO:tensorflow:global_step/sec: 540.663\n",
      "INFO:tensorflow:loss = 0.6218952, step = 16801 (0.189 sec)\n",
      "INFO:tensorflow:global_step/sec: 417.65\n",
      "INFO:tensorflow:loss = 0.56822646, step = 16901 (0.235 sec)\n",
      "INFO:tensorflow:global_step/sec: 253.607\n",
      "INFO:tensorflow:loss = 1.0846043, step = 17001 (0.406 sec)\n",
      "INFO:tensorflow:global_step/sec: 326.335\n",
      "INFO:tensorflow:loss = 0.38358152, step = 17101 (0.302 sec)\n",
      "INFO:tensorflow:global_step/sec: 460.782\n",
      "INFO:tensorflow:loss = 0.26142338, step = 17201 (0.211 sec)\n",
      "INFO:tensorflow:global_step/sec: 294.28\n",
      "INFO:tensorflow:loss = 0.34831727, step = 17301 (0.353 sec)\n",
      "INFO:tensorflow:global_step/sec: 368.571\n",
      "INFO:tensorflow:loss = 1.177538, step = 17401 (0.257 sec)\n",
      "INFO:tensorflow:global_step/sec: 520.283\n",
      "INFO:tensorflow:loss = 0.40437406, step = 17501 (0.193 sec)\n",
      "INFO:tensorflow:global_step/sec: 290.179\n",
      "INFO:tensorflow:loss = 0.39517874, step = 17601 (0.344 sec)\n",
      "INFO:tensorflow:global_step/sec: 388.472\n",
      "INFO:tensorflow:loss = 0.3454109, step = 17701 (0.257 sec)\n",
      "INFO:tensorflow:global_step/sec: 419.561\n",
      "INFO:tensorflow:loss = 0.28736907, step = 17801 (0.238 sec)\n",
      "INFO:tensorflow:global_step/sec: 427.732\n",
      "INFO:tensorflow:loss = 0.31601667, step = 17901 (0.247 sec)\n",
      "INFO:tensorflow:global_step/sec: 355.792\n",
      "INFO:tensorflow:loss = 0.13885525, step = 18001 (0.279 sec)\n",
      "INFO:tensorflow:global_step/sec: 404.536\n",
      "INFO:tensorflow:loss = 0.23181562, step = 18101 (0.236 sec)\n",
      "INFO:tensorflow:global_step/sec: 500.515\n",
      "INFO:tensorflow:loss = 0.22833976, step = 18201 (0.199 sec)\n",
      "INFO:tensorflow:global_step/sec: 468.825\n",
      "INFO:tensorflow:loss = 1.0652344, step = 18301 (0.214 sec)\n",
      "INFO:tensorflow:global_step/sec: 437.306\n",
      "INFO:tensorflow:loss = 0.6119536, step = 18401 (0.229 sec)\n",
      "INFO:tensorflow:global_step/sec: 495.658\n",
      "INFO:tensorflow:loss = 0.19635156, step = 18501 (0.201 sec)\n",
      "INFO:tensorflow:global_step/sec: 401.305\n",
      "INFO:tensorflow:loss = 0.50654525, step = 18601 (0.249 sec)\n",
      "INFO:tensorflow:global_step/sec: 411.997\n",
      "INFO:tensorflow:loss = 0.36140943, step = 18701 (0.250 sec)\n",
      "INFO:tensorflow:global_step/sec: 370.002\n",
      "INFO:tensorflow:loss = 0.23429716, step = 18801 (0.263 sec)\n",
      "INFO:tensorflow:global_step/sec: 462.983\n",
      "INFO:tensorflow:loss = 0.30896533, step = 18901 (0.215 sec)\n",
      "INFO:tensorflow:global_step/sec: 448.242\n",
      "INFO:tensorflow:loss = 1.1177529, step = 19001 (0.231 sec)\n",
      "INFO:tensorflow:global_step/sec: 270.302\n",
      "INFO:tensorflow:loss = 0.8104602, step = 19101 (0.362 sec)\n",
      "INFO:tensorflow:global_step/sec: 440.118\n",
      "INFO:tensorflow:loss = 0.4153322, step = 19201 (0.227 sec)\n",
      "INFO:tensorflow:global_step/sec: 516.406\n",
      "INFO:tensorflow:loss = 1.2851317, step = 19301 (0.193 sec)\n",
      "INFO:tensorflow:global_step/sec: 516.588\n",
      "INFO:tensorflow:loss = 0.9545618, step = 19401 (0.193 sec)\n",
      "INFO:tensorflow:global_step/sec: 233.037\n",
      "INFO:tensorflow:loss = 0.41215712, step = 19501 (0.432 sec)\n",
      "INFO:tensorflow:global_step/sec: 410.169\n",
      "INFO:tensorflow:loss = 0.19852743, step = 19601 (0.241 sec)\n",
      "INFO:tensorflow:global_step/sec: 459.2\n",
      "INFO:tensorflow:loss = 0.43038037, step = 19701 (0.217 sec)\n",
      "INFO:tensorflow:global_step/sec: 301.708\n",
      "INFO:tensorflow:loss = 0.7907685, step = 19801 (0.336 sec)\n",
      "INFO:tensorflow:global_step/sec: 303.232\n",
      "INFO:tensorflow:loss = 0.36690587, step = 19901 (0.339 sec)\n",
      "INFO:tensorflow:Saving checkpoints for 20000 into /var/folders/19/1dxjj_9j4_zgswcbzb_njt6r0000gn/T/tmpg_qo24oz/model.ckpt.\n",
      "INFO:tensorflow:Loss for final step: 0.4018993.\n"
     ]
    },
    {
     "data": {
      "text/plain": [
       "<tensorflow.python.estimator.canned.dnn.DNNRegressor at 0x181d144390>"
      ]
     },
     "execution_count": 25,
     "metadata": {},
     "output_type": "execute_result"
    }
   ],
   "source": [
    "import tensorflow as tf\n",
    "\n",
    "\n",
    "x_feat = tf.feature_column.numeric_column('x', shape = [1])\n",
    "\n",
    "regressor = tf.estimator.DNNRegressor(hidden_units = [20, 20, 20, 20, 20, 20, 20, 20], feature_columns = [x_feat], \n",
    "                                      optimizer = tf.train.AdamOptimizer(learning_rate = 0.001), \n",
    "                                      activation_fn = tf.nn.relu)\n",
    "\n",
    "input_func = tf.estimator.inputs.numpy_input_fn(x = {'x': x_train}, y = y_train, batch_size = 20, \n",
    "                                                num_epochs = 600, shuffle = True)\n",
    "\n",
    "## train the model\n",
    "regressor.train(input_fn = input_func, steps = 20000)"
   ]
  },
  {
   "cell_type": "code",
   "execution_count": 26,
   "metadata": {},
   "outputs": [
    {
     "name": "stdout",
     "output_type": "stream",
     "text": [
      "INFO:tensorflow:Restoring parameters from /var/folders/19/1dxjj_9j4_zgswcbzb_njt6r0000gn/T/tmpg_qo24oz/model.ckpt-20000\n"
     ]
    }
   ],
   "source": [
    "# make predictions\n",
    "eval_input = tf.estimator.inputs.numpy_input_fn(x = {'x': x_test}, shuffle = False)\n",
    "prediction = list(regressor.predict(eval_input))\n",
    "\n",
    "pred_val = [pred['predictions'] for pred in prediction]"
   ]
  },
  {
   "cell_type": "code",
   "execution_count": 27,
   "metadata": {},
   "outputs": [
    {
     "data": {
      "text/plain": [
       "<matplotlib.legend.Legend at 0x1a233f8e80>"
      ]
     },
     "execution_count": 27,
     "metadata": {},
     "output_type": "execute_result"
    },
    {
     "data": {
      "image/png": "[encoded data removed]",
      "text/plain": [
       "<matplotlib.figure.Figure at 0x1a219bce48>"
      ]
     },
     "metadata": {},
     "output_type": "display_data"
    }
   ],
   "source": [
    "# result comparison\n",
    "plt.plot(x_test, pred_val, '.')\n",
    "plt.plot(x_test, y_test, '+')\n",
    "plt.legend(['DNN', 'Actual Data'])"
   ]
  },
  {
   "cell_type": "markdown",
   "metadata": {},
   "source": [
    "## Classification"
   ]
  },
  {
   "cell_type": "markdown",
   "metadata": {},
   "source": [
    "### Raw data analysis"
   ]
  },
  {
   "cell_type": "code",
   "execution_count": 181,
   "metadata": {},
   "outputs": [
    {
     "name": "stdout",
     "output_type": "stream",
     "text": [
      "Extracting MNIST_data/train-images-idx3-ubyte.gz\n",
      "Extracting MNIST_data/train-labels-idx1-ubyte.gz\n",
      "Extracting MNIST_data/t10k-images-idx3-ubyte.gz\n",
      "Extracting MNIST_data/t10k-labels-idx1-ubyte.gz\n"
     ]
    }
   ],
   "source": [
    "from tensorflow.examples.tutorials.mnist import input_data\n",
    "mnist = input_data.read_data_sets(\"MNIST_data/\",one_hot=True)"
   ]
  },
  {
   "cell_type": "code",
   "execution_count": 182,
   "metadata": {},
   "outputs": [
    {
     "data": {
      "text/plain": [
       "tensorflow.contrib.learn.python.learn.datasets.base.Datasets"
      ]
     },
     "execution_count": 182,
     "metadata": {},
     "output_type": "execute_result"
    }
   ],
   "source": [
    "type(mnist)"
   ]
  },
  {
   "cell_type": "code",
   "execution_count": 183,
   "metadata": {},
   "outputs": [
    {
     "data": {
      "text/plain": [
       "array([[0., 0., 0., ..., 0., 0., 0.],\n",
       "       [0., 0., 0., ..., 0., 0., 0.],\n",
       "       [0., 0., 0., ..., 0., 0., 0.],\n",
       "       ...,\n",
       "       [0., 0., 0., ..., 0., 0., 0.],\n",
       "       [0., 0., 0., ..., 0., 0., 0.],\n",
       "       [0., 0., 0., ..., 0., 0., 0.]], dtype=float32)"
      ]
     },
     "execution_count": 183,
     "metadata": {},
     "output_type": "execute_result"
    }
   ],
   "source": [
    "mnist.train.images"
   ]
  },
  {
   "cell_type": "code",
   "execution_count": 184,
   "metadata": {},
   "outputs": [
    {
     "data": {
      "text/plain": [
       "array([[0., 0., 0., ..., 0., 0., 0.],\n",
       "       [0., 0., 0., ..., 0., 0., 0.],\n",
       "       [0., 0., 0., ..., 0., 0., 0.],\n",
       "       ...,\n",
       "       [0., 0., 0., ..., 0., 0., 0.],\n",
       "       [0., 0., 0., ..., 0., 0., 0.],\n",
       "       [0., 0., 0., ..., 0., 0., 0.]], dtype=float32)"
      ]
     },
     "execution_count": 184,
     "metadata": {},
     "output_type": "execute_result"
    }
   ],
   "source": [
    "mnist.test.images"
   ]
  },
  {
   "cell_type": "code",
   "execution_count": 185,
   "metadata": {},
   "outputs": [
    {
     "data": {
      "text/plain": [
       "55000"
      ]
     },
     "execution_count": 185,
     "metadata": {},
     "output_type": "execute_result"
    }
   ],
   "source": [
    "mnist.train.num_examples"
   ]
  },
  {
   "cell_type": "code",
   "execution_count": 186,
   "metadata": {},
   "outputs": [
    {
     "data": {
      "text/plain": [
       "10000"
      ]
     },
     "execution_count": 186,
     "metadata": {},
     "output_type": "execute_result"
    }
   ],
   "source": [
    "mnist.test.num_examples"
   ]
  },
  {
   "cell_type": "markdown",
   "metadata": {},
   "source": [
    "### Image visualization"
   ]
  },
  {
   "cell_type": "code",
   "execution_count": 187,
   "metadata": {},
   "outputs": [
    {
     "data": {
      "text/plain": [
       "(784,)"
      ]
     },
     "execution_count": 187,
     "metadata": {},
     "output_type": "execute_result"
    }
   ],
   "source": [
    "import matplotlib.pyplot as plt\n",
    "%matplotlib inline\n",
    "\n",
    "mnist.train.images[1].shape"
   ]
  },
  {
   "cell_type": "code",
   "execution_count": 188,
   "metadata": {},
   "outputs": [
    {
     "data": {
      "text/plain": [
       "<matplotlib.image.AxesImage at 0x2ad1030a550>"
      ]
     },
     "execution_count": 188,
     "metadata": {},
     "output_type": "execute_result"
    },
    {
     "data": {
      "image/png": "[encoded data removed]",
      "text/plain": [
       "<matplotlib.figure.Figure at 0x2ad10bc8358>"
      ]
     },
     "metadata": {},
     "output_type": "display_data"
    }
   ],
   "source": [
    "plt.imshow(np.reshape(mnist.train.images[1], newshape=(28, 28)))"
   ]
  },
  {
   "cell_type": "code",
   "execution_count": 189,
   "metadata": {},
   "outputs": [
    {
     "data": {
      "text/plain": [
       "<matplotlib.image.AxesImage at 0x2ad10cf0668>"
      ]
     },
     "execution_count": 189,
     "metadata": {},
     "output_type": "execute_result"
    },
    {
     "data": {
      "image/png": "[encoded data removed]",
      "text/plain": [
       "<matplotlib.figure.Figure at 0x2ad106dd390>"
      ]
     },
     "metadata": {},
     "output_type": "display_data"
    }
   ],
   "source": [
    "plt.imshow(mnist.train.images[4].reshape(28,28),cmap='gist_gray')"
   ]
  },
  {
   "cell_type": "markdown",
   "metadata": {},
   "source": [
    "### Create CNN model"
   ]
  },
  {
   "cell_type": "code",
   "execution_count": 198,
   "metadata": {},
   "outputs": [],
   "source": [
    "x = tf.placeholder(tf.float32, shape = [None, 784])\n",
    "y_true = tf.placeholder(tf.float32, shape = [None, 10])"
   ]
  },
  {
   "cell_type": "code",
   "execution_count": 199,
   "metadata": {},
   "outputs": [],
   "source": [
    "## create convolutional neural network\n",
    "def init_weights(shape):\n",
    "    init_random_dist = tf.truncated_normal(shape, stddev=0.1)\n",
    "    return tf.Variable(init_random_dist)\n",
    "\n",
    "def init_bias(shape):\n",
    "    init_bias_vals = tf.constant(0.1, shape=shape)\n",
    "    return tf.Variable(init_bias_vals)"
   ]
  },
  {
   "cell_type": "markdown",
   "metadata": {},
   "source": [
    "Create a 2D convolution using built-in conv2d from tensorflow.\n",
    "\n",
    "Computes a 2-D convolution given 4-D input and filter tensors.\n",
    "\n",
    "Given an input tensor of shape `[batch, in_height, in_width, in_channels]` and a filter / kernel tensor of shape `[filter_height, filter_width, in_channels, out_channels]`, this operation performs the following:\n",
    "\n",
    "1. Flattens the filter to a 2-D matrix with shape `[filter_height * filter_width * in_channels, output_channels]`.\n",
    "2. Extracts image patches from the input tensor to form a *virtual* tensor of shape `[batch, out_height, out_width,     filter_height * filter_width * in_channels]`.\n",
    "3. For each patch, right-multiplies the filter matrix and the image patch vector."
   ]
  },
  {
   "cell_type": "code",
   "execution_count": null,
   "metadata": {},
   "outputs": [],
   "source": [
    "def conv2d(x, W):\n",
    "    return tf.nn.conv2d(x, W, strides=[1, 1, 1, 1], padding='SAME')\n",
    "\n",
    "def max_pool_2by2(x):\n",
    "    return tf.nn.max_pool(x, ksize=[1, 2, 2, 1], strides=[1, 2, 2, 1], padding='SAME')\n",
    "\n",
    "def convolutional_layer(input_x, shape):\n",
    "    W = init_weights(shape)\n",
    "    b = init_bias([shape[3]])\n",
    "    return tf.nn.relu(conv2d(input_x, W) + b)\n",
    "\n",
    "def normal_full_layer(input_layer, size):\n",
    "    input_size = int(input_layer.get_shape()[1])\n",
    "    W = init_weights([input_size, size])\n",
    "    b = init_bias([size])\n",
    "    return tf.matmul(input_layer, W) + b"
   ]
  },
  {
   "cell_type": "code",
   "execution_count": 206,
   "metadata": {},
   "outputs": [],
   "source": [
    "x_image = tf.reshape(x, [-1,28,28,1])\n",
    "\n",
    "# Using a 6by6 filter here, you can play around with the filter size\n",
    "# You can change the 32 output, that essentially represents the amount of filters used\n",
    "# You need to pass in 32 to the next input though, the 1 comes from the original input of \n",
    "# a single image.\n",
    "convo_1 = convolutional_layer(x_image, shape=[6,6,1,32])\n",
    "convo_1_pooling = max_pool_2by2(convo_1)\n",
    "\n",
    "\n",
    "# Using a 6by6 filter here, used 5by5 in video, you can play around with the filter size\n",
    "# You can actually change the 64 output if you want, you can think of that as a representation\n",
    "# of the amount of 6by6 filters used.\n",
    "convo_2 = convolutional_layer(convo_1_pooling,shape=[6,6,32,64])\n",
    "convo_2_pooling = max_pool_2by2(convo_2)\n",
    "\n",
    "\n",
    "# Why 7 by 7 image? Because we did 2 pooling layers, so (28/2)/2 = 7\n",
    "# 64 then just comes from the output of the previous convolution\n",
    "convo_2_flat = tf.reshape(convo_2_pooling,[-1,7*7*64])\n",
    "full_layer_one = tf.nn.relu(normal_full_layer(convo_2_flat,1024))\n",
    "\n",
    "\n",
    "# NOTE THE PLACEHOLDER HERE!\n",
    "hold_prob = tf.placeholder(tf.float32)\n",
    "full_one_dropout = tf.nn.dropout(full_layer_one,keep_prob=hold_prob)\n",
    "\n",
    "y_pred = normal_full_layer(full_one_dropout, 10)"
   ]
  },
  {
   "cell_type": "markdown",
   "metadata": {},
   "source": [
    "## Loss function"
   ]
  },
  {
   "cell_type": "code",
   "execution_count": 207,
   "metadata": {},
   "outputs": [],
   "source": [
    "cross_entropy = tf.reduce_mean(tf.nn.softmax_cross_entropy_with_logits(labels=y_true,logits=y_pred))"
   ]
  },
  {
   "cell_type": "markdown",
   "metadata": {},
   "source": [
    "## Optimizer"
   ]
  },
  {
   "cell_type": "code",
   "execution_count": 208,
   "metadata": {},
   "outputs": [],
   "source": [
    "optimizer = tf.train.AdamOptimizer(learning_rate=0.0001)\n",
    "train = optimizer.minimize(cross_entropy)"
   ]
  },
  {
   "cell_type": "markdown",
   "metadata": {},
   "source": [
    "## Init gloabl variables"
   ]
  },
  {
   "cell_type": "code",
   "execution_count": 203,
   "metadata": {},
   "outputs": [],
   "source": [
    "init = tf.global_variables_initializer()"
   ]
  },
  {
   "cell_type": "code",
   "execution_count": 205,
   "metadata": {},
   "outputs": [
    {
     "name": "stdout",
     "output_type": "stream",
     "text": [
      "Currently on step 0\n",
      "Accuracy is:\n",
      "0.1038\n",
      "\n",
      "\n",
      "Currently on step 100\n",
      "Accuracy is:\n",
      "0.8529\n",
      "\n",
      "\n",
      "Currently on step 200\n",
      "Accuracy is:\n",
      "0.913\n",
      "\n",
      "\n",
      "Currently on step 300\n",
      "Accuracy is:\n",
      "0.9284\n",
      "\n",
      "\n",
      "Currently on step 400\n",
      "Accuracy is:\n",
      "0.9418\n",
      "\n",
      "\n",
      "Currently on step 500\n",
      "Accuracy is:\n",
      "0.9508\n",
      "\n",
      "\n",
      "Currently on step 600\n",
      "Accuracy is:\n",
      "0.949\n",
      "\n",
      "\n",
      "Currently on step 700\n",
      "Accuracy is:\n",
      "0.9562\n",
      "\n",
      "\n",
      "Currently on step 800\n",
      "Accuracy is:\n",
      "0.9595\n",
      "\n",
      "\n",
      "Currently on step 900\n",
      "Accuracy is:\n",
      "0.9648\n",
      "\n",
      "\n",
      "Currently on step 1000\n",
      "Accuracy is:\n",
      "0.9665\n",
      "\n",
      "\n",
      "Currently on step 1100\n",
      "Accuracy is:\n",
      "0.9672\n",
      "\n",
      "\n",
      "Currently on step 1200\n",
      "Accuracy is:\n",
      "0.9701\n",
      "\n",
      "\n",
      "Currently on step 1300\n",
      "Accuracy is:\n",
      "0.9718\n",
      "\n",
      "\n",
      "Currently on step 1400\n",
      "Accuracy is:\n",
      "0.9738\n",
      "\n",
      "\n",
      "Currently on step 1500\n",
      "Accuracy is:\n",
      "0.9736\n",
      "\n",
      "\n",
      "Currently on step 1600\n",
      "Accuracy is:\n",
      "0.9758\n",
      "\n",
      "\n",
      "Currently on step 1700\n",
      "Accuracy is:\n",
      "0.976\n",
      "\n",
      "\n",
      "Currently on step 1800\n",
      "Accuracy is:\n",
      "0.9766\n",
      "\n",
      "\n",
      "Currently on step 1900\n",
      "Accuracy is:\n",
      "0.9751\n",
      "\n",
      "\n",
      "Currently on step 2000\n",
      "Accuracy is:\n",
      "0.9767\n",
      "\n",
      "\n",
      "Currently on step 2100\n",
      "Accuracy is:\n",
      "0.9788\n",
      "\n",
      "\n",
      "Currently on step 2200\n",
      "Accuracy is:\n",
      "0.9766\n",
      "\n",
      "\n",
      "Currently on step 2300\n",
      "Accuracy is:\n",
      "0.9793\n",
      "\n",
      "\n",
      "Currently on step 2400\n",
      "Accuracy is:\n",
      "0.98\n",
      "\n",
      "\n",
      "Currently on step 2500\n",
      "Accuracy is:\n",
      "0.9789\n",
      "\n",
      "\n",
      "Currently on step 2600\n",
      "Accuracy is:\n",
      "0.9798\n",
      "\n",
      "\n",
      "Currently on step 2700\n",
      "Accuracy is:\n",
      "0.9807\n",
      "\n",
      "\n",
      "Currently on step 2800\n",
      "Accuracy is:\n",
      "0.9818\n",
      "\n",
      "\n",
      "Currently on step 2900\n",
      "Accuracy is:\n",
      "0.9841\n",
      "\n",
      "\n",
      "Currently on step 3000\n",
      "Accuracy is:\n",
      "0.9815\n",
      "\n",
      "\n",
      "Currently on step 3100\n",
      "Accuracy is:\n",
      "0.9842\n",
      "\n",
      "\n",
      "Currently on step 3200\n",
      "Accuracy is:\n",
      "0.9843\n",
      "\n",
      "\n",
      "Currently on step 3300\n",
      "Accuracy is:\n",
      "0.9849\n",
      "\n",
      "\n",
      "Currently on step 3400\n",
      "Accuracy is:\n",
      "0.9839\n",
      "\n",
      "\n",
      "Currently on step 3500\n",
      "Accuracy is:\n",
      "0.9849\n",
      "\n",
      "\n",
      "Currently on step 3600\n",
      "Accuracy is:\n",
      "0.9844\n",
      "\n",
      "\n",
      "Currently on step 3700\n",
      "Accuracy is:\n",
      "0.9833\n",
      "\n",
      "\n",
      "Currently on step 3800\n",
      "Accuracy is:\n",
      "0.9853\n",
      "\n",
      "\n",
      "Currently on step 3900\n",
      "Accuracy is:\n",
      "0.9843\n",
      "\n",
      "\n"
     ]
    }
   ],
   "source": [
    "steps = 4000\n",
    "\n",
    "with tf.Session() as sess:\n",
    "    \n",
    "    sess.run(init)\n",
    "    \n",
    "    for i in range(steps):\n",
    "        \n",
    "        batch_x , batch_y = mnist.train.next_batch(50)\n",
    "        \n",
    "        sess.run(train,feed_dict={x:batch_x, y_true:batch_y, hold_prob:0.5})\n",
    "        \n",
    "        # PRINT OUT A MESSAGE EVERY 100 STEPS\n",
    "        if i%100 == 0:\n",
    "            \n",
    "            print('Currently on step {}'.format(i))\n",
    "            print('Accuracy is:')\n",
    "            \n",
    "            # Test the Train Model\n",
    "            matches = tf.equal(tf.argmax(y_pred,1),tf.argmax(y_true,1))\n",
    "\n",
    "            acc = tf.reduce_mean(tf.cast(matches, tf.float32))\n",
    "\n",
    "            print(sess.run(acc, feed_dict={x:mnist.test.images, y_true:mnist.test.labels, hold_prob:1.0}))\n",
    "            print('\\n')"
   ]
  },
  {
   "cell_type": "code",
   "execution_count": null,
   "metadata": {},
   "outputs": [],
   "source": []
  }
 ],
 "metadata": {
  "kernelspec": {
   "display_name": "Python 3",
   "language": "python",
   "name": "python3"
  },
  "language_info": {
   "codemirror_mode": {
    "name": "ipython",
    "version": 3
   },
   "file_extension": ".py",
   "mimetype": "text/x-python",
   "name": "python",
   "nbconvert_exporter": "python",
   "pygments_lexer": "ipython3",
   "version": "3.6.4"
  }
 },
 "nbformat": 4,
 "nbformat_minor": 2
}
