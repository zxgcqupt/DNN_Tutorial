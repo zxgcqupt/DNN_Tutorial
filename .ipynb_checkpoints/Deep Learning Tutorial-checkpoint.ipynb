{
 "cells": [
  {
   "cell_type": "code",
   "execution_count": 2,
   "metadata": {},
   "outputs": [
    {
     "name": "stderr",
     "output_type": "stream",
     "text": [
      "/Users/xiaogezhang/anaconda3/lib/python3.6/importlib/_bootstrap.py:219: RuntimeWarning: compiletime version 3.5 of module 'tensorflow.python.framework.fast_tensor_util' does not match runtime version 3.6\n",
      "  return f(*args, **kwds)\n",
      "/Users/xiaogezhang/anaconda3/lib/python3.6/site-packages/h5py/__init__.py:36: FutureWarning: Conversion of the second argument of issubdtype from `float` to `np.floating` is deprecated. In future, it will be treated as `np.float64 == np.dtype(float).type`.\n",
      "  from ._conv import register_converters as _register_converters\n"
     ]
    },
    {
     "name": "stdout",
     "output_type": "stream",
     "text": [
      "Tensorflow version:  1.4.1\n"
     ]
    }
   ],
   "source": [
    "import tensorflow as tf\n",
    "import numpy as np\n",
    "\n",
    "print ('Tensorflow version: ', tf.__version__)"
   ]
  },
  {
   "cell_type": "markdown",
   "metadata": {},
   "source": [
    "## TensorFlow Basics"
   ]
  },
  {
   "cell_type": "markdown",
   "metadata": {},
   "source": [
    "### Tensors"
   ]
  },
  {
   "cell_type": "code",
   "execution_count": 3,
   "metadata": {},
   "outputs": [],
   "source": [
    "hello = tf.constant('Hello')"
   ]
  },
  {
   "cell_type": "code",
   "execution_count": 4,
   "metadata": {},
   "outputs": [
    {
     "data": {
      "text/plain": [
       "tensorflow.python.framework.ops.Tensor"
      ]
     },
     "execution_count": 4,
     "metadata": {},
     "output_type": "execute_result"
    }
   ],
   "source": [
    "type(hello)"
   ]
  },
  {
   "cell_type": "code",
   "execution_count": 5,
   "metadata": {},
   "outputs": [],
   "source": [
    "world = tf.constant('World')"
   ]
  },
  {
   "cell_type": "code",
   "execution_count": 6,
   "metadata": {},
   "outputs": [],
   "source": [
    "result = hello + world"
   ]
  },
  {
   "cell_type": "code",
   "execution_count": 7,
   "metadata": {},
   "outputs": [
    {
     "data": {
      "text/plain": [
       "<tf.Tensor 'add:0' shape=() dtype=string>"
      ]
     },
     "execution_count": 7,
     "metadata": {},
     "output_type": "execute_result"
    }
   ],
   "source": [
    "result"
   ]
  },
  {
   "cell_type": "code",
   "execution_count": 8,
   "metadata": {},
   "outputs": [],
   "source": [
    "with tf.Session() as sess:\n",
    "    result = sess.run(hello+world)"
   ]
  },
  {
   "cell_type": "code",
   "execution_count": 9,
   "metadata": {},
   "outputs": [
    {
     "data": {
      "text/plain": [
       "b'HelloWorld'"
      ]
     },
     "execution_count": 9,
     "metadata": {},
     "output_type": "execute_result"
    }
   ],
   "source": [
    "result"
   ]
  },
  {
   "cell_type": "markdown",
   "metadata": {},
   "source": [
    "### Computations"
   ]
  },
  {
   "cell_type": "code",
   "execution_count": 10,
   "metadata": {},
   "outputs": [],
   "source": [
    "tensor_1 = tf.constant(1)\n",
    "tensor_2 = tf.constant(2)"
   ]
  },
  {
   "cell_type": "code",
   "execution_count": 11,
   "metadata": {},
   "outputs": [],
   "source": [
    "res = tensor_1 + tensor_2"
   ]
  },
  {
   "cell_type": "code",
   "execution_count": 12,
   "metadata": {},
   "outputs": [
    {
     "data": {
      "text/plain": [
       "tensorflow.python.framework.ops.Tensor"
      ]
     },
     "execution_count": 12,
     "metadata": {},
     "output_type": "execute_result"
    }
   ],
   "source": [
    "type(res)"
   ]
  },
  {
   "cell_type": "code",
   "execution_count": 12,
   "metadata": {},
   "outputs": [
    {
     "data": {
      "text/plain": [
       "3"
      ]
     },
     "execution_count": 12,
     "metadata": {},
     "output_type": "execute_result"
    }
   ],
   "source": [
    "with tf.Session() as sess:\n",
    "    res = sess.run(tensor_1 + tensor_2)\n",
    "res"
   ]
  },
  {
   "cell_type": "markdown",
   "metadata": {},
   "source": [
    "### Matrix Operations"
   ]
  },
  {
   "cell_type": "code",
   "execution_count": 13,
   "metadata": {},
   "outputs": [],
   "source": [
    "sess = tf.InteractiveSession()\n",
    "fill_mat = tf.fill((4,4),10)\n",
    "myzeros = tf.zeros((4,4))\n",
    "myrandn = tf.random_normal((4,4),mean=0,stddev=0.5)"
   ]
  },
  {
   "cell_type": "code",
   "execution_count": 15,
   "metadata": {},
   "outputs": [
    {
     "data": {
      "text/plain": [
       "TensorShape([Dimension(2), Dimension(2)])"
      ]
     },
     "execution_count": 15,
     "metadata": {},
     "output_type": "execute_result"
    }
   ],
   "source": [
    "a = tf.constant([ [1,2],\n",
    "                  [3,4] ])\n",
    "a.get_shape()"
   ]
  },
  {
   "cell_type": "code",
   "execution_count": 16,
   "metadata": {},
   "outputs": [
    {
     "data": {
      "text/plain": [
       "TensorShape([Dimension(2), Dimension(1)])"
      ]
     },
     "execution_count": 16,
     "metadata": {},
     "output_type": "execute_result"
    }
   ],
   "source": [
    "b = tf.constant([[10],[100]])\n",
    "\n",
    "b.get_shape()"
   ]
  },
  {
   "cell_type": "code",
   "execution_count": 17,
   "metadata": {},
   "outputs": [
    {
     "data": {
      "text/plain": [
       "array([[210],\n",
       "       [430]], dtype=int32)"
      ]
     },
     "execution_count": 17,
     "metadata": {},
     "output_type": "execute_result"
    }
   ],
   "source": [
    "result = tf.matmul(a,b)\n",
    "result.eval()"
   ]
  },
  {
   "cell_type": "markdown",
   "metadata": {},
   "source": [
    "### Variables and Placeholders\n",
    "\n",
    "#### Variables can be used to hold the values of weights and biases that will be optimized through backpropagation algorithm. \n",
    "#### Variables need to be initialized. "
   ]
  },
  {
   "cell_type": "code",
   "execution_count": 18,
   "metadata": {},
   "outputs": [
    {
     "ename": "ValueError",
     "evalue": "initial_value must be specified.",
     "output_type": "error",
     "traceback": [
      "\u001b[0;31m---------------------------------------------------------------------------\u001b[0m",
      "\u001b[0;31mValueError\u001b[0m                                Traceback (most recent call last)",
      "\u001b[0;32m<ipython-input-18-37f4ba7b1c71>\u001b[0m in \u001b[0;36m<module>\u001b[0;34m()\u001b[0m\n\u001b[1;32m      1\u001b[0m \u001b[0mmy_tensor\u001b[0m \u001b[0;34m=\u001b[0m \u001b[0mtf\u001b[0m\u001b[0;34m.\u001b[0m\u001b[0mrandom_uniform\u001b[0m\u001b[0;34m(\u001b[0m\u001b[0;34m(\u001b[0m\u001b[0;36m4\u001b[0m\u001b[0;34m,\u001b[0m\u001b[0;36m4\u001b[0m\u001b[0;34m)\u001b[0m\u001b[0;34m,\u001b[0m\u001b[0;36m0\u001b[0m\u001b[0;34m,\u001b[0m\u001b[0;36m1\u001b[0m\u001b[0;34m)\u001b[0m\u001b[0;34m\u001b[0m\u001b[0m\n\u001b[1;32m      2\u001b[0m \u001b[0;34m\u001b[0m\u001b[0m\n\u001b[0;32m----> 3\u001b[0;31m \u001b[0mmy_var\u001b[0m \u001b[0;34m=\u001b[0m \u001b[0mtf\u001b[0m\u001b[0;34m.\u001b[0m\u001b[0mVariable\u001b[0m\u001b[0;34m(\u001b[0m\u001b[0;34m)\u001b[0m\u001b[0;34m\u001b[0m\u001b[0m\n\u001b[0m\u001b[1;32m      4\u001b[0m \u001b[0mprint\u001b[0m \u001b[0;34m(\u001b[0m\u001b[0mmy_var\u001b[0m\u001b[0;34m)\u001b[0m\u001b[0;34m\u001b[0m\u001b[0m\n",
      "\u001b[0;32m~/anaconda3/lib/python3.6/site-packages/tensorflow/python/ops/variables.py\u001b[0m in \u001b[0;36m__init__\u001b[0;34m(self, initial_value, trainable, collections, validate_shape, caching_device, name, variable_def, dtype, expected_shape, import_scope, constraint)\u001b[0m\n\u001b[1;32m    211\u001b[0m           \u001b[0mdtype\u001b[0m\u001b[0;34m=\u001b[0m\u001b[0mdtype\u001b[0m\u001b[0;34m,\u001b[0m\u001b[0;34m\u001b[0m\u001b[0m\n\u001b[1;32m    212\u001b[0m           \u001b[0mexpected_shape\u001b[0m\u001b[0;34m=\u001b[0m\u001b[0mexpected_shape\u001b[0m\u001b[0;34m,\u001b[0m\u001b[0;34m\u001b[0m\u001b[0m\n\u001b[0;32m--> 213\u001b[0;31m           constraint=constraint)\n\u001b[0m\u001b[1;32m    214\u001b[0m \u001b[0;34m\u001b[0m\u001b[0m\n\u001b[1;32m    215\u001b[0m   \u001b[0;32mdef\u001b[0m \u001b[0m__repr__\u001b[0m\u001b[0;34m(\u001b[0m\u001b[0mself\u001b[0m\u001b[0;34m)\u001b[0m\u001b[0;34m:\u001b[0m\u001b[0;34m\u001b[0m\u001b[0m\n",
      "\u001b[0;32m~/anaconda3/lib/python3.6/site-packages/tensorflow/python/ops/variables.py\u001b[0m in \u001b[0;36m_init_from_args\u001b[0;34m(self, initial_value, trainable, collections, validate_shape, caching_device, name, dtype, expected_shape, constraint)\u001b[0m\n\u001b[1;32m    271\u001b[0m     \u001b[0m_\u001b[0m \u001b[0;34m=\u001b[0m \u001b[0mexpected_shape\u001b[0m\u001b[0;34m\u001b[0m\u001b[0m\n\u001b[1;32m    272\u001b[0m     \u001b[0;32mif\u001b[0m \u001b[0minitial_value\u001b[0m \u001b[0;32mis\u001b[0m \u001b[0;32mNone\u001b[0m\u001b[0;34m:\u001b[0m\u001b[0;34m\u001b[0m\u001b[0m\n\u001b[0;32m--> 273\u001b[0;31m       \u001b[0;32mraise\u001b[0m \u001b[0mValueError\u001b[0m\u001b[0;34m(\u001b[0m\u001b[0;34m\"initial_value must be specified.\"\u001b[0m\u001b[0;34m)\u001b[0m\u001b[0;34m\u001b[0m\u001b[0m\n\u001b[0m\u001b[1;32m    274\u001b[0m     \u001b[0minit_from_fn\u001b[0m \u001b[0;34m=\u001b[0m \u001b[0mcallable\u001b[0m\u001b[0;34m(\u001b[0m\u001b[0minitial_value\u001b[0m\u001b[0;34m)\u001b[0m\u001b[0;34m\u001b[0m\u001b[0m\n\u001b[1;32m    275\u001b[0m \u001b[0;34m\u001b[0m\u001b[0m\n",
      "\u001b[0;31mValueError\u001b[0m: initial_value must be specified."
     ]
    }
   ],
   "source": [
    "my_tensor = tf.random_uniform((4,4),0,1)\n",
    "\n",
    "my_var = tf.Variable()\n",
    "print (my_var)"
   ]
  },
  {
   "cell_type": "code",
   "execution_count": 28,
   "metadata": {},
   "outputs": [
    {
     "data": {
      "text/plain": [
       "array([[0.68843925, 0.06951118, 0.4767313 , 0.34576714],\n",
       "       [0.5772841 , 0.6287644 , 0.74237597, 0.37395048],\n",
       "       [0.7068802 , 0.3391198 , 0.48243117, 0.47480857],\n",
       "       [0.670897  , 0.04317081, 0.9839406 , 0.28229344]], dtype=float32)"
      ]
     },
     "execution_count": 28,
     "metadata": {},
     "output_type": "execute_result"
    }
   ],
   "source": [
    "## Attention: all the global variables must be initialized before they can be used\n",
    "init = tf.global_variables_initializer()\n",
    "init.run()\n",
    "my_var.eval()"
   ]
  },
  {
   "cell_type": "markdown",
   "metadata": {},
   "source": [
    "#### Placeholders are initially empty, and are used to feed in the actual training examples. However, they do need a declared expected data type. "
   ]
  },
  {
   "cell_type": "code",
   "execution_count": 29,
   "metadata": {},
   "outputs": [],
   "source": [
    "ph = tf.placeholder(tf.float64)"
   ]
  },
  {
   "cell_type": "markdown",
   "metadata": {},
   "source": [
    "# Regression"
   ]
  },
  {
   "cell_type": "markdown",
   "metadata": {},
   "source": [
    "### Create dataset"
   ]
  },
  {
   "cell_type": "code",
   "execution_count": 19,
   "metadata": {},
   "outputs": [
    {
     "data": {
      "text/plain": [
       "[<matplotlib.lines.Line2D at 0x1819b0dd30>]"
      ]
     },
     "execution_count": 19,
     "metadata": {},
     "output_type": "execute_result"
    },
    {
     "data": {
      "image/png": "[encoded data removed]",
      "text/plain": [
       "<matplotlib.figure.Figure at 0x181384f160>"
      ]
     },
     "metadata": {},
     "output_type": "display_data"
    }
   ],
   "source": [
    "import numpy as np\n",
    "import matplotlib.pyplot as plt\n",
    "import pandas as pd\n",
    "\n",
    "samples = 1000\n",
    "x = np.linspace(0, 50, samples).astype(np.float32)\n",
    "noise = np.random.normal(loc = 0, scale = 0.08, size = samples)\n",
    "\n",
    "y = 2*np.sin(x/3) + 1.5*x**0.5 + x/10 + noise\n",
    "y = y.astype(np.float32)\n",
    "\n",
    "%matplotlib inline\n",
    "plt.plot(x, y)"
   ]
  },
  {
   "cell_type": "markdown",
   "metadata": {},
   "source": [
    "### Split the dataset"
   ]
  },
  {
   "cell_type": "code",
   "execution_count": 21,
   "metadata": {},
   "outputs": [],
   "source": [
    "from sklearn.model_selection import train_test_split\n",
    "test_size = 0.2\n",
    "x_train, x_test, y_train, y_test = train_test_split(x, y, test_size = test_size, random_state= 101)"
   ]
  },
  {
   "cell_type": "markdown",
   "metadata": {},
   "source": [
    "### Create deep learning-based regression model"
   ]
  },
  {
   "cell_type": "code",
   "execution_count": 22,
   "metadata": {},
   "outputs": [
    {
     "name": "stdout",
     "output_type": "stream",
     "text": [
      "INFO:tensorflow:Using default config.\n",
      "WARNING:tensorflow:Using temporary folder as model directory: /var/folders/19/1dxjj_9j4_zgswcbzb_njt6r0000gn/T/tmpityn7vgk\n",
      "INFO:tensorflow:Using config: {'_model_dir': '/var/folders/19/1dxjj_9j4_zgswcbzb_njt6r0000gn/T/tmpityn7vgk', '_tf_random_seed': None, '_save_summary_steps': 100, '_save_checkpoints_steps': None, '_save_checkpoints_secs': 600, '_session_config': None, '_keep_checkpoint_max': 5, '_keep_checkpoint_every_n_hours': 10000, '_log_step_count_steps': 100, '_service': None, '_cluster_spec': <tensorflow.python.training.server_lib.ClusterSpec object at 0x1a215df4e0>, '_task_type': 'worker', '_task_id': 0, '_master': '', '_is_chief': True, '_num_ps_replicas': 0, '_num_worker_replicas': 1}\n",
      "INFO:tensorflow:Create CheckpointSaverHook.\n",
      "INFO:tensorflow:Saving checkpoints for 1 into /var/folders/19/1dxjj_9j4_zgswcbzb_njt6r0000gn/T/tmpityn7vgk/model.ckpt.\n",
      "INFO:tensorflow:loss = 2256.9736, step = 1\n",
      "INFO:tensorflow:global_step/sec: 464.464\n",
      "INFO:tensorflow:loss = 59.375015, step = 101 (0.217 sec)\n",
      "INFO:tensorflow:global_step/sec: 451.16\n",
      "INFO:tensorflow:loss = 36.101807, step = 201 (0.221 sec)\n",
      "INFO:tensorflow:global_step/sec: 450.617\n",
      "INFO:tensorflow:loss = 63.47063, step = 301 (0.222 sec)\n",
      "INFO:tensorflow:global_step/sec: 498.305\n",
      "INFO:tensorflow:loss = 38.247635, step = 401 (0.202 sec)\n",
      "INFO:tensorflow:global_step/sec: 501.791\n",
      "INFO:tensorflow:loss = 35.563744, step = 501 (0.198 sec)\n",
      "INFO:tensorflow:global_step/sec: 535.172\n",
      "INFO:tensorflow:loss = 31.083082, step = 601 (0.187 sec)\n",
      "INFO:tensorflow:global_step/sec: 507.396\n",
      "INFO:tensorflow:loss = 35.042423, step = 701 (0.198 sec)\n",
      "INFO:tensorflow:global_step/sec: 424.91\n",
      "INFO:tensorflow:loss = 28.902657, step = 801 (0.237 sec)\n",
      "INFO:tensorflow:global_step/sec: 544.082\n",
      "INFO:tensorflow:loss = 37.316425, step = 901 (0.187 sec)\n",
      "INFO:tensorflow:global_step/sec: 439.551\n",
      "INFO:tensorflow:loss = 35.20308, step = 1001 (0.224 sec)\n",
      "INFO:tensorflow:global_step/sec: 527.568\n",
      "INFO:tensorflow:loss = 30.388674, step = 1101 (0.192 sec)\n",
      "INFO:tensorflow:global_step/sec: 544.926\n",
      "INFO:tensorflow:loss = 25.270002, step = 1201 (0.186 sec)\n",
      "INFO:tensorflow:global_step/sec: 365.971\n",
      "INFO:tensorflow:loss = 51.542824, step = 1301 (0.266 sec)\n",
      "INFO:tensorflow:global_step/sec: 475.504\n",
      "INFO:tensorflow:loss = 25.885197, step = 1401 (0.210 sec)\n",
      "INFO:tensorflow:global_step/sec: 590.316\n",
      "INFO:tensorflow:loss = 23.54321, step = 1501 (0.170 sec)\n",
      "INFO:tensorflow:global_step/sec: 438.527\n",
      "INFO:tensorflow:loss = 21.685476, step = 1601 (0.229 sec)\n",
      "INFO:tensorflow:global_step/sec: 417.183\n",
      "INFO:tensorflow:loss = 36.466156, step = 1701 (0.238 sec)\n",
      "INFO:tensorflow:global_step/sec: 500.847\n",
      "INFO:tensorflow:loss = 31.745697, step = 1801 (0.200 sec)\n",
      "INFO:tensorflow:global_step/sec: 510.439\n",
      "INFO:tensorflow:loss = 37.22874, step = 1901 (0.195 sec)\n",
      "INFO:tensorflow:global_step/sec: 502.682\n",
      "INFO:tensorflow:loss = 28.95234, step = 2001 (0.199 sec)\n",
      "INFO:tensorflow:global_step/sec: 493.067\n",
      "INFO:tensorflow:loss = 42.341972, step = 2101 (0.206 sec)\n",
      "INFO:tensorflow:global_step/sec: 443.82\n",
      "INFO:tensorflow:loss = 53.96696, step = 2201 (0.224 sec)\n",
      "INFO:tensorflow:global_step/sec: 437.395\n",
      "INFO:tensorflow:loss = 34.2247, step = 2301 (0.229 sec)\n",
      "INFO:tensorflow:global_step/sec: 440.651\n",
      "INFO:tensorflow:loss = 38.554413, step = 2401 (0.238 sec)\n",
      "INFO:tensorflow:global_step/sec: 383.372\n",
      "INFO:tensorflow:loss = 39.566322, step = 2501 (0.252 sec)\n",
      "INFO:tensorflow:global_step/sec: 403.1\n",
      "INFO:tensorflow:loss = 27.848604, step = 2601 (0.244 sec)\n",
      "INFO:tensorflow:global_step/sec: 462.68\n",
      "INFO:tensorflow:loss = 37.137062, step = 2701 (0.221 sec)\n",
      "INFO:tensorflow:global_step/sec: 374.229\n",
      "INFO:tensorflow:loss = 36.400352, step = 2801 (0.263 sec)\n",
      "INFO:tensorflow:global_step/sec: 511.653\n",
      "INFO:tensorflow:loss = 41.81263, step = 2901 (0.195 sec)\n",
      "INFO:tensorflow:global_step/sec: 372.452\n",
      "INFO:tensorflow:loss = 40.29263, step = 3001 (0.277 sec)\n",
      "INFO:tensorflow:global_step/sec: 404.883\n",
      "INFO:tensorflow:loss = 29.2083, step = 3101 (0.241 sec)\n",
      "INFO:tensorflow:global_step/sec: 381.941\n",
      "INFO:tensorflow:loss = 39.28733, step = 3201 (0.282 sec)\n",
      "INFO:tensorflow:global_step/sec: 215.361\n",
      "INFO:tensorflow:loss = 41.076607, step = 3301 (0.458 sec)\n",
      "INFO:tensorflow:global_step/sec: 318.19\n",
      "INFO:tensorflow:loss = 30.123596, step = 3401 (0.318 sec)\n",
      "INFO:tensorflow:global_step/sec: 313.813\n",
      "INFO:tensorflow:loss = 22.148315, step = 3501 (0.320 sec)\n",
      "INFO:tensorflow:global_step/sec: 303.204\n",
      "INFO:tensorflow:loss = 34.566544, step = 3601 (0.322 sec)\n",
      "INFO:tensorflow:global_step/sec: 264.602\n",
      "INFO:tensorflow:loss = 27.341686, step = 3701 (0.382 sec)\n",
      "INFO:tensorflow:global_step/sec: 319.296\n",
      "INFO:tensorflow:loss = 21.69094, step = 3801 (0.298 sec)\n",
      "INFO:tensorflow:global_step/sec: 326.905\n",
      "INFO:tensorflow:loss = 42.69927, step = 3901 (0.311 sec)\n",
      "INFO:tensorflow:global_step/sec: 255.57\n",
      "INFO:tensorflow:loss = 37.510582, step = 4001 (0.386 sec)\n",
      "INFO:tensorflow:global_step/sec: 324.75\n",
      "INFO:tensorflow:loss = 34.352837, step = 4101 (0.314 sec)\n",
      "INFO:tensorflow:global_step/sec: 377.023\n",
      "INFO:tensorflow:loss = 27.746292, step = 4201 (0.257 sec)\n",
      "INFO:tensorflow:global_step/sec: 324.039\n",
      "INFO:tensorflow:loss = 48.470436, step = 4301 (0.330 sec)\n",
      "INFO:tensorflow:global_step/sec: 351.898\n",
      "INFO:tensorflow:loss = 23.942438, step = 4401 (0.263 sec)\n",
      "INFO:tensorflow:global_step/sec: 350.276\n",
      "INFO:tensorflow:loss = 19.72398, step = 4501 (0.302 sec)\n",
      "INFO:tensorflow:global_step/sec: 323.473\n",
      "INFO:tensorflow:loss = 17.65604, step = 4601 (0.294 sec)\n",
      "INFO:tensorflow:global_step/sec: 494.44\n",
      "INFO:tensorflow:loss = 27.536858, step = 4701 (0.204 sec)\n",
      "INFO:tensorflow:global_step/sec: 403.45\n",
      "INFO:tensorflow:loss = 32.420586, step = 4801 (0.247 sec)\n",
      "INFO:tensorflow:global_step/sec: 365.058\n",
      "INFO:tensorflow:loss = 22.772257, step = 4901 (0.284 sec)\n",
      "INFO:tensorflow:global_step/sec: 277.25\n",
      "INFO:tensorflow:loss = 12.921438, step = 5001 (0.350 sec)\n",
      "INFO:tensorflow:global_step/sec: 260.224\n",
      "INFO:tensorflow:loss = 10.294253, step = 5101 (0.394 sec)\n",
      "INFO:tensorflow:global_step/sec: 282.108\n",
      "INFO:tensorflow:loss = 24.418793, step = 5201 (0.346 sec)\n",
      "INFO:tensorflow:global_step/sec: 343.005\n",
      "INFO:tensorflow:loss = 14.994278, step = 5301 (0.297 sec)\n",
      "INFO:tensorflow:global_step/sec: 281.004\n",
      "INFO:tensorflow:loss = 19.629358, step = 5401 (0.361 sec)\n",
      "INFO:tensorflow:global_step/sec: 219.18\n",
      "INFO:tensorflow:loss = 28.093222, step = 5501 (0.459 sec)\n",
      "INFO:tensorflow:global_step/sec: 248.459\n",
      "INFO:tensorflow:loss = 16.724533, step = 5601 (0.407 sec)\n",
      "INFO:tensorflow:global_step/sec: 262.849\n",
      "INFO:tensorflow:loss = 12.4413, step = 5701 (0.362 sec)\n",
      "INFO:tensorflow:global_step/sec: 378.978\n",
      "INFO:tensorflow:loss = 15.238081, step = 5801 (0.264 sec)\n",
      "INFO:tensorflow:global_step/sec: 358.149\n",
      "INFO:tensorflow:loss = 13.769603, step = 5901 (0.325 sec)\n",
      "INFO:tensorflow:global_step/sec: 259.267\n",
      "INFO:tensorflow:loss = 21.936926, step = 6001 (0.350 sec)\n",
      "INFO:tensorflow:global_step/sec: 229.523\n",
      "INFO:tensorflow:loss = 17.445454, step = 6101 (0.443 sec)\n",
      "INFO:tensorflow:global_step/sec: 298.819\n",
      "INFO:tensorflow:loss = 4.2982836, step = 6201 (0.353 sec)\n",
      "INFO:tensorflow:global_step/sec: 247.146\n",
      "INFO:tensorflow:loss = 5.9782295, step = 6301 (0.368 sec)\n",
      "INFO:tensorflow:global_step/sec: 296.08\n",
      "INFO:tensorflow:loss = 10.172705, step = 6401 (0.336 sec)\n",
      "INFO:tensorflow:global_step/sec: 401.776\n",
      "INFO:tensorflow:loss = 14.846174, step = 6501 (0.254 sec)\n",
      "INFO:tensorflow:global_step/sec: 437.084\n",
      "INFO:tensorflow:loss = 19.596193, step = 6601 (0.223 sec)\n",
      "INFO:tensorflow:global_step/sec: 422.794\n",
      "INFO:tensorflow:loss = 4.7951155, step = 6701 (0.243 sec)\n",
      "INFO:tensorflow:global_step/sec: 450.316\n",
      "INFO:tensorflow:loss = 15.7835045, step = 6801 (0.224 sec)\n",
      "INFO:tensorflow:global_step/sec: 426.516\n",
      "INFO:tensorflow:loss = 14.6214695, step = 6901 (0.228 sec)\n",
      "INFO:tensorflow:global_step/sec: 469.541\n",
      "INFO:tensorflow:loss = 7.75206, step = 7001 (0.211 sec)\n",
      "INFO:tensorflow:global_step/sec: 494.753\n",
      "INFO:tensorflow:loss = 36.573517, step = 7101 (0.202 sec)\n",
      "INFO:tensorflow:global_step/sec: 504.281\n",
      "INFO:tensorflow:loss = 12.473229, step = 7201 (0.200 sec)\n",
      "INFO:tensorflow:global_step/sec: 277.837\n",
      "INFO:tensorflow:loss = 6.780795, step = 7301 (0.368 sec)\n",
      "INFO:tensorflow:global_step/sec: 274.831\n",
      "INFO:tensorflow:loss = 9.543568, step = 7401 (0.356 sec)\n"
     ]
    },
    {
     "name": "stdout",
     "output_type": "stream",
     "text": [
      "INFO:tensorflow:global_step/sec: 377.568\n",
      "INFO:tensorflow:loss = 9.99749, step = 7501 (0.274 sec)\n",
      "INFO:tensorflow:global_step/sec: 274.342\n",
      "INFO:tensorflow:loss = 6.751666, step = 7601 (0.353 sec)\n",
      "INFO:tensorflow:global_step/sec: 558.438\n",
      "INFO:tensorflow:loss = 14.127923, step = 7701 (0.179 sec)\n",
      "INFO:tensorflow:global_step/sec: 545.369\n",
      "INFO:tensorflow:loss = 11.545592, step = 7801 (0.183 sec)\n",
      "INFO:tensorflow:global_step/sec: 310.472\n",
      "INFO:tensorflow:loss = 7.579141, step = 7901 (0.324 sec)\n",
      "INFO:tensorflow:global_step/sec: 359.005\n",
      "INFO:tensorflow:loss = 7.432031, step = 8001 (0.292 sec)\n",
      "INFO:tensorflow:global_step/sec: 329.379\n",
      "INFO:tensorflow:loss = 8.691901, step = 8101 (0.288 sec)\n",
      "INFO:tensorflow:global_step/sec: 389.717\n",
      "INFO:tensorflow:loss = 21.408237, step = 8201 (0.266 sec)\n",
      "INFO:tensorflow:global_step/sec: 289.262\n",
      "INFO:tensorflow:loss = 7.952546, step = 8301 (0.337 sec)\n",
      "INFO:tensorflow:global_step/sec: 543.785\n",
      "INFO:tensorflow:loss = 13.8337555, step = 8401 (0.184 sec)\n",
      "INFO:tensorflow:global_step/sec: 502.346\n",
      "INFO:tensorflow:loss = 14.993346, step = 8501 (0.199 sec)\n",
      "INFO:tensorflow:global_step/sec: 371.742\n",
      "INFO:tensorflow:loss = 14.959547, step = 8601 (0.275 sec)\n",
      "INFO:tensorflow:global_step/sec: 438.698\n",
      "INFO:tensorflow:loss = 13.592571, step = 8701 (0.222 sec)\n",
      "INFO:tensorflow:global_step/sec: 477.459\n",
      "INFO:tensorflow:loss = 23.000725, step = 8801 (0.211 sec)\n",
      "INFO:tensorflow:global_step/sec: 450.556\n",
      "INFO:tensorflow:loss = 16.79329, step = 8901 (0.222 sec)\n",
      "INFO:tensorflow:global_step/sec: 498.023\n",
      "INFO:tensorflow:loss = 20.190468, step = 9001 (0.200 sec)\n",
      "INFO:tensorflow:global_step/sec: 427.758\n",
      "INFO:tensorflow:loss = 12.420265, step = 9101 (0.238 sec)\n",
      "INFO:tensorflow:global_step/sec: 424.867\n",
      "INFO:tensorflow:loss = 15.270042, step = 9201 (0.231 sec)\n",
      "INFO:tensorflow:global_step/sec: 396.697\n",
      "INFO:tensorflow:loss = 24.652304, step = 9301 (0.256 sec)\n",
      "INFO:tensorflow:global_step/sec: 279.11\n",
      "INFO:tensorflow:loss = 11.356394, step = 9401 (0.369 sec)\n",
      "INFO:tensorflow:global_step/sec: 281.265\n",
      "INFO:tensorflow:loss = 9.213223, step = 9501 (0.342 sec)\n",
      "INFO:tensorflow:global_step/sec: 455.214\n",
      "INFO:tensorflow:loss = 17.909176, step = 9601 (0.220 sec)\n",
      "INFO:tensorflow:global_step/sec: 581.192\n",
      "INFO:tensorflow:loss = 13.481008, step = 9701 (0.172 sec)\n",
      "INFO:tensorflow:global_step/sec: 555.269\n",
      "INFO:tensorflow:loss = 23.684889, step = 9801 (0.180 sec)\n",
      "INFO:tensorflow:global_step/sec: 542.288\n",
      "INFO:tensorflow:loss = 24.327211, step = 9901 (0.185 sec)\n",
      "INFO:tensorflow:global_step/sec: 511.836\n",
      "INFO:tensorflow:loss = 8.422432, step = 10001 (0.196 sec)\n",
      "INFO:tensorflow:global_step/sec: 466.207\n",
      "INFO:tensorflow:loss = 31.64822, step = 10101 (0.214 sec)\n",
      "INFO:tensorflow:global_step/sec: 465.471\n",
      "INFO:tensorflow:loss = 8.539774, step = 10201 (0.214 sec)\n",
      "INFO:tensorflow:global_step/sec: 549.515\n",
      "INFO:tensorflow:loss = 6.3315616, step = 10301 (0.182 sec)\n",
      "INFO:tensorflow:global_step/sec: 510.707\n",
      "INFO:tensorflow:loss = 19.292936, step = 10401 (0.199 sec)\n",
      "INFO:tensorflow:global_step/sec: 417.038\n",
      "INFO:tensorflow:loss = 14.493339, step = 10501 (0.240 sec)\n",
      "INFO:tensorflow:global_step/sec: 410.664\n",
      "INFO:tensorflow:loss = 20.61615, step = 10601 (0.245 sec)\n",
      "INFO:tensorflow:global_step/sec: 410.265\n",
      "INFO:tensorflow:loss = 8.812833, step = 10701 (0.244 sec)\n",
      "INFO:tensorflow:global_step/sec: 372.963\n",
      "INFO:tensorflow:loss = 8.937549, step = 10801 (0.265 sec)\n",
      "INFO:tensorflow:global_step/sec: 478.994\n",
      "INFO:tensorflow:loss = 4.8490825, step = 10901 (0.212 sec)\n",
      "INFO:tensorflow:global_step/sec: 394.104\n",
      "INFO:tensorflow:loss = 11.625963, step = 11001 (0.251 sec)\n",
      "INFO:tensorflow:global_step/sec: 507.633\n",
      "INFO:tensorflow:loss = 10.954578, step = 11101 (0.196 sec)\n",
      "INFO:tensorflow:global_step/sec: 532.096\n",
      "INFO:tensorflow:loss = 11.123789, step = 11201 (0.188 sec)\n",
      "INFO:tensorflow:global_step/sec: 546.798\n",
      "INFO:tensorflow:loss = 5.706053, step = 11301 (0.184 sec)\n",
      "INFO:tensorflow:global_step/sec: 494.821\n",
      "INFO:tensorflow:loss = 14.553861, step = 11401 (0.201 sec)\n",
      "INFO:tensorflow:global_step/sec: 552.044\n",
      "INFO:tensorflow:loss = 9.733191, step = 11501 (0.181 sec)\n",
      "INFO:tensorflow:global_step/sec: 470.612\n",
      "INFO:tensorflow:loss = 2.228766, step = 11601 (0.212 sec)\n",
      "INFO:tensorflow:global_step/sec: 550.286\n",
      "INFO:tensorflow:loss = 14.061751, step = 11701 (0.183 sec)\n",
      "INFO:tensorflow:global_step/sec: 490.079\n",
      "INFO:tensorflow:loss = 13.31963, step = 11801 (0.203 sec)\n",
      "INFO:tensorflow:global_step/sec: 537.339\n",
      "INFO:tensorflow:loss = 14.424224, step = 11901 (0.188 sec)\n",
      "INFO:tensorflow:global_step/sec: 444.658\n",
      "INFO:tensorflow:loss = 21.19044, step = 12001 (0.224 sec)\n",
      "INFO:tensorflow:global_step/sec: 474.208\n",
      "INFO:tensorflow:loss = 16.579117, step = 12101 (0.210 sec)\n",
      "INFO:tensorflow:global_step/sec: 539.945\n",
      "INFO:tensorflow:loss = 8.171286, step = 12201 (0.185 sec)\n",
      "INFO:tensorflow:global_step/sec: 479.442\n",
      "INFO:tensorflow:loss = 5.051225, step = 12301 (0.209 sec)\n",
      "INFO:tensorflow:global_step/sec: 473.357\n",
      "INFO:tensorflow:loss = 19.18181, step = 12401 (0.212 sec)\n",
      "INFO:tensorflow:global_step/sec: 475.735\n",
      "INFO:tensorflow:loss = 32.86865, step = 12501 (0.210 sec)\n",
      "INFO:tensorflow:global_step/sec: 467.858\n",
      "INFO:tensorflow:loss = 13.185236, step = 12601 (0.213 sec)\n",
      "INFO:tensorflow:global_step/sec: 518.489\n",
      "INFO:tensorflow:loss = 16.10689, step = 12701 (0.193 sec)\n",
      "INFO:tensorflow:global_step/sec: 530.918\n",
      "INFO:tensorflow:loss = 19.43159, step = 12801 (0.188 sec)\n",
      "INFO:tensorflow:global_step/sec: 491.674\n",
      "INFO:tensorflow:loss = 1.8843795, step = 12901 (0.204 sec)\n",
      "INFO:tensorflow:global_step/sec: 589.71\n",
      "INFO:tensorflow:loss = 18.254515, step = 13001 (0.169 sec)\n",
      "INFO:tensorflow:global_step/sec: 540.266\n",
      "INFO:tensorflow:loss = 36.718937, step = 13101 (0.186 sec)\n",
      "INFO:tensorflow:global_step/sec: 456.74\n",
      "INFO:tensorflow:loss = 18.82811, step = 13201 (0.218 sec)\n",
      "INFO:tensorflow:global_step/sec: 560.355\n",
      "INFO:tensorflow:loss = 6.3089876, step = 13301 (0.178 sec)\n",
      "INFO:tensorflow:global_step/sec: 552.505\n",
      "INFO:tensorflow:loss = 8.308686, step = 13401 (0.184 sec)\n",
      "INFO:tensorflow:global_step/sec: 484.799\n",
      "INFO:tensorflow:loss = 13.097566, step = 13501 (0.215 sec)\n",
      "INFO:tensorflow:global_step/sec: 453.102\n",
      "INFO:tensorflow:loss = 26.531328, step = 13601 (0.209 sec)\n",
      "INFO:tensorflow:global_step/sec: 545.046\n",
      "INFO:tensorflow:loss = 15.180343, step = 13701 (0.187 sec)\n",
      "INFO:tensorflow:global_step/sec: 474.761\n",
      "INFO:tensorflow:loss = 13.860237, step = 13801 (0.209 sec)\n",
      "INFO:tensorflow:global_step/sec: 424.052\n",
      "INFO:tensorflow:loss = 7.4423213, step = 13901 (0.234 sec)\n",
      "INFO:tensorflow:global_step/sec: 521.867\n",
      "INFO:tensorflow:loss = 20.953358, step = 14001 (0.191 sec)\n",
      "INFO:tensorflow:global_step/sec: 524.777\n",
      "INFO:tensorflow:loss = 9.743065, step = 14101 (0.191 sec)\n",
      "INFO:tensorflow:global_step/sec: 459.303\n",
      "INFO:tensorflow:loss = 13.447843, step = 14201 (0.219 sec)\n",
      "INFO:tensorflow:global_step/sec: 464.32\n",
      "INFO:tensorflow:loss = 6.4198475, step = 14301 (0.214 sec)\n",
      "INFO:tensorflow:global_step/sec: 446.418\n",
      "INFO:tensorflow:loss = 12.578966, step = 14401 (0.223 sec)\n",
      "INFO:tensorflow:global_step/sec: 445.202\n",
      "INFO:tensorflow:loss = 9.786415, step = 14501 (0.225 sec)\n",
      "INFO:tensorflow:global_step/sec: 497.971\n",
      "INFO:tensorflow:loss = 4.8196874, step = 14601 (0.203 sec)\n",
      "INFO:tensorflow:global_step/sec: 454.075\n",
      "INFO:tensorflow:loss = 15.75079, step = 14701 (0.221 sec)\n",
      "INFO:tensorflow:global_step/sec: 493.184\n",
      "INFO:tensorflow:loss = 22.631357, step = 14801 (0.200 sec)\n",
      "INFO:tensorflow:global_step/sec: 437.849\n",
      "INFO:tensorflow:loss = 12.333831, step = 14901 (0.229 sec)\n",
      "INFO:tensorflow:global_step/sec: 511.823\n",
      "INFO:tensorflow:loss = 21.271482, step = 15001 (0.195 sec)\n",
      "INFO:tensorflow:global_step/sec: 518.051\n",
      "INFO:tensorflow:loss = 15.21242, step = 15101 (0.198 sec)\n",
      "INFO:tensorflow:global_step/sec: 416.46\n",
      "INFO:tensorflow:loss = 15.194696, step = 15201 (0.242 sec)\n",
      "INFO:tensorflow:global_step/sec: 436.582\n",
      "INFO:tensorflow:loss = 3.9139934, step = 15301 (0.228 sec)\n",
      "INFO:tensorflow:global_step/sec: 439.402\n",
      "INFO:tensorflow:loss = 7.508201, step = 15401 (0.223 sec)\n",
      "INFO:tensorflow:global_step/sec: 419.836\n",
      "INFO:tensorflow:loss = 15.105439, step = 15501 (0.236 sec)\n",
      "INFO:tensorflow:global_step/sec: 494.12\n",
      "INFO:tensorflow:loss = 14.571539, step = 15601 (0.202 sec)\n",
      "INFO:tensorflow:global_step/sec: 495.487\n"
     ]
    },
    {
     "name": "stdout",
     "output_type": "stream",
     "text": [
      "INFO:tensorflow:loss = 11.658125, step = 15701 (0.202 sec)\n",
      "INFO:tensorflow:global_step/sec: 448.654\n",
      "INFO:tensorflow:loss = 8.922571, step = 15801 (0.225 sec)\n",
      "INFO:tensorflow:global_step/sec: 516.27\n",
      "INFO:tensorflow:loss = 13.3175, step = 15901 (0.191 sec)\n",
      "INFO:tensorflow:global_step/sec: 544.176\n",
      "INFO:tensorflow:loss = 30.155205, step = 16001 (0.184 sec)\n",
      "INFO:tensorflow:global_step/sec: 495.928\n",
      "INFO:tensorflow:loss = 13.3242035, step = 16101 (0.202 sec)\n",
      "INFO:tensorflow:global_step/sec: 504.202\n",
      "INFO:tensorflow:loss = 22.937656, step = 16201 (0.198 sec)\n",
      "INFO:tensorflow:global_step/sec: 504.836\n",
      "INFO:tensorflow:loss = 21.853397, step = 16301 (0.198 sec)\n",
      "INFO:tensorflow:global_step/sec: 529.005\n",
      "INFO:tensorflow:loss = 15.437204, step = 16401 (0.189 sec)\n",
      "INFO:tensorflow:global_step/sec: 544.892\n",
      "INFO:tensorflow:loss = 7.7202487, step = 16501 (0.184 sec)\n",
      "INFO:tensorflow:global_step/sec: 482.855\n",
      "INFO:tensorflow:loss = 17.231283, step = 16601 (0.206 sec)\n",
      "INFO:tensorflow:global_step/sec: 488.857\n",
      "INFO:tensorflow:loss = 5.4646263, step = 16701 (0.207 sec)\n",
      "INFO:tensorflow:global_step/sec: 503.385\n",
      "INFO:tensorflow:loss = 15.336006, step = 16801 (0.197 sec)\n",
      "INFO:tensorflow:global_step/sec: 423.181\n",
      "INFO:tensorflow:loss = 24.45085, step = 16901 (0.236 sec)\n",
      "INFO:tensorflow:global_step/sec: 552.344\n",
      "INFO:tensorflow:loss = 2.5112293, step = 17001 (0.181 sec)\n",
      "INFO:tensorflow:global_step/sec: 476.349\n",
      "INFO:tensorflow:loss = 11.827409, step = 17101 (0.210 sec)\n",
      "INFO:tensorflow:global_step/sec: 534.556\n",
      "INFO:tensorflow:loss = 16.944092, step = 17201 (0.187 sec)\n",
      "INFO:tensorflow:global_step/sec: 563.228\n",
      "INFO:tensorflow:loss = 7.4056582, step = 17301 (0.177 sec)\n",
      "INFO:tensorflow:global_step/sec: 543.369\n",
      "INFO:tensorflow:loss = 23.613865, step = 17401 (0.186 sec)\n",
      "INFO:tensorflow:global_step/sec: 494.891\n",
      "INFO:tensorflow:loss = 4.2392073, step = 17501 (0.200 sec)\n",
      "INFO:tensorflow:global_step/sec: 480.753\n",
      "INFO:tensorflow:loss = 16.991217, step = 17601 (0.208 sec)\n",
      "INFO:tensorflow:global_step/sec: 492.4\n",
      "INFO:tensorflow:loss = 11.183083, step = 17701 (0.203 sec)\n",
      "INFO:tensorflow:global_step/sec: 484.355\n",
      "INFO:tensorflow:loss = 9.022748, step = 17801 (0.206 sec)\n",
      "INFO:tensorflow:global_step/sec: 453.424\n",
      "INFO:tensorflow:loss = 13.068105, step = 17901 (0.221 sec)\n",
      "INFO:tensorflow:global_step/sec: 546.609\n",
      "INFO:tensorflow:loss = 13.642493, step = 18001 (0.184 sec)\n",
      "INFO:tensorflow:global_step/sec: 528.776\n",
      "INFO:tensorflow:loss = 20.376968, step = 18101 (0.188 sec)\n",
      "INFO:tensorflow:global_step/sec: 541.196\n",
      "INFO:tensorflow:loss = 14.465239, step = 18201 (0.185 sec)\n",
      "INFO:tensorflow:global_step/sec: 480.192\n",
      "INFO:tensorflow:loss = 15.157822, step = 18301 (0.209 sec)\n",
      "INFO:tensorflow:global_step/sec: 505.812\n",
      "INFO:tensorflow:loss = 16.952492, step = 18401 (0.200 sec)\n",
      "INFO:tensorflow:global_step/sec: 532.799\n",
      "INFO:tensorflow:loss = 17.36136, step = 18501 (0.184 sec)\n",
      "INFO:tensorflow:global_step/sec: 490.564\n",
      "INFO:tensorflow:loss = 4.754138, step = 18601 (0.204 sec)\n",
      "INFO:tensorflow:global_step/sec: 484.501\n",
      "INFO:tensorflow:loss = 7.10321, step = 18701 (0.208 sec)\n",
      "INFO:tensorflow:global_step/sec: 454.81\n",
      "INFO:tensorflow:loss = 14.28908, step = 18801 (0.218 sec)\n",
      "INFO:tensorflow:global_step/sec: 445.5\n",
      "INFO:tensorflow:loss = 21.585287, step = 18901 (0.227 sec)\n",
      "INFO:tensorflow:global_step/sec: 469.883\n",
      "INFO:tensorflow:loss = 19.013065, step = 19001 (0.212 sec)\n",
      "INFO:tensorflow:global_step/sec: 427.624\n",
      "INFO:tensorflow:loss = 11.828556, step = 19101 (0.233 sec)\n",
      "INFO:tensorflow:global_step/sec: 418.193\n",
      "INFO:tensorflow:loss = 17.771519, step = 19201 (0.239 sec)\n",
      "INFO:tensorflow:global_step/sec: 466.692\n",
      "INFO:tensorflow:loss = 15.88447, step = 19301 (0.227 sec)\n",
      "INFO:tensorflow:global_step/sec: 367.006\n",
      "INFO:tensorflow:loss = 16.10307, step = 19401 (0.260 sec)\n",
      "INFO:tensorflow:global_step/sec: 418.834\n",
      "INFO:tensorflow:loss = 8.965431, step = 19501 (0.239 sec)\n",
      "INFO:tensorflow:global_step/sec: 442.982\n",
      "INFO:tensorflow:loss = 14.854137, step = 19601 (0.230 sec)\n",
      "INFO:tensorflow:global_step/sec: 376.858\n",
      "INFO:tensorflow:loss = 19.61903, step = 19701 (0.270 sec)\n",
      "INFO:tensorflow:global_step/sec: 410.752\n",
      "INFO:tensorflow:loss = 8.947324, step = 19801 (0.236 sec)\n",
      "INFO:tensorflow:global_step/sec: 427.903\n",
      "INFO:tensorflow:loss = 5.927793, step = 19901 (0.234 sec)\n",
      "INFO:tensorflow:Saving checkpoints for 20000 into /var/folders/19/1dxjj_9j4_zgswcbzb_njt6r0000gn/T/tmpityn7vgk/model.ckpt.\n",
      "INFO:tensorflow:Loss for final step: 7.3103347.\n"
     ]
    },
    {
     "data": {
      "text/plain": [
       "<tensorflow.python.estimator.canned.dnn.DNNRegressor at 0x1a215df128>"
      ]
     },
     "execution_count": 22,
     "metadata": {},
     "output_type": "execute_result"
    }
   ],
   "source": [
    "import tensorflow as tf\n",
    "\n",
    "\n",
    "x_feat = tf.feature_column.numeric_column('x', shape = [1])\n",
    "\n",
    "regressor = tf.estimator.DNNRegressor(hidden_units = [20, 20, 20, 20, 20, 20, 20, 20], feature_columns = [x_feat], \n",
    "                                      optimizer = tf.train.AdamOptimizer(learning_rate = 0.001), \n",
    "                                      activation_fn = tf.nn.relu)\n",
    "\n",
    "input_func = tf.estimator.inputs.numpy_input_fn(x = {'x': x_train}, y = y_train, batch_size = 20, \n",
    "                                                num_epochs = 600, shuffle = True)\n",
    "\n",
    "## train the model\n",
    "regressor.train(input_fn = input_func, steps = 20000)"
   ]
  },
  {
   "cell_type": "code",
   "execution_count": 23,
   "metadata": {},
   "outputs": [
    {
     "name": "stdout",
     "output_type": "stream",
     "text": [
      "INFO:tensorflow:Restoring parameters from /var/folders/19/1dxjj_9j4_zgswcbzb_njt6r0000gn/T/tmpityn7vgk/model.ckpt-20000\n"
     ]
    }
   ],
   "source": [
    "# make predictions\n",
    "eval_input = tf.estimator.inputs.numpy_input_fn(x = {'x': x_test}, shuffle = False)\n",
    "prediction = list(regressor.predict(eval_input))\n",
    "\n",
    "pred_val = [pred['predictions'] for pred in prediction]"
   ]
  },
  {
   "cell_type": "code",
   "execution_count": 24,
   "metadata": {},
   "outputs": [
    {
     "data": {
      "text/plain": [
       "<matplotlib.legend.Legend at 0x181d13c080>"
      ]
     },
     "execution_count": 24,
     "metadata": {},
     "output_type": "execute_result"
    },
    {
     "data": {
      "image/png": "[encoded data removed]",
      "text/plain": [
       "<matplotlib.figure.Figure at 0x1a215df470>"
      ]
     },
     "metadata": {},
     "output_type": "display_data"
    }
   ],
   "source": [
    "# result comparison\n",
    "plt.plot(x_test, pred_val, '.')\n",
    "plt.plot(x_test, y_test, '+')\n",
    "plt.legend(['DNN', 'Actual Data'])"
   ]
  },
  {
   "cell_type": "markdown",
   "metadata": {},
   "source": [
    "## Classification"
   ]
  },
  {
   "cell_type": "markdown",
   "metadata": {},
   "source": [
    "### Raw data analysis"
   ]
  },
  {
   "cell_type": "code",
   "execution_count": 181,
   "metadata": {},
   "outputs": [
    {
     "name": "stdout",
     "output_type": "stream",
     "text": [
      "Extracting MNIST_data/train-images-idx3-ubyte.gz\n",
      "Extracting MNIST_data/train-labels-idx1-ubyte.gz\n",
      "Extracting MNIST_data/t10k-images-idx3-ubyte.gz\n",
      "Extracting MNIST_data/t10k-labels-idx1-ubyte.gz\n"
     ]
    }
   ],
   "source": [
    "from tensorflow.examples.tutorials.mnist import input_data\n",
    "mnist = input_data.read_data_sets(\"MNIST_data/\",one_hot=True)"
   ]
  },
  {
   "cell_type": "code",
   "execution_count": 182,
   "metadata": {},
   "outputs": [
    {
     "data": {
      "text/plain": [
       "tensorflow.contrib.learn.python.learn.datasets.base.Datasets"
      ]
     },
     "execution_count": 182,
     "metadata": {},
     "output_type": "execute_result"
    }
   ],
   "source": [
    "type(mnist)"
   ]
  },
  {
   "cell_type": "code",
   "execution_count": 183,
   "metadata": {},
   "outputs": [
    {
     "data": {
      "text/plain": [
       "array([[0., 0., 0., ..., 0., 0., 0.],\n",
       "       [0., 0., 0., ..., 0., 0., 0.],\n",
       "       [0., 0., 0., ..., 0., 0., 0.],\n",
       "       ...,\n",
       "       [0., 0., 0., ..., 0., 0., 0.],\n",
       "       [0., 0., 0., ..., 0., 0., 0.],\n",
       "       [0., 0., 0., ..., 0., 0., 0.]], dtype=float32)"
      ]
     },
     "execution_count": 183,
     "metadata": {},
     "output_type": "execute_result"
    }
   ],
   "source": [
    "mnist.train.images"
   ]
  },
  {
   "cell_type": "code",
   "execution_count": 184,
   "metadata": {},
   "outputs": [
    {
     "data": {
      "text/plain": [
       "array([[0., 0., 0., ..., 0., 0., 0.],\n",
       "       [0., 0., 0., ..., 0., 0., 0.],\n",
       "       [0., 0., 0., ..., 0., 0., 0.],\n",
       "       ...,\n",
       "       [0., 0., 0., ..., 0., 0., 0.],\n",
       "       [0., 0., 0., ..., 0., 0., 0.],\n",
       "       [0., 0., 0., ..., 0., 0., 0.]], dtype=float32)"
      ]
     },
     "execution_count": 184,
     "metadata": {},
     "output_type": "execute_result"
    }
   ],
   "source": [
    "mnist.test.images"
   ]
  },
  {
   "cell_type": "code",
   "execution_count": 185,
   "metadata": {},
   "outputs": [
    {
     "data": {
      "text/plain": [
       "55000"
      ]
     },
     "execution_count": 185,
     "metadata": {},
     "output_type": "execute_result"
    }
   ],
   "source": [
    "mnist.train.num_examples"
   ]
  },
  {
   "cell_type": "code",
   "execution_count": 186,
   "metadata": {},
   "outputs": [
    {
     "data": {
      "text/plain": [
       "10000"
      ]
     },
     "execution_count": 186,
     "metadata": {},
     "output_type": "execute_result"
    }
   ],
   "source": [
    "mnist.test.num_examples"
   ]
  },
  {
   "cell_type": "markdown",
   "metadata": {},
   "source": [
    "### Image visualization"
   ]
  },
  {
   "cell_type": "code",
   "execution_count": 187,
   "metadata": {},
   "outputs": [
    {
     "data": {
      "text/plain": [
       "(784,)"
      ]
     },
     "execution_count": 187,
     "metadata": {},
     "output_type": "execute_result"
    }
   ],
   "source": [
    "import matplotlib.pyplot as plt\n",
    "%matplotlib inline\n",
    "\n",
    "mnist.train.images[1].shape"
   ]
  },
  {
   "cell_type": "code",
   "execution_count": 188,
   "metadata": {},
   "outputs": [
    {
     "data": {
      "text/plain": [
       "<matplotlib.image.AxesImage at 0x2ad1030a550>"
      ]
     },
     "execution_count": 188,
     "metadata": {},
     "output_type": "execute_result"
    },
    {
     "data": {
      "image/png": "[encoded data removed]",
      "text/plain": [
       "<matplotlib.figure.Figure at 0x2ad10bc8358>"
      ]
     },
     "metadata": {},
     "output_type": "display_data"
    }
   ],
   "source": [
    "plt.imshow(np.reshape(mnist.train.images[1], newshape=(28, 28)))"
   ]
  },
  {
   "cell_type": "code",
   "execution_count": 189,
   "metadata": {},
   "outputs": [
    {
     "data": {
      "text/plain": [
       "<matplotlib.image.AxesImage at 0x2ad10cf0668>"
      ]
     },
     "execution_count": 189,
     "metadata": {},
     "output_type": "execute_result"
    },
    {
     "data": {
      "image/png": "[encoded data removed]",
      "text/plain": [
       "<matplotlib.figure.Figure at 0x2ad106dd390>"
      ]
     },
     "metadata": {},
     "output_type": "display_data"
    }
   ],
   "source": [
    "plt.imshow(mnist.train.images[4].reshape(28,28),cmap='gist_gray')"
   ]
  },
  {
   "cell_type": "markdown",
   "metadata": {},
   "source": [
    "### Create CNN model"
   ]
  },
  {
   "cell_type": "code",
   "execution_count": 198,
   "metadata": {},
   "outputs": [],
   "source": [
    "x = tf.placeholder(tf.float32, shape = [None, 784])\n",
    "y_true = tf.placeholder(tf.float32, shape = [None, 10])"
   ]
  },
  {
   "cell_type": "code",
   "execution_count": 199,
   "metadata": {},
   "outputs": [],
   "source": [
    "## create convolutional neural network\n",
    "def init_weights(shape):\n",
    "    init_random_dist = tf.truncated_normal(shape, stddev=0.1)\n",
    "    return tf.Variable(init_random_dist)\n",
    "\n",
    "def init_bias(shape):\n",
    "    init_bias_vals = tf.constant(0.1, shape=shape)\n",
    "    return tf.Variable(init_bias_vals)"
   ]
  },
  {
   "cell_type": "markdown",
   "metadata": {},
   "source": [
    "Create a 2D convolution using built-in conv2d from tensorflow.\n",
    "\n",
    "Computes a 2-D convolution given 4-D input and filter tensors.\n",
    "\n",
    "Given an input tensor of shape `[batch, in_height, in_width, in_channels]` and a filter / kernel tensor of shape `[filter_height, filter_width, in_channels, out_channels]`, this operation performs the following:\n",
    "\n",
    "1. Flattens the filter to a 2-D matrix with shape `[filter_height * filter_width * in_channels, output_channels]`.\n",
    "2. Extracts image patches from the input tensor to form a *virtual* tensor of shape `[batch, out_height, out_width,     filter_height * filter_width * in_channels]`.\n",
    "3. For each patch, right-multiplies the filter matrix and the image patch vector."
   ]
  },
  {
   "cell_type": "code",
   "execution_count": null,
   "metadata": {},
   "outputs": [],
   "source": [
    "def conv2d(x, W):\n",
    "    return tf.nn.conv2d(x, W, strides=[1, 1, 1, 1], padding='SAME')\n",
    "\n",
    "def max_pool_2by2(x):\n",
    "    return tf.nn.max_pool(x, ksize=[1, 2, 2, 1], strides=[1, 2, 2, 1], padding='SAME')\n",
    "\n",
    "def convolutional_layer(input_x, shape):\n",
    "    W = init_weights(shape)\n",
    "    b = init_bias([shape[3]])\n",
    "    return tf.nn.relu(conv2d(input_x, W) + b)\n",
    "\n",
    "def normal_full_layer(input_layer, size):\n",
    "    input_size = int(input_layer.get_shape()[1])\n",
    "    W = init_weights([input_size, size])\n",
    "    b = init_bias([size])\n",
    "    return tf.matmul(input_layer, W) + b"
   ]
  },
  {
   "cell_type": "code",
   "execution_count": 206,
   "metadata": {},
   "outputs": [],
   "source": [
    "x_image = tf.reshape(x, [-1,28,28,1])\n",
    "\n",
    "# Using a 6by6 filter here, you can play around with the filter size\n",
    "# You can change the 32 output, that essentially represents the amount of filters used\n",
    "# You need to pass in 32 to the next input though, the 1 comes from the original input of \n",
    "# a single image.\n",
    "convo_1 = convolutional_layer(x_image, shape=[6,6,1,32])\n",
    "convo_1_pooling = max_pool_2by2(convo_1)\n",
    "\n",
    "\n",
    "# Using a 6by6 filter here, used 5by5 in video, you can play around with the filter size\n",
    "# You can actually change the 64 output if you want, you can think of that as a representation\n",
    "# of the amount of 6by6 filters used.\n",
    "convo_2 = convolutional_layer(convo_1_pooling,shape=[6,6,32,64])\n",
    "convo_2_pooling = max_pool_2by2(convo_2)\n",
    "\n",
    "\n",
    "# Why 7 by 7 image? Because we did 2 pooling layers, so (28/2)/2 = 7\n",
    "# 64 then just comes from the output of the previous convolution\n",
    "convo_2_flat = tf.reshape(convo_2_pooling,[-1,7*7*64])\n",
    "full_layer_one = tf.nn.relu(normal_full_layer(convo_2_flat,1024))\n",
    "\n",
    "\n",
    "# NOTE THE PLACEHOLDER HERE!\n",
    "hold_prob = tf.placeholder(tf.float32)\n",
    "full_one_dropout = tf.nn.dropout(full_layer_one,keep_prob=hold_prob)\n",
    "\n",
    "y_pred = normal_full_layer(full_one_dropout, 10)"
   ]
  },
  {
   "cell_type": "markdown",
   "metadata": {},
   "source": [
    "## Loss function"
   ]
  },
  {
   "cell_type": "code",
   "execution_count": 207,
   "metadata": {},
   "outputs": [],
   "source": [
    "cross_entropy = tf.reduce_mean(tf.nn.softmax_cross_entropy_with_logits(labels=y_true,logits=y_pred))"
   ]
  },
  {
   "cell_type": "markdown",
   "metadata": {},
   "source": [
    "## Optimizer"
   ]
  },
  {
   "cell_type": "code",
   "execution_count": 208,
   "metadata": {},
   "outputs": [],
   "source": [
    "optimizer = tf.train.AdamOptimizer(learning_rate=0.0001)\n",
    "train = optimizer.minimize(cross_entropy)"
   ]
  },
  {
   "cell_type": "markdown",
   "metadata": {},
   "source": [
    "## Init gloabl variables"
   ]
  },
  {
   "cell_type": "code",
   "execution_count": 203,
   "metadata": {},
   "outputs": [],
   "source": [
    "init = tf.global_variables_initializer()"
   ]
  },
  {
   "cell_type": "code",
   "execution_count": 205,
   "metadata": {},
   "outputs": [
    {
     "name": "stdout",
     "output_type": "stream",
     "text": [
      "Currently on step 0\n",
      "Accuracy is:\n",
      "0.1038\n",
      "\n",
      "\n",
      "Currently on step 100\n",
      "Accuracy is:\n",
      "0.8529\n",
      "\n",
      "\n",
      "Currently on step 200\n",
      "Accuracy is:\n",
      "0.913\n",
      "\n",
      "\n",
      "Currently on step 300\n",
      "Accuracy is:\n",
      "0.9284\n",
      "\n",
      "\n",
      "Currently on step 400\n",
      "Accuracy is:\n",
      "0.9418\n",
      "\n",
      "\n",
      "Currently on step 500\n",
      "Accuracy is:\n",
      "0.9508\n",
      "\n",
      "\n",
      "Currently on step 600\n",
      "Accuracy is:\n",
      "0.949\n",
      "\n",
      "\n",
      "Currently on step 700\n",
      "Accuracy is:\n",
      "0.9562\n",
      "\n",
      "\n",
      "Currently on step 800\n",
      "Accuracy is:\n",
      "0.9595\n",
      "\n",
      "\n",
      "Currently on step 900\n",
      "Accuracy is:\n",
      "0.9648\n",
      "\n",
      "\n",
      "Currently on step 1000\n",
      "Accuracy is:\n",
      "0.9665\n",
      "\n",
      "\n",
      "Currently on step 1100\n",
      "Accuracy is:\n",
      "0.9672\n",
      "\n",
      "\n",
      "Currently on step 1200\n",
      "Accuracy is:\n",
      "0.9701\n",
      "\n",
      "\n",
      "Currently on step 1300\n",
      "Accuracy is:\n",
      "0.9718\n",
      "\n",
      "\n",
      "Currently on step 1400\n",
      "Accuracy is:\n",
      "0.9738\n",
      "\n",
      "\n",
      "Currently on step 1500\n",
      "Accuracy is:\n",
      "0.9736\n",
      "\n",
      "\n",
      "Currently on step 1600\n",
      "Accuracy is:\n",
      "0.9758\n",
      "\n",
      "\n",
      "Currently on step 1700\n",
      "Accuracy is:\n",
      "0.976\n",
      "\n",
      "\n",
      "Currently on step 1800\n",
      "Accuracy is:\n",
      "0.9766\n",
      "\n",
      "\n",
      "Currently on step 1900\n",
      "Accuracy is:\n",
      "0.9751\n",
      "\n",
      "\n",
      "Currently on step 2000\n",
      "Accuracy is:\n",
      "0.9767\n",
      "\n",
      "\n",
      "Currently on step 2100\n",
      "Accuracy is:\n",
      "0.9788\n",
      "\n",
      "\n",
      "Currently on step 2200\n",
      "Accuracy is:\n",
      "0.9766\n",
      "\n",
      "\n",
      "Currently on step 2300\n",
      "Accuracy is:\n",
      "0.9793\n",
      "\n",
      "\n",
      "Currently on step 2400\n",
      "Accuracy is:\n",
      "0.98\n",
      "\n",
      "\n",
      "Currently on step 2500\n",
      "Accuracy is:\n",
      "0.9789\n",
      "\n",
      "\n",
      "Currently on step 2600\n",
      "Accuracy is:\n",
      "0.9798\n",
      "\n",
      "\n",
      "Currently on step 2700\n",
      "Accuracy is:\n",
      "0.9807\n",
      "\n",
      "\n",
      "Currently on step 2800\n",
      "Accuracy is:\n",
      "0.9818\n",
      "\n",
      "\n",
      "Currently on step 2900\n",
      "Accuracy is:\n",
      "0.9841\n",
      "\n",
      "\n",
      "Currently on step 3000\n",
      "Accuracy is:\n",
      "0.9815\n",
      "\n",
      "\n",
      "Currently on step 3100\n",
      "Accuracy is:\n",
      "0.9842\n",
      "\n",
      "\n",
      "Currently on step 3200\n",
      "Accuracy is:\n",
      "0.9843\n",
      "\n",
      "\n",
      "Currently on step 3300\n",
      "Accuracy is:\n",
      "0.9849\n",
      "\n",
      "\n",
      "Currently on step 3400\n",
      "Accuracy is:\n",
      "0.9839\n",
      "\n",
      "\n",
      "Currently on step 3500\n",
      "Accuracy is:\n",
      "0.9849\n",
      "\n",
      "\n",
      "Currently on step 3600\n",
      "Accuracy is:\n",
      "0.9844\n",
      "\n",
      "\n",
      "Currently on step 3700\n",
      "Accuracy is:\n",
      "0.9833\n",
      "\n",
      "\n",
      "Currently on step 3800\n",
      "Accuracy is:\n",
      "0.9853\n",
      "\n",
      "\n",
      "Currently on step 3900\n",
      "Accuracy is:\n",
      "0.9843\n",
      "\n",
      "\n"
     ]
    }
   ],
   "source": [
    "steps = 4000\n",
    "\n",
    "with tf.Session() as sess:\n",
    "    \n",
    "    sess.run(init)\n",
    "    \n",
    "    for i in range(steps):\n",
    "        \n",
    "        batch_x , batch_y = mnist.train.next_batch(50)\n",
    "        \n",
    "        sess.run(train,feed_dict={x:batch_x, y_true:batch_y, hold_prob:0.5})\n",
    "        \n",
    "        # PRINT OUT A MESSAGE EVERY 100 STEPS\n",
    "        if i%100 == 0:\n",
    "            \n",
    "            print('Currently on step {}'.format(i))\n",
    "            print('Accuracy is:')\n",
    "            \n",
    "            # Test the Train Model\n",
    "            matches = tf.equal(tf.argmax(y_pred,1),tf.argmax(y_true,1))\n",
    "\n",
    "            acc = tf.reduce_mean(tf.cast(matches, tf.float32))\n",
    "\n",
    "            print(sess.run(acc, feed_dict={x:mnist.test.images, y_true:mnist.test.labels, hold_prob:1.0}))\n",
    "            print('\\n')"
   ]
  },
  {
   "cell_type": "code",
   "execution_count": null,
   "metadata": {},
   "outputs": [],
   "source": []
  }
 ],
 "metadata": {
  "kernelspec": {
   "display_name": "Python 3",
   "language": "python",
   "name": "python3"
  },
  "language_info": {
   "codemirror_mode": {
    "name": "ipython",
    "version": 3
   },
   "file_extension": ".py",
   "mimetype": "text/x-python",
   "name": "python",
   "nbconvert_exporter": "python",
   "pygments_lexer": "ipython3",
   "version": "3.6.4"
  }
 },
 "nbformat": 4,
 "nbformat_minor": 2
}
